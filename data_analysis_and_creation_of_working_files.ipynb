{
 "cells": [
  {
   "cell_type": "code",
   "execution_count": 2,
   "metadata": {
    "id": "D3U7TpL6QyXH"
   },
   "outputs": [],
   "source": [
    "# загрузка необходимых библиотек\n",
    "import pandas as pd\n",
    "import matplotlib.pyplot as plt\n",
    "import matplotlib.colors as mcolors\n",
    "import glob\n",
    "import shutil"
   ]
  },
  {
   "cell_type": "code",
   "execution_count": 2,
   "metadata": {
    "id": "9LNJIxzUEzaO"
   },
   "outputs": [],
   "source": [
    "# загрузка csv-файла с ссылками на изображения в датафрейм\n",
    "df = pd.read_csv('train.csv', index_col = 0)"
   ]
  },
  {
   "cell_type": "code",
   "execution_count": 5,
   "metadata": {
    "colab": {
     "base_uri": "https://localhost:8080/",
     "height": 206
    },
    "executionInfo": {
     "elapsed": 304,
     "status": "ok",
     "timestamp": 1668877568636,
     "user": {
      "displayName": "engener64@yandex.ru",
      "userId": "06978561127052537462"
     },
     "user_tz": -240
    },
    "id": "xhgLk5AVKce5",
    "outputId": "8fc8f320-26c9-4e2e-f099-59fef3de7a59"
   },
   "outputs": [
    {
     "data": {
      "text/html": [
       "<div>\n",
       "<style scoped>\n",
       "    .dataframe tbody tr th:only-of-type {\n",
       "        vertical-align: middle;\n",
       "    }\n",
       "\n",
       "    .dataframe tbody tr th {\n",
       "        vertical-align: top;\n",
       "    }\n",
       "\n",
       "    .dataframe thead th {\n",
       "        text-align: right;\n",
       "    }\n",
       "</style>\n",
       "<table border=\"1\" class=\"dataframe\">\n",
       "  <thead>\n",
       "    <tr style=\"text-align: right;\">\n",
       "      <th></th>\n",
       "      <th>image_path</th>\n",
       "      <th>emotion</th>\n",
       "    </tr>\n",
       "  </thead>\n",
       "  <tbody>\n",
       "    <tr>\n",
       "      <th>0</th>\n",
       "      <td>./train/anger/0.jpg</td>\n",
       "      <td>anger</td>\n",
       "    </tr>\n",
       "    <tr>\n",
       "      <th>1</th>\n",
       "      <td>./train/anger/1.jpg</td>\n",
       "      <td>anger</td>\n",
       "    </tr>\n",
       "    <tr>\n",
       "      <th>2</th>\n",
       "      <td>./train/anger/10.jpg</td>\n",
       "      <td>anger</td>\n",
       "    </tr>\n",
       "    <tr>\n",
       "      <th>3</th>\n",
       "      <td>./train/anger/100.jpg</td>\n",
       "      <td>anger</td>\n",
       "    </tr>\n",
       "    <tr>\n",
       "      <th>4</th>\n",
       "      <td>./train/anger/1000.jpg</td>\n",
       "      <td>anger</td>\n",
       "    </tr>\n",
       "  </tbody>\n",
       "</table>\n",
       "</div>"
      ],
      "text/plain": [
       "               image_path emotion\n",
       "0     ./train/anger/0.jpg   anger\n",
       "1     ./train/anger/1.jpg   anger\n",
       "2    ./train/anger/10.jpg   anger\n",
       "3   ./train/anger/100.jpg   anger\n",
       "4  ./train/anger/1000.jpg   anger"
      ]
     },
     "execution_count": 5,
     "metadata": {},
     "output_type": "execute_result"
    }
   ],
   "source": [
    "df.head()"
   ]
  },
  {
   "cell_type": "code",
   "execution_count": 6,
   "metadata": {
    "colab": {
     "base_uri": "https://localhost:8080/"
    },
    "executionInfo": {
     "elapsed": 343,
     "status": "ok",
     "timestamp": 1660068172935,
     "user": {
      "displayName": "engener64@yandex.ru",
      "userId": "06978561127052537462"
     },
     "user_tz": -240
    },
    "id": "lTAnXw87Ki55",
    "outputId": "bc4175f8-c856-43ec-9bc0-3804c5e7ea13"
   },
   "outputs": [
    {
     "data": {
      "text/plain": [
       "anger        7022\n",
       "neutral      6795\n",
       "sad          6740\n",
       "surprise     6323\n",
       "happy        5955\n",
       "uncertain    5927\n",
       "fear         5044\n",
       "disgust      3155\n",
       "contempt     3085\n",
       "Name: emotion, dtype: int64"
      ]
     },
     "execution_count": 6,
     "metadata": {},
     "output_type": "execute_result"
    }
   ],
   "source": [
    "# распределение изображений по эмоциям\n",
    "df.emotion.value_counts()"
   ]
  },
  {
   "cell_type": "code",
   "execution_count": 7,
   "metadata": {
    "colab": {
     "base_uri": "https://localhost:8080/",
     "height": 310
    },
    "executionInfo": {
     "elapsed": 502,
     "status": "ok",
     "timestamp": 1660068189984,
     "user": {
      "displayName": "engener64@yandex.ru",
      "userId": "06978561127052537462"
     },
     "user_tz": -240
    },
    "id": "BNDTay_1xnsn",
    "outputId": "1a875b54-ed3c-4b28-f049-dc70a8f2a39d"
   },
   "outputs": [
    {
     "data": {
      "image/png": "[encoded data removed]",
      "text/plain": [
       "<Figure size 640x480 with 1 Axes>"
      ]
     },
     "metadata": {},
     "output_type": "display_data"
    }
   ],
   "source": [
    "_ = plt.bar(df.emotion.value_counts().index, height=df.emotion.value_counts())\n",
    "_ = plt.xticks(rotation=45)\n",
    "_ = plt.xlabel('Emotion')"
   ]
  },
  {
   "cell_type": "code",
   "execution_count": 8,
   "metadata": {
    "colab": {
     "base_uri": "https://localhost:8080/"
    },
    "executionInfo": {
     "elapsed": 303,
     "status": "ok",
     "timestamp": 1668880516223,
     "user": {
      "displayName": "engener64@yandex.ru",
      "userId": "06978561127052537462"
     },
     "user_tz": -240
    },
    "id": "BprWowE_veDG",
    "outputId": "18bd3fb6-2245-4fdb-a466-1765b8562341"
   },
   "outputs": [
    {
     "data": {
      "text/plain": [
       "{0: 'anger',\n",
       " 1: 'contempt',\n",
       " 2: 'disgust',\n",
       " 3: 'fear',\n",
       " 4: 'happy',\n",
       " 5: 'neutral',\n",
       " 6: 'sad',\n",
       " 7: 'surprise',\n",
       " 8: 'uncertain'}"
      ]
     },
     "execution_count": 8,
     "metadata": {},
     "output_type": "execute_result"
    }
   ],
   "source": [
    "# создание словаря эмоций\n",
    "emotion_mapping = {i : char for i,char in enumerate(df.emotion.unique())}\n",
    "emotion_mapping"
   ]
  },
  {
   "cell_type": "code",
   "execution_count": 3,
   "metadata": {},
   "outputs": [
    {
     "data": {
      "text/plain": [
       "{'anger': [180, 119, 31],\n",
       " 'contempt': [14, 127, 255],\n",
       " 'disgust': [44, 160, 44],\n",
       " 'fear': [40, 39, 214],\n",
       " 'happy': [189, 103, 148],\n",
       " 'neutral': [75, 86, 140],\n",
       " 'sad': [194, 119, 227],\n",
       " 'surprise': [127, 127, 127],\n",
       " 'uncertain': [34, 189, 188]}"
      ]
     },
     "execution_count": 3,
     "metadata": {},
     "output_type": "execute_result"
    }
   ],
   "source": [
    "# создание списка для создания словаря цветов\n",
    "bgr_list = []\n",
    "for col in mcolors.TABLEAU_COLORS.values():\n",
    "    r, g, b  = mcolors.to_rgb(col) \n",
    "    bgr_list.append([int(b*255), int(g*255), int(r*255)])\n",
    "    bgr_list = bgr_list[:9]\n",
    "\n",
    "# создание словаря цветов для выделения эмоций \n",
    "BGR_dict = {key : bgr_list[i] for i, key in enumerate(df.emotion.unique())}\n",
    "BGR_dict"
   ]
  },
  {
   "cell_type": "code",
   "execution_count": 9,
   "metadata": {
    "id": "MBevs4dqrq6v"
   },
   "outputs": [],
   "source": [
    "# запись файлов словарей эмоций и их цветов\n",
    "def save_dict_to_file(dic, path):\n",
    "    f = open(path,'w')\n",
    "    f.write(str(dic))\n",
    "    f.close()\n",
    "\n",
    "save_dict_to_file(emotion_mapping, 'dict.txt')\n",
    "save_dict_to_file(BGR_dict, 'BGR_dict.txt')"
   ]
  },
  {
   "cell_type": "code",
   "execution_count": null,
   "metadata": {
    "id": "N1jzlSTdD5gz"
   },
   "outputs": [],
   "source": [
    "# разделение датафрейма на обучающую и валидационную части\n",
    "train_df = df.sample(frac=0.8,random_state=200)\n",
    "test_df = df.drop(train_df.index)"
   ]
  },
  {
   "cell_type": "code",
   "execution_count": null,
   "metadata": {
    "id": "AYRs-OFvFrPG"
   },
   "outputs": [],
   "source": [
    "# запись частей в csv-файлы\n",
    "train_df.to_csv('train_df.csv') \n",
    "test_df.to_csv('test_df.csv')"
   ]
  },
  {
   "cell_type": "code",
   "execution_count": 11,
   "metadata": {
    "id": "RTA7JN5kcFvx"
   },
   "outputs": [],
   "source": [
    "# создание списка для структруированного по заданию итогового csv-файла \n",
    "list_1 = glob.glob('test_kaggle/?.jpg')\n",
    "list_2 = glob.glob('test_kaggle/??.jpg')\n",
    "list_3 = glob.glob('test_kaggle/???.jpg')\n",
    "list_4 = glob.glob('test_kaggle/????.jpg')\n",
    "list_1.sort()\n",
    "list_2.sort()\n",
    "list_3.sort()\n",
    "list_4.sort()\n",
    "my_list = list_1 + list_2 + list_3 + list_4"
   ]
  },
  {
   "cell_type": "code",
   "execution_count": 12,
   "metadata": {
    "id": "n8wxtzetKKRR"
   },
   "outputs": [],
   "source": [
    "# запись списка в файл\n",
    "def save_list_to_file(lst, path):\n",
    "    f = open(path,'w')\n",
    "    f.write(str(lst))\n",
    "    f.close()\n",
    "\n",
    "save_list_to_file(my_list, 'test_list.txt')"
   ]
  },
  {
   "cell_type": "code",
   "execution_count": 3,
   "metadata": {},
   "outputs": [],
   "source": [
    "# распаковка архива с изображениями для обучения\n",
    "shutil.unpack_archive('train.zip')"
   ]
  },
  {
   "cell_type": "code",
   "execution_count": 4,
   "metadata": {},
   "outputs": [],
   "source": [
    "# распаковка архива с изображениями для теста\n",
    "shutil.unpack_archive('test_kaggle.zip')"
   ]
  },
  {
   "cell_type": "code",
   "execution_count": null,
   "metadata": {},
   "outputs": [],
   "source": []
  }
 ],
 "metadata": {
  "colab": {
   "authorship_tag": "ABX9TyPu9+Us/QIM41L9cfTeNKwT",
   "mount_file_id": "1LFf-jlbiosx-8EmBLrCLerjasyvizGkR",
   "provenance": []
  },
  "gpuClass": "standard",
  "kernelspec": {
   "display_name": "Python 3 (ipykernel)",
   "language": "python",
   "name": "python3"
  },
  "language_info": {
   "codemirror_mode": {
    "name": "ipython",
    "version": 3
   },
   "file_extension": ".py",
   "mimetype": "text/x-python",
   "name": "python",
   "nbconvert_exporter": "python",
   "pygments_lexer": "ipython3",
   "version": "3.9.13"
  }
 },
 "nbformat": 4,
 "nbformat_minor": 1
}
