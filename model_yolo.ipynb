{
 "cells": [
  {
   "cell_type": "code",
   "execution_count": 2,
   "metadata": {
    "execution": {
     "iopub.execute_input": "2022-11-05T09:24:20.885587Z",
     "iopub.status.busy": "2022-11-05T09:24:20.885186Z",
     "iopub.status.idle": "2022-11-05T09:24:25.776160Z",
     "shell.execute_reply": "2022-11-05T09:24:25.775220Z",
     "shell.execute_reply.started": "2022-11-05T09:24:20.885525Z"
    },
    "executionInfo": {
     "elapsed": 5016,
     "status": "ok",
     "timestamp": 1671372253462,
     "user": {
      "displayName": "engener64@yandex.ru",
      "userId": "06978561127052537462"
     },
     "user_tz": -240
    },
    "id": "UZygPFrd6z2v"
   },
   "outputs": [],
   "source": [
    "# установка необходимых библиотек\n",
    "import matplotlib.pyplot as plt\n",
    "import numpy as np\n",
    "import csv\n",
    "import time\n",
    "import requests\n",
    "import pandas as pd\n",
    "from pathlib import Path\n",
    "import tensorflow as tf\n",
    "from tensorflow import keras\n",
    "from livelossplot.tf_keras import PlotLossesCallback\n",
    "from tensorflow.keras.preprocessing.image import ImageDataGenerator\n",
    "from tensorflow.keras.preprocessing import image\n",
    "from keras.callbacks import ModelCheckpoint\n",
    "\n",
    "# вывод графика и сохранение в ноутбуке\n",
    "%matplotlib inline"
   ]
  },
  {
   "cell_type": "code",
   "execution_count": null,
   "metadata": {
    "execution": {
     "iopub.execute_input": "2022-11-05T09:24:29.505970Z",
     "iopub.status.busy": "2022-11-05T09:24:29.505368Z",
     "iopub.status.idle": "2022-11-05T09:24:29.515565Z",
     "shell.execute_reply": "2022-11-05T09:24:29.514585Z",
     "shell.execute_reply.started": "2022-11-05T09:24:29.505935Z"
    },
    "id": "4U18_Ol-6z2y",
    "outputId": "feabb89d-c8c0-471f-ad6e-fabac00034b0"
   },
   "outputs": [
    {
     "data": {
      "text/plain": [
       "'2.6.4'"
      ]
     },
     "execution_count": 3,
     "metadata": {},
     "output_type": "execute_result"
    }
   ],
   "source": [
    "# рабочая версия tensorflow\n",
    "tf.__version__"
   ]
  },
  {
   "cell_type": "code",
   "execution_count": 4,
   "metadata": {
    "_cell_guid": "b1076dfc-b9ad-4769-8c92-a6c4dae69d19",
    "_uuid": "8f2839f25d086af736a60e9eeb907d3b93b6e0e5",
    "execution": {
     "iopub.execute_input": "2022-11-05T09:24:39.323677Z",
     "iopub.status.busy": "2022-11-05T09:24:39.323296Z",
     "iopub.status.idle": "2022-11-05T09:24:39.414719Z",
     "shell.execute_reply": "2022-11-05T09:24:39.413752Z",
     "shell.execute_reply.started": "2022-11-05T09:24:39.323643Z"
    },
    "executionInfo": {
     "elapsed": 1639,
     "status": "ok",
     "timestamp": 1671372414654,
     "user": {
      "displayName": "engener64@yandex.ru",
      "userId": "06978561127052537462"
     },
     "user_tz": -240
    },
    "id": "4w6-_LVc6z21"
   },
   "outputs": [],
   "source": [
    "# загрузка обучающего и валидационного датафреймов из csv-файлов\n",
    "train_df = pd.read_csv('train_df.csv', index_col = 0) \n",
    "test_df = pd.read_csv('test_df.csv', index_col = 0)"
   ]
  },
  {
   "cell_type": "code",
   "execution_count": 5,
   "metadata": {
    "colab": {
     "base_uri": "https://localhost:8080/"
    },
    "execution": {
     "iopub.execute_input": "2022-11-05T09:24:43.342029Z",
     "iopub.status.busy": "2022-11-05T09:24:43.341587Z",
     "iopub.status.idle": "2022-11-05T09:24:43.373290Z",
     "shell.execute_reply": "2022-11-05T09:24:43.372259Z",
     "shell.execute_reply.started": "2022-11-05T09:24:43.341991Z"
    },
    "executionInfo": {
     "elapsed": 734,
     "status": "ok",
     "timestamp": 1671372461337,
     "user": {
      "displayName": "engener64@yandex.ru",
      "userId": "06978561127052537462"
     },
     "user_tz": -240
    },
    "id": "kaXvcDW06z23",
    "outputId": "3617e9fa-788a-4068-ce9e-ea47010916a0"
   },
   "outputs": [
    {
     "name": "stdout",
     "output_type": "stream",
     "text": [
      "<class 'pandas.core.frame.DataFrame'>\n",
      "Int64Index: 40037 entries, 46357 to 14269\n",
      "Data columns (total 2 columns):\n",
      " #   Column      Non-Null Count  Dtype \n",
      "---  ------      --------------  ----- \n",
      " 0   image_path  40037 non-null  object\n",
      " 1   emotion     40037 non-null  object\n",
      "dtypes: object(2)\n",
      "memory usage: 938.4+ KB\n"
     ]
    }
   ],
   "source": [
    "train_df.info()"
   ]
  },
  {
   "cell_type": "code",
   "execution_count": 6,
   "metadata": {
    "colab": {
     "base_uri": "https://localhost:8080/"
    },
    "executionInfo": {
     "elapsed": 463,
     "status": "ok",
     "timestamp": 1671372523397,
     "user": {
      "displayName": "engener64@yandex.ru",
      "userId": "06978561127052537462"
     },
     "user_tz": -240
    },
    "id": "Tt41Kl97kDv4",
    "outputId": "92d3b13d-1573-432b-f100-b9419aacd31d"
   },
   "outputs": [
    {
     "name": "stdout",
     "output_type": "stream",
     "text": [
      "<class 'pandas.core.frame.DataFrame'>\n",
      "Int64Index: 10009 entries, 2 to 50040\n",
      "Data columns (total 2 columns):\n",
      " #   Column      Non-Null Count  Dtype \n",
      "---  ------      --------------  ----- \n",
      " 0   image_path  10009 non-null  object\n",
      " 1   emotion     10009 non-null  object\n",
      "dtypes: object(2)\n",
      "memory usage: 234.6+ KB\n"
     ]
    }
   ],
   "source": [
    "test_df.info()"
   ]
  },
  {
   "cell_type": "code",
   "execution_count": 7,
   "metadata": {
    "execution": {
     "iopub.execute_input": "2022-11-05T09:24:50.554565Z",
     "iopub.status.busy": "2022-11-05T09:24:50.554101Z",
     "iopub.status.idle": "2022-11-05T09:24:50.560588Z",
     "shell.execute_reply": "2022-11-05T09:24:50.559590Z",
     "shell.execute_reply.started": "2022-11-05T09:24:50.554508Z"
    },
    "executionInfo": {
     "elapsed": 383,
     "status": "ok",
     "timestamp": 1671372575891,
     "user": {
      "displayName": "engener64@yandex.ru",
      "userId": "06978561127052537462"
     },
     "user_tz": -240
    },
    "id": "5oCCQ4-16z25"
   },
   "outputs": [],
   "source": [
    "# функция препроцессинга \n",
    "def preprocess(img):\n",
    "    image = tf.image.resize(img, [IMAGE_SIZE, IMAGE_SIZE]) / 255\n",
    "    return image"
   ]
  },
  {
   "cell_type": "code",
   "execution_count": 8,
   "metadata": {
    "execution": {
     "iopub.execute_input": "2022-11-05T09:25:03.528594Z",
     "iopub.status.busy": "2022-11-05T09:25:03.528129Z",
     "iopub.status.idle": "2022-11-05T09:25:03.536089Z",
     "shell.execute_reply": "2022-11-05T09:25:03.535166Z",
     "shell.execute_reply.started": "2022-11-05T09:25:03.528555Z"
    },
    "executionInfo": {
     "elapsed": 591,
     "status": "ok",
     "timestamp": 1671372582814,
     "user": {
      "displayName": "engener64@yandex.ru",
      "userId": "06978561127052537462"
     },
     "user_tz": -240
    },
    "id": "oHLmOScf6z28"
   },
   "outputs": [],
   "source": [
    "BATCH_SIZE = 32\n",
    "IMAGE_SIZE = 224\n",
    "N_CLASSES = 9"
   ]
  },
  {
   "cell_type": "code",
   "execution_count": null,
   "metadata": {
    "execution": {
     "iopub.execute_input": "2022-11-05T09:25:11.757874Z",
     "iopub.status.busy": "2022-11-05T09:25:11.756916Z",
     "iopub.status.idle": "2022-11-05T09:27:19.837900Z",
     "shell.execute_reply": "2022-11-05T09:27:19.836868Z",
     "shell.execute_reply.started": "2022-11-05T09:25:11.757830Z"
    },
    "id": "PWuJqxg_6z2-",
    "outputId": "8a8bfead-09c9-40b8-c43d-73b9a9a61915"
   },
   "outputs": [
    {
     "name": "stdout",
     "output_type": "stream",
     "text": [
      "Found 40037 validated image filenames belonging to 9 classes.\n",
      "Found 10009 validated image filenames belonging to 9 classes.\n"
     ]
    }
   ],
   "source": [
    "# генератор обучающих данных с функцией аугментации\n",
    "train_generator = ImageDataGenerator(\n",
    "                                     rotation_range=15,\n",
    "                                     horizontal_flip=True,\n",
    "                                     fill_mode='nearest',\n",
    "                                     brightness_range=(0.5,1.5),\n",
    "                                     shear_range=0.1,\n",
    "                                     zoom_range=.1,\n",
    "                                     preprocessing_function=preprocess\n",
    "                                     )\n",
    "        \n",
    "train_data_gen = train_generator.flow_from_dataframe(dataframe=train_df,\n",
    "                                                     x_col='image_path',\n",
    "                                                     y_col='emotion',\n",
    "                                                     target_size=(IMAGE_SIZE, IMAGE_SIZE),\n",
    "                                                     batch_size=BATCH_SIZE,\n",
    "                                                     class_mode='sparse',\n",
    "                                                     shuffle=True,\n",
    "                                                     interpolation='nearest',\n",
    "                                                    )\n",
    "\n",
    "# генератор валидационных данных \n",
    "val_generator = ImageDataGenerator(preprocessing_function=preprocess)\n",
    "\n",
    "val_data_gen = val_generator.flow_from_dataframe(dataframe=test_df,\n",
    "                                                 x_col='image_path',\n",
    "                                                 y_col='emotion',\n",
    "                                                 target_size=(IMAGE_SIZE, IMAGE_SIZE),\n",
    "                                                 batch_size=BATCH_SIZE,\n",
    "                                                 class_mode='sparse',\n",
    "                                                 shuffle=False,\n",
    "                                                 interpolation='nearest',\n",
    "                                                )"
   ]
  },
  {
   "cell_type": "code",
   "execution_count": null,
   "metadata": {},
   "outputs": [],
   "source": [
    "# загрузка с облачного сервера файлов для создания модели\n",
    "\n",
    "r_h5 = requests.get('https://drive.google.com/uc?export=download&confirm=no_antivirus&id=1Tq5E7z0QwKQ2Hp2s3_awLE0iIQ5LShHn')\n",
    "with open('yolo.h5', 'wb') as file:\n",
    "    file.write(r_h5.content)\n",
    "\n",
    "r_w = requests.get('https://drive.google.com/uc?export=download&confirm=no_antivirus&id=1z4gmGznxM7X-juM08SHQkQhFmyb_JU6w')\n",
    "with open('darknet53_weights.h5', 'wb') as file:\n",
    "    file.write(r_w.content)"
   ]
  },
  {
   "cell_type": "code",
   "execution_count": 9,
   "metadata": {
    "colab": {
     "base_uri": "https://localhost:8080/"
    },
    "execution": {
     "iopub.execute_input": "2022-11-05T09:28:49.763066Z",
     "iopub.status.busy": "2022-11-05T09:28:49.762645Z",
     "iopub.status.idle": "2022-11-05T09:28:57.624312Z",
     "shell.execute_reply": "2022-11-05T09:28:57.623294Z",
     "shell.execute_reply.started": "2022-11-05T09:28:49.763033Z"
    },
    "executionInfo": {
     "elapsed": 9409,
     "status": "ok",
     "timestamp": 1671373295061,
     "user": {
      "displayName": "engener64@yandex.ru",
      "userId": "06978561127052537462"
     },
     "user_tz": -240
    },
    "id": "XJuYVFI-6z3C",
    "outputId": "492d2d18-f378-4b26-b340-05042b116a01"
   },
   "outputs": [
    {
     "name": "stdout",
     "output_type": "stream",
     "text": [
      "WARNING:tensorflow:No training configuration found in the save file, so the model was *not* compiled. Compile it manually.\n"
     ]
    }
   ],
   "source": [
    "# загрузка модели из файла\n",
    "model_yolo = keras.models.load_model('yolo.h5')"
   ]
  },
  {
   "cell_type": "code",
   "execution_count": 10,
   "metadata": {
    "execution": {
     "iopub.execute_input": "2022-11-05T09:28:58.669170Z",
     "iopub.status.busy": "2022-11-05T09:28:58.668451Z",
     "iopub.status.idle": "2022-11-05T09:28:58.687439Z",
     "shell.execute_reply": "2022-11-05T09:28:58.686556Z",
     "shell.execute_reply.started": "2022-11-05T09:28:58.669131Z"
    },
    "executionInfo": {
     "elapsed": 380,
     "status": "ok",
     "timestamp": 1671374018550,
     "user": {
      "displayName": "engener64@yandex.ru",
      "userId": "06978561127052537462"
     },
     "user_tz": -240
    },
    "id": "drRk7eTh6z3E"
   },
   "outputs": [],
   "source": [
    "# сокращение слоев модели для индентичности с обученными весами\n",
    "model_yolo = tf.keras.Model(inputs=model_yolo.input,outputs=model_yolo.get_layer('add_23').output)"
   ]
  },
  {
   "cell_type": "code",
   "execution_count": 11,
   "metadata": {
    "execution": {
     "iopub.execute_input": "2022-11-05T09:29:06.305674Z",
     "iopub.status.busy": "2022-11-05T09:29:06.305277Z",
     "iopub.status.idle": "2022-11-05T09:29:08.892784Z",
     "shell.execute_reply": "2022-11-05T09:29:08.891818Z",
     "shell.execute_reply.started": "2022-11-05T09:29:06.305639Z"
    },
    "executionInfo": {
     "elapsed": 2388,
     "status": "ok",
     "timestamp": 1671374050018,
     "user": {
      "displayName": "engener64@yandex.ru",
      "userId": "06978561127052537462"
     },
     "user_tz": -240
    },
    "id": "FihyNgHT6z3F"
   },
   "outputs": [],
   "source": [
    "# загрузка обученных весов\n",
    "model_yolo.load_weights('darknet53_weights.h5')\n",
    "model_yolo.trainable = False # замораживаем всю базовую модель"
   ]
  },
  {
   "cell_type": "code",
   "execution_count": null,
   "metadata": {
    "execution": {
     "iopub.execute_input": "2022-11-05T09:29:13.772610Z",
     "iopub.status.busy": "2022-11-05T09:29:13.772128Z",
     "iopub.status.idle": "2022-11-05T09:29:14.298630Z",
     "shell.execute_reply": "2022-11-05T09:29:14.297658Z",
     "shell.execute_reply.started": "2022-11-05T09:29:13.772548Z"
    },
    "id": "Nvult5hT6z3H",
    "outputId": "7106c81c-57dd-4d5a-987f-be0c5a496dc2"
   },
   "outputs": [
    {
     "name": "stdout",
     "output_type": "stream",
     "text": [
      "Model: \"sequential\"\n",
      "_________________________________________________________________\n",
      "Layer (type)                 Output Shape              Param #   \n",
      "=================================================================\n",
      "model (Functional)           (None, None, None, 1024)  40620640  \n",
      "_________________________________________________________________\n",
      "flatten (Flatten)            (None, 50176)             0         \n",
      "_________________________________________________________________\n",
      "dense (Dense)                (None, 512)               25690624  \n",
      "_________________________________________________________________\n",
      "dropout (Dropout)            (None, 512)               0         \n",
      "_________________________________________________________________\n",
      "dense_1 (Dense)              (None, 9)                 4617      \n",
      "=================================================================\n",
      "Total params: 66,315,881\n",
      "Trainable params: 25,695,241\n",
      "Non-trainable params: 40,620,640\n",
      "_________________________________________________________________\n"
     ]
    }
   ],
   "source": [
    "# создание модели с дополнительными слоями для решения моей задачи\n",
    "model = tf.keras.Sequential([\n",
    "            tf.keras.layers.InputLayer((IMAGE_SIZE, IMAGE_SIZE, 3)),\n",
    "            model_yolo,\n",
    "            tf.keras.layers.Flatten(),\n",
    "            tf.keras.layers.Dense(512, activation='relu'),\n",
    "            tf.keras.layers.Dropout(0.2),\n",
    "            tf.keras.layers.Dense(N_CLASSES)\n",
    "                            ]\n",
    "                            )\n",
    "model.summary()"
   ]
  },
  {
   "cell_type": "code",
   "execution_count": null,
   "metadata": {
    "execution": {
     "iopub.execute_input": "2022-11-05T09:29:25.108790Z",
     "iopub.status.busy": "2022-11-05T09:29:25.108373Z",
     "iopub.status.idle": "2022-11-05T09:29:25.114899Z",
     "shell.execute_reply": "2022-11-05T09:29:25.113293Z",
     "shell.execute_reply.started": "2022-11-05T09:29:25.108757Z"
    },
    "id": "G4Mgw6dy6z3I"
   },
   "outputs": [],
   "source": [
    "# создание папки модели и имени файла для записи весов во время обучения\n",
    "path = Path('model_yolo')\n",
    "path.mkdir(exist_ok=True, parents=True) # папка создается на диске вместе с \"родителями\"\n",
    "assert path.exists()\n",
    "cpt_filename = 'best_checkpoint.hdf5'  \n",
    "cpt_path = str(path / cpt_filename)"
   ]
  },
  {
   "cell_type": "code",
   "execution_count": null,
   "metadata": {
    "execution": {
     "iopub.execute_input": "2022-11-05T09:29:31.123012Z",
     "iopub.status.busy": "2022-11-05T09:29:31.122492Z",
     "iopub.status.idle": "2022-11-05T09:29:31.129789Z",
     "shell.execute_reply": "2022-11-05T09:29:31.128319Z",
     "shell.execute_reply.started": "2022-11-05T09:29:31.122961Z"
    },
    "id": "kJseK3lJ6z3J"
   },
   "outputs": [],
   "source": [
    "# обратный вызов для сохранения весов модели\n",
    "checkpoint = ModelCheckpoint(cpt_path,\n",
    "                            verbose=1,\n",
    "                            save_best_only=True,\n",
    "                            save_weights_only=True,\n",
    "                            save_freq='epoch',\n",
    "                            mode='min')"
   ]
  },
  {
   "cell_type": "code",
   "execution_count": null,
   "metadata": {
    "execution": {
     "iopub.execute_input": "2022-11-05T09:29:35.926335Z",
     "iopub.status.busy": "2022-11-05T09:29:35.925959Z",
     "iopub.status.idle": "2022-11-05T09:29:35.949130Z",
     "shell.execute_reply": "2022-11-05T09:29:35.948222Z",
     "shell.execute_reply.started": "2022-11-05T09:29:35.926303Z"
    },
    "id": "YRymNjuE6z3K"
   },
   "outputs": [],
   "source": [
    "# функция экспоненциального затухания к шагу оптимизатора с заданной начальной скоростью обучения\n",
    "lr_schedule = tf.keras.optimizers.schedules.ExponentialDecay(\n",
    "    initial_learning_rate=1e-4,\n",
    "    decay_steps=100,\n",
    "    decay_rate=0.9)\n",
    "\n",
    "# настройка модели для обучения\n",
    "model.compile(loss=tf.keras.losses.SparseCategoricalCrossentropy(from_logits=True),\n",
    "              optimizer=tf.keras.optimizers.Adam(learning_rate=lr_schedule),\n",
    "              metrics=[tf.keras.metrics.SparseCategoricalAccuracy()])"
   ]
  },
  {
   "cell_type": "code",
   "execution_count": null,
   "metadata": {
    "execution": {
     "iopub.execute_input": "2022-11-05T09:29:39.855578Z",
     "iopub.status.busy": "2022-11-05T09:29:39.854635Z",
     "iopub.status.idle": "2022-11-05T12:06:10.543773Z",
     "shell.execute_reply": "2022-11-05T12:06:10.542760Z",
     "shell.execute_reply.started": "2022-11-05T09:29:39.855517Z"
    },
    "id": "66W9GbJl6z3M",
    "outputId": "ab187a1c-3514-46f2-8fd9-236ec6d5b3b8"
   },
   "outputs": [
    {
     "data": {
      "image/png": "[encoded data removed]",
      "text/plain": [
       "<Figure size 864x576 with 2 Axes>"
      ]
     },
     "metadata": {
      "needs_background": "light"
     },
     "output_type": "display_data"
    },
    {
     "name": "stdout",
     "output_type": "stream",
     "text": [
      "Loss\n",
      "\ttraining         \t (min:    1.972, max:    2.227, cur:    1.973)\n",
      "\tvalidation       \t (min:    1.961, max:    2.031, cur:    1.961)\n",
      "sparse_categorical_accuracy\n",
      "\ttraining         \t (min:    0.349, max:    0.445, cur:    0.443)\n",
      "\tvalidation       \t (min:    0.427, max:    0.451, cur:    0.451)\n"
     ]
    }
   ],
   "source": [
    "# обучение модели\n",
    "EPOCHS = 10\n",
    "history = model.fit(train_data_gen, epochs=EPOCHS, validation_data=val_data_gen,\n",
    "                    callbacks=[checkpoint,\n",
    "                               PlotLossesCallback()\n",
    "                              ]\n",
    "                    )"
   ]
  },
  {
   "cell_type": "code",
   "execution_count": null,
   "metadata": {
    "execution": {
     "iopub.execute_input": "2022-11-05T12:07:27.222596Z",
     "iopub.status.busy": "2022-11-05T12:07:27.222152Z",
     "iopub.status.idle": "2022-11-05T12:09:49.515694Z",
     "shell.execute_reply": "2022-11-05T12:09:49.514674Z",
     "shell.execute_reply.started": "2022-11-05T12:07:27.222485Z"
    },
    "id": "hhNFsu6W6z3O",
    "outputId": "13e5a538-e8ca-4de4-a87a-6c5a2fb35e04"
   },
   "outputs": [
    {
     "name": "stdout",
     "output_type": "stream",
     "text": [
      "313/313 [==============================] - 98s 312ms/step - loss: 1.9607 - sparse_categorical_accuracy: 0.4508\n"
     ]
    },
    {
     "data": {
      "text/plain": [
       "[1.9606813192367554, 0.4507942795753479]"
      ]
     },
     "execution_count": 19,
     "metadata": {},
     "output_type": "execute_result"
    }
   ],
   "source": [
    "# значение потерь и значения метрики для модели в тестовом режиме\n",
    "model.evaluate(val_data_gen)"
   ]
  },
  {
   "cell_type": "code",
   "execution_count": null,
   "metadata": {
    "execution": {
     "iopub.execute_input": "2022-11-05T12:06:40.040196Z",
     "iopub.status.busy": "2022-11-05T12:06:40.039824Z",
     "iopub.status.idle": "2022-11-05T12:06:40.578529Z",
     "shell.execute_reply": "2022-11-05T12:06:40.577589Z",
     "shell.execute_reply.started": "2022-11-05T12:06:40.040163Z"
    },
    "id": "8iard5UT6z3R"
   },
   "outputs": [],
   "source": [
    "# запись весов модели \n",
    "model.save_weights('model_yolo/weights.h5')"
   ]
  },
  {
   "cell_type": "code",
   "execution_count": null,
   "metadata": {
    "execution": {
     "iopub.execute_input": "2022-11-05T12:25:25.032451Z",
     "iopub.status.busy": "2022-11-05T12:25:25.032089Z",
     "iopub.status.idle": "2022-11-05T12:25:25.113852Z",
     "shell.execute_reply": "2022-11-05T12:25:25.112902Z",
     "shell.execute_reply.started": "2022-11-05T12:25:25.032418Z"
    },
    "id": "hNuBXg-R6z3R"
   },
   "outputs": [],
   "source": [
    "# запись конфигурации модели\n",
    "model_json = model.to_json()\n",
    "with open(\"model_yolo/model.json\",\"w\") as json_file:\n",
    "    json_file.write(model_json)"
   ]
  },
  {
   "cell_type": "code",
   "execution_count": null,
   "metadata": {
    "execution": {
     "iopub.execute_input": "2022-11-05T13:03:24.344074Z",
     "iopub.status.busy": "2022-11-05T13:03:24.343390Z",
     "iopub.status.idle": "2022-11-05T13:03:24.612182Z",
     "shell.execute_reply": "2022-11-05T13:03:24.611206Z",
     "shell.execute_reply.started": "2022-11-05T13:03:24.344037Z"
    },
    "id": "mA19Zo716z3T",
    "outputId": "82a0f6f5-8577-41c1-e00b-9aa42a0a1a60"
   },
   "outputs": [
    {
     "data": {
      "text/plain": [
       "<matplotlib.image.AxesImage at 0x7f71dd3ec410>"
      ]
     },
     "execution_count": 24,
     "metadata": {},
     "output_type": "execute_result"
    },
    {
     "data": {
      "image/png": "[encoded data removed]",
      "text/plain": [
       "<Figure size 432x288 with 1 Axes>"
      ]
     },
     "metadata": {
      "needs_background": "light"
     },
     "output_type": "display_data"
    }
   ],
   "source": [
    "# случайный выбор и обработка изображения для теста\n",
    "rng = np.random.default_rng()\n",
    "n = rng.integers(5000, size=1)[0]\n",
    "img = image.load_img('test_kaggle/' + str(n) + '.jpg', target_size=(IMAGE_SIZE,IMAGE_SIZE))\n",
    "x = image.img_to_array(img, dtype=np.uint8)\n",
    "x = np.expand_dims(x, axis=0)\n",
    "plt.imshow(img)"
   ]
  },
  {
   "cell_type": "code",
   "execution_count": null,
   "metadata": {
    "execution": {
     "iopub.execute_input": "2022-11-05T13:03:42.905711Z",
     "iopub.status.busy": "2022-11-05T13:03:42.904685Z",
     "iopub.status.idle": "2022-11-05T13:03:44.232682Z",
     "shell.execute_reply": "2022-11-05T13:03:44.231609Z",
     "shell.execute_reply.started": "2022-11-05T13:03:42.905657Z"
    },
    "id": "d28kafMC6z3V",
    "outputId": "024abeed-575a-4ffa-fea6-047d44d70e24"
   },
   "outputs": [
    {
     "name": "stdout",
     "output_type": "stream",
     "text": [
      "50.2 ms ± 4.71 ms per loop (mean ± std. dev. of 7 runs, 1 loop each)\n"
     ]
    }
   ],
   "source": [
    "# определение времени инференса сети\n",
    "%%timeit \n",
    "#-n 10 -r 10\n",
    "\n",
    "model.predict(preprocess(x))"
   ]
  },
  {
   "cell_type": "code",
   "execution_count": 12,
   "metadata": {
    "execution": {
     "iopub.execute_input": "2022-11-05T13:04:01.418424Z",
     "iopub.status.busy": "2022-11-05T13:04:01.418063Z",
     "iopub.status.idle": "2022-11-05T13:04:01.433117Z",
     "shell.execute_reply": "2022-11-05T13:04:01.431851Z",
     "shell.execute_reply.started": "2022-11-05T13:04:01.418392Z"
    },
    "id": "HSbiVfxK6z3W",
    "outputId": "470dbd3f-4045-48e4-cc5e-54a27c9b3337"
   },
   "outputs": [
    {
     "data": {
      "text/plain": [
       "{0: 'anger',\n",
       " 1: 'contempt',\n",
       " 2: 'disgust',\n",
       " 3: 'fear',\n",
       " 4: 'happy',\n",
       " 5: 'neutral',\n",
       " 6: 'sad',\n",
       " 7: 'surprise',\n",
       " 8: 'uncertain'}"
      ]
     },
     "execution_count": 12,
     "metadata": {},
     "output_type": "execute_result"
    }
   ],
   "source": [
    "# создание словаря эмоций из файла\n",
    "def load_dict_from_file(path):\n",
    "    f = open(path,'r')\n",
    "    data=f.read()\n",
    "    f.close()\n",
    "    return eval(data)\n",
    "\n",
    "emotion_mapping = load_dict_from_file('dict.txt')\n",
    "emotion_mapping"
   ]
  },
  {
   "cell_type": "code",
   "execution_count": null,
   "metadata": {
    "execution": {
     "iopub.execute_input": "2022-11-05T13:04:09.116571Z",
     "iopub.status.busy": "2022-11-05T13:04:09.115494Z",
     "iopub.status.idle": "2022-11-05T13:04:09.185524Z",
     "shell.execute_reply": "2022-11-05T13:04:09.184461Z",
     "shell.execute_reply.started": "2022-11-05T13:04:09.116525Z"
    },
    "id": "FH-uId4R6z3X",
    "outputId": "af4ac619-096e-4707-bbe6-786e7f91a0ab"
   },
   "outputs": [
    {
     "data": {
      "text/plain": [
       "'surprise'"
      ]
     },
     "execution_count": 28,
     "metadata": {},
     "output_type": "execute_result"
    }
   ],
   "source": [
    "# определение эмоции на тестовом изображении\n",
    "predicted = model.predict(preprocess(x))\n",
    "emotion_mapping[np.argmax(predicted)]"
   ]
  },
  {
   "cell_type": "code",
   "execution_count": 13,
   "metadata": {
    "execution": {
     "iopub.execute_input": "2022-09-21T15:55:19.358703Z",
     "iopub.status.busy": "2022-09-21T15:55:19.358329Z",
     "iopub.status.idle": "2022-09-21T15:55:19.364037Z",
     "shell.execute_reply": "2022-09-21T15:55:19.362703Z",
     "shell.execute_reply.started": "2022-09-21T15:55:19.358672Z"
    },
    "id": "gZOgEnVs6z3Y"
   },
   "outputs": [],
   "source": [
    "# создание списка для структруированного по заданию итогового csv-файла из файла \n",
    "def load_list_from_file(path):\n",
    "    f = open(path,'r')\n",
    "    data=f.read()\n",
    "    f.close()\n",
    "    return eval(data)\n",
    "\n",
    "my_list = load_list_from_file('test_list.txt')"
   ]
  },
  {
   "cell_type": "code",
   "execution_count": null,
   "metadata": {
    "execution": {
     "iopub.execute_input": "2022-09-21T15:55:31.722392Z",
     "iopub.status.busy": "2022-09-21T15:55:31.721663Z",
     "iopub.status.idle": "2022-09-21T16:00:27.168095Z",
     "shell.execute_reply": "2022-09-21T16:00:27.167098Z",
     "shell.execute_reply.started": "2022-09-21T15:55:31.722355Z"
    },
    "id": "wijuJAA86z3a"
   },
   "outputs": [],
   "source": [
    "# запись итогового csv-файла\n",
    "with open('submission_yolo.csv', 'w') as f:\n",
    "    fieldnames = ['image_path', 'emotion']\n",
    "    writer = csv.DictWriter(f, fieldnames=fieldnames)\n",
    "    writer.writeheader()\n",
    "    for name in my_list:\n",
    "        img = image.load_img('test_kaggle/'+ name, target_size=(224, 224))\n",
    "        x = image.img_to_array(img)\n",
    "        x = np.expand_dims(x, axis=0)\n",
    "        predicted_arr = model.predict(preprocess(x))\n",
    "        predicted = emotion_mapping[np.argmax(predicted_arr)]\n",
    "        # test_dict[name.replace('test_kaggle/', '')] = predicted\n",
    "        writer.writerow({'image_path': name.replace('test_kaggle/', ''), 'emotion': predicted})"
   ]
  },
  {
   "cell_type": "markdown",
   "metadata": {
    "id": "sGNR-vxd6z3b"
   },
   "source": [
    "### Оценки Kaggle\n",
    "\n",
    "Score: 0.44360\n",
    "\n",
    "Public score: 0.45680"
   ]
  }
 ],
 "metadata": {
  "colab": {
   "provenance": []
  },
  "kernelspec": {
   "display_name": "Python 3 (ipykernel)",
   "language": "python",
   "name": "python3"
  },
  "language_info": {
   "codemirror_mode": {
    "name": "ipython",
    "version": 3
   },
   "file_extension": ".py",
   "mimetype": "text/x-python",
   "name": "python",
   "nbconvert_exporter": "python",
   "pygments_lexer": "ipython3",
   "version": "3.9.13"
  }
 },
 "nbformat": 4,
 "nbformat_minor": 1
}
