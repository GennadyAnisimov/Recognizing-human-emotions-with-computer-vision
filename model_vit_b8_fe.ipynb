{
 "cells": [
  {
   "cell_type": "code",
   "execution_count": 3,
   "metadata": {},
   "outputs": [
    {
     "name": "stdout",
     "output_type": "stream",
     "text": [
      "Collecting tensorflow_hub\n",
      "  Downloading tensorflow_hub-0.12.0-py2.py3-none-any.whl (108 kB)\n",
      "     ------------------------------------ 108.8/108.8 kB 573.1 kB/s eta 0:00:00\n",
      "Requirement already satisfied: protobuf>=3.8.0 in c:\\users\\engen\\anaconda3\\lib\\site-packages (from tensorflow_hub) (3.20.3)\n",
      "Requirement already satisfied: numpy>=1.12.0 in c:\\users\\engen\\anaconda3\\lib\\site-packages (from tensorflow_hub) (1.21.5)\n",
      "Installing collected packages: tensorflow_hub\n",
      "Successfully installed tensorflow_hub-0.12.0\n"
     ]
    }
   ],
   "source": [
    "!pip install tensorflow_hub"
   ]
  },
  {
   "cell_type": "code",
   "execution_count": 4,
   "metadata": {
    "_cell_guid": "b1076dfc-b9ad-4769-8c92-a6c4dae69d19",
    "_uuid": "8f2839f25d086af736a60e9eeb907d3b93b6e0e5",
    "execution": {
     "iopub.execute_input": "2022-09-08T11:11:20.780330Z",
     "iopub.status.busy": "2022-09-08T11:11:20.779954Z",
     "iopub.status.idle": "2022-09-08T11:11:26.407194Z",
     "shell.execute_reply": "2022-09-08T11:11:26.406101Z",
     "shell.execute_reply.started": "2022-09-08T11:11:20.780295Z"
    },
    "executionInfo": {
     "elapsed": 3388,
     "status": "ok",
     "timestamp": 1671644324870,
     "user": {
      "displayName": "engener64@yandex.ru",
      "userId": "06978561127052537462"
     },
     "user_tz": -240
    },
    "id": "gO5a8IakHCCN"
   },
   "outputs": [],
   "source": [
    "# установка необходимых библиотек\n",
    "import matplotlib.pyplot as plt\n",
    "import numpy as np\n",
    "import pandas as pd\n",
    "import time\n",
    "import csv\n",
    "from pathlib import Path\n",
    "\n",
    "import tensorflow as tf\n",
    "import tensorflow_hub as hub\n",
    "from tensorflow import keras\n",
    "from keras.callbacks import ModelCheckpoint\n",
    "from livelossplot.tf_keras import PlotLossesCallback\n",
    "from tensorflow.keras.preprocessing.image import ImageDataGenerator\n",
    "from tensorflow.keras.preprocessing import image\n",
    "\n",
    "# вывод графика и сохранение в ноутбуке\n",
    "%matplotlib inline"
   ]
  },
  {
   "cell_type": "code",
   "execution_count": null,
   "metadata": {
    "execution": {
     "iopub.execute_input": "2022-09-08T11:11:38.061296Z",
     "iopub.status.busy": "2022-09-08T11:11:38.060458Z",
     "iopub.status.idle": "2022-09-08T11:11:38.070351Z",
     "shell.execute_reply": "2022-09-08T11:11:38.069258Z",
     "shell.execute_reply.started": "2022-09-08T11:11:38.061260Z"
    },
    "id": "SP1pywycHCCP",
    "outputId": "55e5cdf0-c317-4a61-e87d-8e154de74fd0"
   },
   "outputs": [
    {
     "data": {
      "text/plain": [
       "'2.6.4'"
      ]
     },
     "execution_count": 3,
     "metadata": {},
     "output_type": "execute_result"
    }
   ],
   "source": [
    "tf.__version__"
   ]
  },
  {
   "cell_type": "code",
   "execution_count": 5,
   "metadata": {
    "execution": {
     "iopub.execute_input": "2022-09-08T11:11:42.181590Z",
     "iopub.status.busy": "2022-09-08T11:11:42.181003Z",
     "iopub.status.idle": "2022-09-08T11:11:42.186236Z",
     "shell.execute_reply": "2022-09-08T11:11:42.185148Z",
     "shell.execute_reply.started": "2022-09-08T11:11:42.181553Z"
    },
    "executionInfo": {
     "elapsed": 11,
     "status": "ok",
     "timestamp": 1671644395514,
     "user": {
      "displayName": "engener64@yandex.ru",
      "userId": "06978561127052537462"
     },
     "user_tz": -240
    },
    "id": "orlJcRxtHCCR"
   },
   "outputs": [],
   "source": [
    "BATCH_SIZE = 32\n",
    "IMAGE_SIZE = 224\n",
    "N_CLASSES = 9"
   ]
  },
  {
   "cell_type": "code",
   "execution_count": 6,
   "metadata": {
    "colab": {
     "base_uri": "https://localhost:8080/"
    },
    "execution": {
     "iopub.execute_input": "2022-09-08T11:11:47.368483Z",
     "iopub.status.busy": "2022-09-08T11:11:47.367893Z",
     "iopub.status.idle": "2022-09-08T11:12:01.342071Z",
     "shell.execute_reply": "2022-09-08T11:12:01.340961Z",
     "shell.execute_reply.started": "2022-09-08T11:11:47.368448Z"
    },
    "executionInfo": {
     "elapsed": 27707,
     "status": "ok",
     "timestamp": 1671644429893,
     "user": {
      "displayName": "engener64@yandex.ru",
      "userId": "06978561127052537462"
     },
     "user_tz": -240
    },
    "id": "qIfPxzPAHCCS",
    "outputId": "be628884-2ba7-4669-a344-aa822de7a8c8"
   },
   "outputs": [
    {
     "name": "stderr",
     "output_type": "stream",
     "text": [
      "WARNING:tensorflow:SavedModel saved prior to TF 2.5 detected when loading Keras model. Please ensure that you are saving the model with model.save() or tf.keras.models.save_model(), *NOT* tf.saved_model.save(). To confirm, there should be a file named \"keras_metadata.pb\" in the SavedModel directory.\n"
     ]
    }
   ],
   "source": [
    "# загрузка обученной модели vit_b8_fe\n",
    "model_vit_b8_fe = keras.models.load_model('vit_b8_fe_1')\n",
    "model_vit_b8_fe.trainable = False # замораживаем всю базовую модель\n",
    "variables = model_vit_b8_fe.signatures[\"serving_default\"].trainable_variables\n",
    "for i in range(len(variables)):\n",
    "    variables[i]._handle_name = variables[i].name.replace('0', str(i))"
   ]
  },
  {
   "cell_type": "code",
   "execution_count": 7,
   "metadata": {
    "colab": {
     "base_uri": "https://localhost:8080/",
     "height": 35
    },
    "execution": {
     "iopub.execute_input": "2022-09-08T11:12:08.457851Z",
     "iopub.status.busy": "2022-09-08T11:12:08.457335Z",
     "iopub.status.idle": "2022-09-08T11:12:08.465229Z",
     "shell.execute_reply": "2022-09-08T11:12:08.463860Z",
     "shell.execute_reply.started": "2022-09-08T11:12:08.457816Z"
    },
    "executionInfo": {
     "elapsed": 859,
     "status": "ok",
     "timestamp": 1671644463792,
     "user": {
      "displayName": "engener64@yandex.ru",
      "userId": "06978561127052537462"
     },
     "user_tz": -240
    },
    "id": "uda102fGHCCU",
    "outputId": "2bb451e7-cfba-4aae-da57-ec74cfb13c8c"
   },
   "outputs": [
    {
     "data": {
      "application/vnd.google.colaboratory.intrinsic+json": {
       "type": "string"
      },
      "text/plain": [
       "'Variable:197'"
      ]
     },
     "execution_count": 7,
     "metadata": {},
     "output_type": "execute_result"
    }
   ],
   "source": [
    "variables[197].name"
   ]
  },
  {
   "cell_type": "code",
   "execution_count": 24,
   "metadata": {
    "colab": {
     "base_uri": "https://localhost:8080/"
    },
    "execution": {
     "iopub.execute_input": "2022-09-08T11:12:48.398064Z",
     "iopub.status.busy": "2022-09-08T11:12:48.397705Z",
     "iopub.status.idle": "2022-09-08T11:12:49.776875Z",
     "shell.execute_reply": "2022-09-08T11:12:49.775817Z",
     "shell.execute_reply.started": "2022-09-08T11:12:48.398034Z"
    },
    "executionInfo": {
     "elapsed": 486,
     "status": "ok",
     "timestamp": 1671646451006,
     "user": {
      "displayName": "engener64@yandex.ru",
      "userId": "06978561127052537462"
     },
     "user_tz": -240
    },
    "id": "dJZwpnRhHCCW",
    "outputId": "0228e696-671d-460a-e621-7e8e17376d87"
   },
   "outputs": [
    {
     "name": "stdout",
     "output_type": "stream",
     "text": [
      "Model: \"sequential_2\"\n",
      "_________________________________________________________________\n",
      " Layer (type)                Output Shape              Param #   \n",
      "=================================================================\n",
      " keras_layer_2 (KerasLayer)  (None, 768)               85807872  \n",
      "                                                                 \n",
      " dense_4 (Dense)             (None, 512)               393728    \n",
      "                                                                 \n",
      " dropout_2 (Dropout)         (None, 512)               0         \n",
      "                                                                 \n",
      " dense_5 (Dense)             (None, 9)                 4617      \n",
      "                                                                 \n",
      "=================================================================\n",
      "Total params: 86,206,217\n",
      "Trainable params: 398,345\n",
      "Non-trainable params: 85,807,872\n",
      "_________________________________________________________________\n"
     ]
    }
   ],
   "source": [
    "# создание модели с дополнительными слоями для решения моей задачи\n",
    "model = tf.keras.Sequential([\n",
    "            tf.keras.layers.InputLayer((IMAGE_SIZE, IMAGE_SIZE, 3)),\n",
    "            hub.KerasLayer(model_vit_b8_fe),\n",
    "            tf.keras.layers.Dense(512, activation='relu'),\n",
    "            tf.keras.layers.Dropout(0.2),\n",
    "            tf.keras.layers.Dense(N_CLASSES)\n",
    "                            ]\n",
    "                            )\n",
    "model.build(input_shape=(None, IMAGE_SIZE, IMAGE_SIZE, 3))\n",
    "model.summary()"
   ]
  },
  {
   "cell_type": "code",
   "execution_count": 9,
   "metadata": {
    "execution": {
     "iopub.execute_input": "2022-09-08T11:13:08.391259Z",
     "iopub.status.busy": "2022-09-08T11:13:08.390763Z",
     "iopub.status.idle": "2022-09-08T11:13:08.493283Z",
     "shell.execute_reply": "2022-09-08T11:13:08.492182Z",
     "shell.execute_reply.started": "2022-09-08T11:13:08.391216Z"
    },
    "executionInfo": {
     "elapsed": 1706,
     "status": "ok",
     "timestamp": 1671644525849,
     "user": {
      "displayName": "engener64@yandex.ru",
      "userId": "06978561127052537462"
     },
     "user_tz": -240
    },
    "id": "8f--VCaNHCCa"
   },
   "outputs": [],
   "source": [
    "# загрузка обучающего и валидационного датафреймов из csv-файлов\n",
    "train_df = pd.read_csv('train_df.csv', index_col = 0) \n",
    "test_df = pd.read_csv('test_df.csv', index_col = 0)"
   ]
  },
  {
   "cell_type": "code",
   "execution_count": 10,
   "metadata": {
    "colab": {
     "base_uri": "https://localhost:8080/"
    },
    "execution": {
     "iopub.execute_input": "2022-09-08T11:13:12.617697Z",
     "iopub.status.busy": "2022-09-08T11:13:12.617212Z",
     "iopub.status.idle": "2022-09-08T11:13:12.653278Z",
     "shell.execute_reply": "2022-09-08T11:13:12.651814Z",
     "shell.execute_reply.started": "2022-09-08T11:13:12.617652Z"
    },
    "executionInfo": {
     "elapsed": 16,
     "status": "ok",
     "timestamp": 1671644529637,
     "user": {
      "displayName": "engener64@yandex.ru",
      "userId": "06978561127052537462"
     },
     "user_tz": -240
    },
    "id": "-F2dz0uyHCCb",
    "outputId": "8404b06d-253c-4028-d628-46b01dadd108"
   },
   "outputs": [
    {
     "name": "stdout",
     "output_type": "stream",
     "text": [
      "<class 'pandas.core.frame.DataFrame'>\n",
      "Int64Index: 40037 entries, 46357 to 14269\n",
      "Data columns (total 2 columns):\n",
      " #   Column      Non-Null Count  Dtype \n",
      "---  ------      --------------  ----- \n",
      " 0   image_path  40037 non-null  object\n",
      " 1   emotion     40037 non-null  object\n",
      "dtypes: object(2)\n",
      "memory usage: 938.4+ KB\n"
     ]
    }
   ],
   "source": [
    "train_df.info()"
   ]
  },
  {
   "cell_type": "code",
   "execution_count": 11,
   "metadata": {
    "colab": {
     "base_uri": "https://localhost:8080/"
    },
    "executionInfo": {
     "elapsed": 471,
     "status": "ok",
     "timestamp": 1671644558170,
     "user": {
      "displayName": "engener64@yandex.ru",
      "userId": "06978561127052537462"
     },
     "user_tz": -240
    },
    "id": "sojrRnlUsRYp",
    "outputId": "9e08f32d-26fe-42c2-e246-ed11b7b3478a"
   },
   "outputs": [
    {
     "name": "stdout",
     "output_type": "stream",
     "text": [
      "<class 'pandas.core.frame.DataFrame'>\n",
      "Int64Index: 10009 entries, 2 to 50040\n",
      "Data columns (total 2 columns):\n",
      " #   Column      Non-Null Count  Dtype \n",
      "---  ------      --------------  ----- \n",
      " 0   image_path  10009 non-null  object\n",
      " 1   emotion     10009 non-null  object\n",
      "dtypes: object(2)\n",
      "memory usage: 234.6+ KB\n"
     ]
    }
   ],
   "source": [
    "test_df.info()"
   ]
  },
  {
   "cell_type": "code",
   "execution_count": null,
   "metadata": {
    "execution": {
     "iopub.execute_input": "2022-09-08T11:13:16.348790Z",
     "iopub.status.busy": "2022-09-08T11:13:16.348264Z",
     "iopub.status.idle": "2022-09-08T11:13:16.357488Z",
     "shell.execute_reply": "2022-09-08T11:13:16.356138Z",
     "shell.execute_reply.started": "2022-09-08T11:13:16.348747Z"
    },
    "id": "iZo96tE_HCCb"
   },
   "outputs": [],
   "source": [
    "# функция препроцессинга\n",
    "def preprocess(img):\n",
    "    image = tf.image.resize(img, [IMAGE_SIZE, IMAGE_SIZE])\n",
    "    image = (image - 127.5) / 127.5\n",
    "    return image"
   ]
  },
  {
   "cell_type": "code",
   "execution_count": null,
   "metadata": {
    "execution": {
     "iopub.execute_input": "2022-09-08T11:13:24.255822Z",
     "iopub.status.busy": "2022-09-08T11:13:24.255439Z",
     "iopub.status.idle": "2022-09-08T11:14:17.803092Z",
     "shell.execute_reply": "2022-09-08T11:14:17.802018Z",
     "shell.execute_reply.started": "2022-09-08T11:13:24.255791Z"
    },
    "id": "WZEPs3vgHCCd",
    "outputId": "4c6ce76e-88be-445a-a592-e5c1671802ae"
   },
   "outputs": [
    {
     "name": "stdout",
     "output_type": "stream",
     "text": [
      "Found 40037 validated image filenames belonging to 9 classes.\n",
      "Found 10009 validated image filenames belonging to 9 classes.\n"
     ]
    }
   ],
   "source": [
    "# генератор обучающих данных с функцией аугментации\n",
    "train_generator = ImageDataGenerator(\n",
    "                                     rotation_range=15,\n",
    "                                     horizontal_flip=True,\n",
    "                                     fill_mode='nearest',\n",
    "                                     brightness_range=(0.5,1.5),\n",
    "                                     shear_range=0.1,\n",
    "                                     zoom_range=.1,\n",
    "                                     preprocessing_function=preprocess\n",
    "                                     )\n",
    "        \n",
    "train_data_gen = train_generator.flow_from_dataframe(dataframe=train_df,\n",
    "                                                     x_col='image_path',\n",
    "                                                     y_col='emotion',\n",
    "                                                     target_size=(IMAGE_SIZE, IMAGE_SIZE),\n",
    "                                                     batch_size=BATCH_SIZE,\n",
    "                                                     class_mode='sparse',\n",
    "                                                     shuffle=True,\n",
    "                                                     interpolation='nearest',\n",
    "                                                    )\n",
    "\n",
    "# генератор валидационных данных\n",
    "val_generator = ImageDataGenerator(preprocessing_function=preprocess)\n",
    "\n",
    "val_data_gen = val_generator.flow_from_dataframe(dataframe=test_df,\n",
    "                                                 x_col='image_path',\n",
    "                                                 y_col='emotion',\n",
    "                                                 target_size=(IMAGE_SIZE, IMAGE_SIZE),\n",
    "                                                 batch_size=BATCH_SIZE,\n",
    "                                                 class_mode='sparse',\n",
    "                                                 shuffle=False,\n",
    "                                                 interpolation='nearest',\n",
    "                                                )"
   ]
  },
  {
   "cell_type": "code",
   "execution_count": 25,
   "metadata": {
    "execution": {
     "iopub.execute_input": "2022-09-08T11:14:31.808646Z",
     "iopub.status.busy": "2022-09-08T11:14:31.807950Z",
     "iopub.status.idle": "2022-09-08T11:14:31.817344Z",
     "shell.execute_reply": "2022-09-08T11:14:31.816291Z",
     "shell.execute_reply.started": "2022-09-08T11:14:31.808581Z"
    },
    "executionInfo": {
     "elapsed": 396,
     "status": "ok",
     "timestamp": 1671646465431,
     "user": {
      "displayName": "engener64@yandex.ru",
      "userId": "06978561127052537462"
     },
     "user_tz": -240
    },
    "id": "zOriHmrXHCCf"
   },
   "outputs": [],
   "source": [
    "# создание папки модели и имени файла для записи весов во время обучения\n",
    "path = Path('model_vit_b8_fe')\n",
    "path.mkdir(exist_ok=True, parents=True) # папка создается на диске вместе с \"родителями\"\n",
    "assert path.exists()\n",
    "cpt_filename = 'best_checkpoint.hdf5'  \n",
    "cpt_path = str(path / cpt_filename)"
   ]
  },
  {
   "cell_type": "code",
   "execution_count": null,
   "metadata": {
    "execution": {
     "iopub.execute_input": "2022-09-08T11:14:38.910230Z",
     "iopub.status.busy": "2022-09-08T11:14:38.909509Z",
     "iopub.status.idle": "2022-09-08T11:14:38.915688Z",
     "shell.execute_reply": "2022-09-08T11:14:38.914460Z",
     "shell.execute_reply.started": "2022-09-08T11:14:38.910194Z"
    },
    "id": "BlRgqtwSHCCh"
   },
   "outputs": [],
   "source": [
    "# обратный вызов для сохранения весов модели\n",
    "checkpoint = ModelCheckpoint(cpt_path,\n",
    "                            verbose=1,\n",
    "                            save_best_only=True,\n",
    "                            save_weights_only=True,\n",
    "                            save_freq='epoch',\n",
    "                            mode='min')"
   ]
  },
  {
   "cell_type": "code",
   "execution_count": 26,
   "metadata": {
    "execution": {
     "iopub.execute_input": "2022-09-08T11:14:44.155068Z",
     "iopub.status.busy": "2022-09-08T11:14:44.154685Z",
     "iopub.status.idle": "2022-09-08T11:14:44.175082Z",
     "shell.execute_reply": "2022-09-08T11:14:44.174157Z",
     "shell.execute_reply.started": "2022-09-08T11:14:44.155038Z"
    },
    "executionInfo": {
     "elapsed": 411,
     "status": "ok",
     "timestamp": 1671646480520,
     "user": {
      "displayName": "engener64@yandex.ru",
      "userId": "06978561127052537462"
     },
     "user_tz": -240
    },
    "id": "G2KSDExmHCCi"
   },
   "outputs": [],
   "source": [
    "# функция экспоненциального затухания к шагу оптимизатора с заданной начальной скоростью обучения\n",
    "lr_schedule = tf.keras.optimizers.schedules.ExponentialDecay(\n",
    "    initial_learning_rate=1e-4,\n",
    "    decay_steps=100,\n",
    "    decay_rate=0.9)\n",
    "\n",
    "# настройка модели для обучения\n",
    "model.compile(loss=tf.keras.losses.SparseCategoricalCrossentropy(from_logits=True),\n",
    "              optimizer=tf.keras.optimizers.Adam(learning_rate=lr_schedule),\n",
    "              metrics=[tf.keras.metrics.SparseCategoricalAccuracy()])"
   ]
  },
  {
   "cell_type": "code",
   "execution_count": null,
   "metadata": {
    "execution": {
     "iopub.execute_input": "2022-09-08T11:14:51.941243Z",
     "iopub.status.busy": "2022-09-08T11:14:51.940844Z",
     "iopub.status.idle": "2022-09-08T17:40:10.873740Z",
     "shell.execute_reply": "2022-09-08T17:40:10.872675Z",
     "shell.execute_reply.started": "2022-09-08T11:14:51.941212Z"
    },
    "id": "OC62GYueHCCj",
    "outputId": "53a0c7a1-35ac-4dc0-b9b7-308c1489955a"
   },
   "outputs": [
    {
     "data": {
      "image/png": "[encoded data removed]",
      "text/plain": [
       "<Figure size 864x576 with 2 Axes>"
      ]
     },
     "metadata": {
      "needs_background": "light"
     },
     "output_type": "display_data"
    },
    {
     "name": "stdout",
     "output_type": "stream",
     "text": [
      "Loss\n",
      "\ttraining         \t (min:    1.861, max:    2.469, cur:    1.867)\n",
      "\tvalidation       \t (min:    1.839, max:    1.919, cur:    1.839)\n",
      "sparse_categorical_accuracy\n",
      "\ttraining         \t (min:    0.270, max:    0.349, cur:    0.349)\n",
      "\tvalidation       \t (min:    0.350, max:    0.358, cur:    0.358)\n"
     ]
    }
   ],
   "source": [
    "# обучение модели\n",
    "EPOCHS = 10\n",
    "history = model.fit(train_data_gen, epochs=EPOCHS, validation_data=val_data_gen,\n",
    "                    callbacks=[checkpoint,\n",
    "                               PlotLossesCallback()\n",
    "                              ]\n",
    "                    )"
   ]
  },
  {
   "cell_type": "code",
   "execution_count": null,
   "metadata": {
    "execution": {
     "iopub.execute_input": "2022-09-08T18:06:20.228767Z",
     "iopub.status.busy": "2022-09-08T18:06:20.228384Z",
     "iopub.status.idle": "2022-09-08T18:12:31.644980Z",
     "shell.execute_reply": "2022-09-08T18:12:31.644057Z",
     "shell.execute_reply.started": "2022-09-08T18:06:20.228734Z"
    },
    "id": "QOykT4UzHCCk",
    "outputId": "8db7a3de-15c2-4cb2-ad3e-7cbdb11bf9da"
   },
   "outputs": [
    {
     "name": "stdout",
     "output_type": "stream",
     "text": [
      "313/313 [==============================] - 371s 1s/step - loss: 1.8387 - sparse_categorical_accuracy: 0.3582\n"
     ]
    },
    {
     "data": {
      "text/plain": [
       "[1.8387013673782349, 0.35817763209342957]"
      ]
     },
     "execution_count": 19,
     "metadata": {},
     "output_type": "execute_result"
    }
   ],
   "source": [
    "# значение потерь и значения метрики для модели в тестовом режиме\n",
    "model.evaluate(val_data_gen)"
   ]
  },
  {
   "cell_type": "code",
   "execution_count": 31,
   "metadata": {
    "execution": {
     "iopub.execute_input": "2022-09-08T18:06:13.298567Z",
     "iopub.status.busy": "2022-09-08T18:06:13.298191Z",
     "iopub.status.idle": "2022-09-08T18:06:14.157099Z",
     "shell.execute_reply": "2022-09-08T18:06:14.156084Z",
     "shell.execute_reply.started": "2022-09-08T18:06:13.298533Z"
    },
    "executionInfo": {
     "elapsed": 2523,
     "status": "ok",
     "timestamp": 1671647748990,
     "user": {
      "displayName": "engener64@yandex.ru",
      "userId": "06978561127052537462"
     },
     "user_tz": -240
    },
    "id": "kVMmRboIHCCj"
   },
   "outputs": [],
   "source": [
    "# запись весов модели\n",
    "model.save_weights('model_vit_b8_fe/weights.h5')"
   ]
  },
  {
   "cell_type": "code",
   "execution_count": null,
   "metadata": {
    "execution": {
     "iopub.execute_input": "2022-09-08T18:13:06.644631Z",
     "iopub.status.busy": "2022-09-08T18:13:06.644250Z",
     "iopub.status.idle": "2022-09-08T18:13:06.917896Z",
     "shell.execute_reply": "2022-09-08T18:13:06.916978Z",
     "shell.execute_reply.started": "2022-09-08T18:13:06.644581Z"
    },
    "id": "Kck7hRIiHCCl",
    "outputId": "486d5671-d30b-498a-9beb-83351949b272"
   },
   "outputs": [
    {
     "data": {
      "text/plain": [
       "<matplotlib.image.AxesImage at 0x7f62c53bfcd0>"
      ]
     },
     "execution_count": 22,
     "metadata": {},
     "output_type": "execute_result"
    },
    {
     "data": {
      "image/png": "[encoded data removed]",
      "text/plain": [
       "<Figure size 432x288 with 1 Axes>"
      ]
     },
     "metadata": {
      "needs_background": "light"
     },
     "output_type": "display_data"
    }
   ],
   "source": [
    "# случайный выбор и обработка изображения для теста\n",
    "rng = np.random.default_rng()\n",
    "n = rng.integers(5000, size=1)[0]\n",
    "img = image.load_img('test_kaggle/' + str(n) + '.jpg', target_size=(224, 224))\n",
    "x = image.img_to_array(img, dtype=np.uint8)\n",
    "x = np.expand_dims(x, axis=0)\n",
    "plt.imshow(img)"
   ]
  },
  {
   "cell_type": "code",
   "execution_count": null,
   "metadata": {
    "execution": {
     "iopub.execute_input": "2022-09-08T18:13:23.387417Z",
     "iopub.status.busy": "2022-09-08T18:13:23.386644Z",
     "iopub.status.idle": "2022-09-08T18:13:29.736470Z",
     "shell.execute_reply": "2022-09-08T18:13:29.735296Z",
     "shell.execute_reply.started": "2022-09-08T18:13:23.387380Z"
    },
    "id": "TqqIGWnlHCCm",
    "outputId": "abea92ba-50a6-4203-cf1b-859ec3590570"
   },
   "outputs": [
    {
     "name": "stdout",
     "output_type": "stream",
     "text": [
      "78.7 ms ± 8.3 ms per loop (mean ± std. dev. of 7 runs, 1 loop each)\n"
     ]
    }
   ],
   "source": [
    "# определение времени инференса сети\n",
    "%%timeit \n",
    "#-n 10 -r 10\n",
    "\n",
    "model.predict(preprocess(x))"
   ]
  },
  {
   "cell_type": "code",
   "execution_count": 34,
   "metadata": {
    "colab": {
     "base_uri": "https://localhost:8080/"
    },
    "execution": {
     "iopub.execute_input": "2022-09-08T18:13:46.671474Z",
     "iopub.status.busy": "2022-09-08T18:13:46.671105Z",
     "iopub.status.idle": "2022-09-08T18:13:46.688583Z",
     "shell.execute_reply": "2022-09-08T18:13:46.687625Z",
     "shell.execute_reply.started": "2022-09-08T18:13:46.671443Z"
    },
    "executionInfo": {
     "elapsed": 990,
     "status": "ok",
     "timestamp": 1671648789879,
     "user": {
      "displayName": "engener64@yandex.ru",
      "userId": "06978561127052537462"
     },
     "user_tz": -240
    },
    "id": "fBAmjbihHCCn",
    "outputId": "214163df-014e-481b-b48a-f6e61a8ffb73"
   },
   "outputs": [
    {
     "data": {
      "text/plain": [
       "{0: 'anger',\n",
       " 1: 'contempt',\n",
       " 2: 'disgust',\n",
       " 3: 'fear',\n",
       " 4: 'happy',\n",
       " 5: 'neutral',\n",
       " 6: 'sad',\n",
       " 7: 'surprise',\n",
       " 8: 'uncertain'}"
      ]
     },
     "execution_count": 34,
     "metadata": {},
     "output_type": "execute_result"
    }
   ],
   "source": [
    "# создание словаря эмоций из файла\n",
    "def load_dict_from_file(path):\n",
    "    f = open(path,'r')\n",
    "    data=f.read()\n",
    "    f.close()\n",
    "    return eval(data)\n",
    "\n",
    "emotion_mapping = load_dict_from_file('dict.txt')\n",
    "emotion_mapping"
   ]
  },
  {
   "cell_type": "code",
   "execution_count": null,
   "metadata": {
    "execution": {
     "iopub.execute_input": "2022-09-08T18:13:51.872225Z",
     "iopub.status.busy": "2022-09-08T18:13:51.871850Z",
     "iopub.status.idle": "2022-09-08T18:13:51.958731Z",
     "shell.execute_reply": "2022-09-08T18:13:51.957747Z",
     "shell.execute_reply.started": "2022-09-08T18:13:51.872194Z"
    },
    "id": "0mWtcZqOHCCo",
    "outputId": "e377ca62-0276-4b2a-b34b-6435fbb8f2e1"
   },
   "outputs": [
    {
     "data": {
      "text/plain": [
       "'uncertain'"
      ]
     },
     "execution_count": 26,
     "metadata": {},
     "output_type": "execute_result"
    }
   ],
   "source": [
    "# определение эмоции на тестовом изображении\n",
    "predicted = model.predict(preprocess(x))\n",
    "emotion_mapping[np.argmax(predicted)]"
   ]
  },
  {
   "cell_type": "code",
   "execution_count": null,
   "metadata": {
    "execution": {
     "iopub.execute_input": "2022-09-08T18:14:56.123650Z",
     "iopub.status.busy": "2022-09-08T18:14:56.122532Z",
     "iopub.status.idle": "2022-09-08T18:14:56.150150Z",
     "shell.execute_reply": "2022-09-08T18:14:56.149076Z",
     "shell.execute_reply.started": "2022-09-08T18:14:56.123589Z"
    },
    "id": "17dLK-REHCCp"
   },
   "outputs": [],
   "source": [
    "# создание списка для структруированного по заданию итогового csv-файла из файла\n",
    "def load_list_from_file(path):\n",
    "    f = open(path,'r')\n",
    "    data=f.read()\n",
    "    f.close()\n",
    "    return eval(data)\n",
    "\n",
    "my_list = load_list_from_file('test_list.txt')"
   ]
  },
  {
   "cell_type": "code",
   "execution_count": null,
   "metadata": {
    "execution": {
     "iopub.execute_input": "2022-09-08T18:15:08.585599Z",
     "iopub.status.busy": "2022-09-08T18:15:08.585170Z",
     "iopub.status.idle": "2022-09-08T18:23:25.877752Z",
     "shell.execute_reply": "2022-09-08T18:23:25.876733Z",
     "shell.execute_reply.started": "2022-09-08T18:15:08.585559Z"
    },
    "id": "stN4JHinHCCp"
   },
   "outputs": [],
   "source": [
    "# запись итогового csv-файла\n",
    "with open('submission_vit_b8_fe.csv', 'w') as f:\n",
    "    fieldnames = ['image_path', 'emotion']\n",
    "    writer = csv.DictWriter(f, fieldnames=fieldnames)\n",
    "    writer.writeheader()\n",
    "    for name in my_list:\n",
    "        img = image.load_img('test_kaggle/'+ name, target_size=(224, 224))\n",
    "        x = image.img_to_array(img)\n",
    "        x = np.expand_dims(x, axis=0)\n",
    "        predicted_arr = model.predict(preprocess(x))\n",
    "        predicted = emotion_mapping[np.argmax(predicted_arr)]\n",
    "        # test_dict[name.replace('test_kaggle/', '')] = predicted\n",
    "        writer.writerow({'image_path': name.replace('test_kaggle/', ''), 'emotion': predicted})"
   ]
  },
  {
   "cell_type": "markdown",
   "metadata": {
    "id": "6ltTK6ZOHCCq"
   },
   "source": [
    "### Оценки Kaggle\n",
    "\n",
    "Score: 0.35120\n",
    "\n",
    "Public score: 0.36000"
   ]
  }
 ],
 "metadata": {
  "colab": {
   "provenance": []
  },
  "kernelspec": {
   "display_name": "Python 3 (ipykernel)",
   "language": "python",
   "name": "python3"
  },
  "language_info": {
   "codemirror_mode": {
    "name": "ipython",
    "version": 3
   },
   "file_extension": ".py",
   "mimetype": "text/x-python",
   "name": "python",
   "nbconvert_exporter": "python",
   "pygments_lexer": "ipython3",
   "version": "3.9.13"
  }
 },
 "nbformat": 4,
 "nbformat_minor": 1
}
