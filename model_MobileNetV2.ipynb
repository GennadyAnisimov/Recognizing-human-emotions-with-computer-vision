{
 "cells": [
  {
   "cell_type": "code",
   "execution_count": 3,
   "metadata": {
    "execution": {
     "iopub.execute_input": "2022-08-31T07:42:33.301927Z",
     "iopub.status.busy": "2022-08-31T07:42:33.301183Z",
     "iopub.status.idle": "2022-08-31T07:42:38.881838Z",
     "shell.execute_reply": "2022-08-31T07:42:38.880868Z",
     "shell.execute_reply.started": "2022-08-31T07:42:33.301886Z"
    },
    "executionInfo": {
     "elapsed": 3209,
     "status": "ok",
     "timestamp": 1671560408149,
     "user": {
      "displayName": "engener64@yandex.ru",
      "userId": "06978561127052537462"
     },
     "user_tz": -240
    },
    "id": "EcEl-Rejr74e"
   },
   "outputs": [],
   "source": [
    "# установка необходимых библиотек\n",
    "import matplotlib.pyplot as plt\n",
    "import pandas as pd\n",
    "import numpy as np\n",
    "from pathlib import Path\n",
    "import time\n",
    "import csv\n",
    "\n",
    "import tensorflow as tf\n",
    "from tensorflow import keras\n",
    "from keras.callbacks import ModelCheckpoint\n",
    "from livelossplot.tf_keras import PlotLossesCallback\n",
    "from tensorflow.keras.preprocessing.image import ImageDataGenerator\n",
    "from tensorflow.keras.applications.mobilenet_v2 import preprocess_input\n",
    "from tensorflow.keras.preprocessing import image\n",
    "\n",
    "# вывод графика и сохранение в ноутбуке\n",
    "%matplotlib inline"
   ]
  },
  {
   "cell_type": "code",
   "execution_count": null,
   "metadata": {
    "execution": {
     "iopub.execute_input": "2022-08-31T07:42:42.773066Z",
     "iopub.status.busy": "2022-08-31T07:42:42.771925Z",
     "iopub.status.idle": "2022-08-31T07:42:42.780931Z",
     "shell.execute_reply": "2022-08-31T07:42:42.780045Z",
     "shell.execute_reply.started": "2022-08-31T07:42:42.773026Z"
    },
    "id": "5mopbBvfIN5j",
    "outputId": "8b8c7260-7102-4153-b7bb-936903446123"
   },
   "outputs": [
    {
     "data": {
      "text/plain": [
       "'2.6.4'"
      ]
     },
     "execution_count": 3,
     "metadata": {},
     "output_type": "execute_result"
    }
   ],
   "source": [
    "tf.__version__"
   ]
  },
  {
   "cell_type": "code",
   "execution_count": 5,
   "metadata": {
    "execution": {
     "iopub.execute_input": "2022-08-31T07:42:54.440477Z",
     "iopub.status.busy": "2022-08-31T07:42:54.439491Z",
     "iopub.status.idle": "2022-08-31T07:42:54.534195Z",
     "shell.execute_reply": "2022-08-31T07:42:54.533226Z",
     "shell.execute_reply.started": "2022-08-31T07:42:54.440440Z"
    },
    "executionInfo": {
     "elapsed": 1584,
     "status": "ok",
     "timestamp": 1671560086339,
     "user": {
      "displayName": "engener64@yandex.ru",
      "userId": "06978561127052537462"
     },
     "user_tz": -240
    },
    "id": "NyJCUlGEtpCY"
   },
   "outputs": [],
   "source": [
    "# загрузка обучающего и валидационного датафреймов из csv-файлов\n",
    "train_df = pd.read_csv('train_df.csv', index_col = 0) \n",
    "test_df = pd.read_csv('test_df.csv', index_col = 0)"
   ]
  },
  {
   "cell_type": "code",
   "execution_count": 6,
   "metadata": {
    "colab": {
     "base_uri": "https://localhost:8080/"
    },
    "execution": {
     "iopub.execute_input": "2022-08-31T07:42:59.821320Z",
     "iopub.status.busy": "2022-08-31T07:42:59.820837Z",
     "iopub.status.idle": "2022-08-31T07:42:59.848892Z",
     "shell.execute_reply": "2022-08-31T07:42:59.847648Z",
     "shell.execute_reply.started": "2022-08-31T07:42:59.821235Z"
    },
    "executionInfo": {
     "elapsed": 287,
     "status": "ok",
     "timestamp": 1671560090656,
     "user": {
      "displayName": "engener64@yandex.ru",
      "userId": "06978561127052537462"
     },
     "user_tz": -240
    },
    "id": "E9GxOWf8IN5m",
    "outputId": "bafb25fb-1e42-4cbf-ad71-c7107c714838"
   },
   "outputs": [
    {
     "name": "stdout",
     "output_type": "stream",
     "text": [
      "<class 'pandas.core.frame.DataFrame'>\n",
      "Int64Index: 40037 entries, 46357 to 14269\n",
      "Data columns (total 2 columns):\n",
      " #   Column      Non-Null Count  Dtype \n",
      "---  ------      --------------  ----- \n",
      " 0   image_path  40037 non-null  object\n",
      " 1   emotion     40037 non-null  object\n",
      "dtypes: object(2)\n",
      "memory usage: 938.4+ KB\n"
     ]
    }
   ],
   "source": [
    "train_df.info()"
   ]
  },
  {
   "cell_type": "code",
   "execution_count": 8,
   "metadata": {
    "colab": {
     "base_uri": "https://localhost:8080/"
    },
    "executionInfo": {
     "elapsed": 350,
     "status": "ok",
     "timestamp": 1671560115719,
     "user": {
      "displayName": "engener64@yandex.ru",
      "userId": "06978561127052537462"
     },
     "user_tz": -240
    },
    "id": "J5gmCkKDqwba",
    "outputId": "ec3fac5a-9c2c-4471-fa1e-a20047d86cc2"
   },
   "outputs": [
    {
     "name": "stdout",
     "output_type": "stream",
     "text": [
      "<class 'pandas.core.frame.DataFrame'>\n",
      "Int64Index: 10009 entries, 2 to 50040\n",
      "Data columns (total 2 columns):\n",
      " #   Column      Non-Null Count  Dtype \n",
      "---  ------      --------------  ----- \n",
      " 0   image_path  10009 non-null  object\n",
      " 1   emotion     10009 non-null  object\n",
      "dtypes: object(2)\n",
      "memory usage: 234.6+ KB\n"
     ]
    }
   ],
   "source": [
    "test_df.info()"
   ]
  },
  {
   "cell_type": "code",
   "execution_count": 5,
   "metadata": {
    "execution": {
     "iopub.execute_input": "2022-08-31T10:50:43.730929Z",
     "iopub.status.busy": "2022-08-31T10:50:43.730054Z",
     "iopub.status.idle": "2022-08-31T10:50:43.736014Z",
     "shell.execute_reply": "2022-08-31T10:50:43.735063Z",
     "shell.execute_reply.started": "2022-08-31T10:50:43.730880Z"
    },
    "executionInfo": {
     "elapsed": 436,
     "status": "ok",
     "timestamp": 1671560442631,
     "user": {
      "displayName": "engener64@yandex.ru",
      "userId": "06978561127052537462"
     },
     "user_tz": -240
    },
    "id": "M6PGmZ_TuYiF"
   },
   "outputs": [],
   "source": [
    "BATCH_SIZE = 32\n",
    "IMAGE_SIZE = 224\n",
    "N_CLASSES = 9"
   ]
  },
  {
   "cell_type": "code",
   "execution_count": null,
   "metadata": {
    "execution": {
     "iopub.execute_input": "2022-08-31T14:36:41.338838Z",
     "iopub.status.busy": "2022-08-31T14:36:41.337837Z",
     "iopub.status.idle": "2022-08-31T14:37:06.986398Z",
     "shell.execute_reply": "2022-08-31T14:37:06.985321Z",
     "shell.execute_reply.started": "2022-08-31T14:36:41.338800Z"
    },
    "executionInfo": {
     "elapsed": 222034,
     "status": "ok",
     "timestamp": 1660740855770,
     "user": {
      "displayName": "engener64@yandex.ru",
      "userId": "06978561127052537462"
     },
     "user_tz": -240
    },
    "id": "enW8lHwZuTZ2",
    "outputId": "8925c4fb-fba6-4d5f-c216-62adfbc0331b"
   },
   "outputs": [
    {
     "name": "stdout",
     "output_type": "stream",
     "text": [
      "Found 40037 validated image filenames belonging to 9 classes.\n",
      "Found 10009 validated image filenames belonging to 9 classes.\n"
     ]
    }
   ],
   "source": [
    "# генератор обучающих данных с функцией аугментации\n",
    "train_generator = ImageDataGenerator(\n",
    "                                     rotation_range=15,\n",
    "                                     horizontal_flip=True,\n",
    "                                     fill_mode='nearest',\n",
    "                                     brightness_range=(0.5,1.5),\n",
    "                                     shear_range=0.1,\n",
    "                                     zoom_range=.1,\n",
    "                                     preprocessing_function=preprocess_input\n",
    "                                     )\n",
    "        \n",
    "train_data_gen = train_generator.flow_from_dataframe(dataframe=train_df,\n",
    "                                                     x_col='image_path',\n",
    "                                                     y_col='emotion',\n",
    "                                                     target_size=(IMAGE_SIZE, IMAGE_SIZE),\n",
    "                                                     batch_size=BATCH_SIZE,\n",
    "                                                     class_mode='sparse',\n",
    "                                                     shuffle=True,\n",
    "                                                     interpolation='nearest',\n",
    "                                                    )\n",
    "\n",
    "# генератор валидационных данных\n",
    "val_generator = ImageDataGenerator(preprocessing_function=preprocess_input)\n",
    "\n",
    "val_data_gen = val_generator.flow_from_dataframe(dataframe=test_df,\n",
    "                                                 x_col='image_path',\n",
    "                                                 y_col='emotion',\n",
    "                                                 target_size=(IMAGE_SIZE, IMAGE_SIZE),\n",
    "                                                 batch_size=BATCH_SIZE,\n",
    "                                                 class_mode='sparse',\n",
    "                                                 shuffle=False,\n",
    "                                                 interpolation='nearest',\n",
    "                                                )"
   ]
  },
  {
   "cell_type": "code",
   "execution_count": 6,
   "metadata": {
    "colab": {
     "base_uri": "https://localhost:8080/"
    },
    "execution": {
     "iopub.execute_input": "2022-08-31T15:17:28.376596Z",
     "iopub.status.busy": "2022-08-31T15:17:28.376227Z",
     "iopub.status.idle": "2022-08-31T15:17:29.320274Z",
     "shell.execute_reply": "2022-08-31T15:17:29.319312Z",
     "shell.execute_reply.started": "2022-08-31T15:17:28.376563Z"
    },
    "executionInfo": {
     "elapsed": 4698,
     "status": "ok",
     "timestamp": 1671560453318,
     "user": {
      "displayName": "engener64@yandex.ru",
      "userId": "06978561127052537462"
     },
     "user_tz": -240
    },
    "id": "hpLIM7dkIN5r",
    "outputId": "10d29b7b-5dee-4697-c7c3-64e203956417"
   },
   "outputs": [
    {
     "name": "stdout",
     "output_type": "stream",
     "text": [
      "Downloading data from https://storage.googleapis.com/tensorflow/keras-applications/mobilenet_v2/mobilenet_v2_weights_tf_dim_ordering_tf_kernels_1.0_224_no_top.h5\n",
      "9406464/9406464 [==============================] - 0s 0us/step\n",
      "Model: \"mobilenetv2_1.00_224\"\n",
      "__________________________________________________________________________________________________\n",
      " Layer (type)                   Output Shape         Param #     Connected to                     \n",
      "==================================================================================================\n",
      " input_1 (InputLayer)           [(None, 224, 224, 3  0           []                               \n",
      "                                )]                                                                \n",
      "                                                                                                  \n",
      " Conv1 (Conv2D)                 (None, 112, 112, 32  864         ['input_1[0][0]']                \n",
      "                                )                                                                 \n",
      "                                                                                                  \n",
      " bn_Conv1 (BatchNormalization)  (None, 112, 112, 32  128         ['Conv1[0][0]']                  \n",
      "                                )                                                                 \n",
      "                                                                                                  \n",
      " Conv1_relu (ReLU)              (None, 112, 112, 32  0           ['bn_Conv1[0][0]']               \n",
      "                                )                                                                 \n",
      "                                                                                                  \n",
      " expanded_conv_depthwise (Depth  (None, 112, 112, 32  288        ['Conv1_relu[0][0]']             \n",
      " wiseConv2D)                    )                                                                 \n",
      "                                                                                                  \n",
      " expanded_conv_depthwise_BN (Ba  (None, 112, 112, 32  128        ['expanded_conv_depthwise[0][0]']\n",
      " tchNormalization)              )                                                                 \n",
      "                                                                                                  \n",
      " expanded_conv_depthwise_relu (  (None, 112, 112, 32  0          ['expanded_conv_depthwise_BN[0][0\n",
      " ReLU)                          )                                ]']                              \n",
      "                                                                                                  \n",
      " expanded_conv_project (Conv2D)  (None, 112, 112, 16  512        ['expanded_conv_depthwise_relu[0]\n",
      "                                )                                [0]']                            \n",
      "                                                                                                  \n",
      " expanded_conv_project_BN (Batc  (None, 112, 112, 16  64         ['expanded_conv_project[0][0]']  \n",
      " hNormalization)                )                                                                 \n",
      "                                                                                                  \n",
      " block_1_expand (Conv2D)        (None, 112, 112, 96  1536        ['expanded_conv_project_BN[0][0]'\n",
      "                                )                                ]                                \n",
      "                                                                                                  \n",
      " block_1_expand_BN (BatchNormal  (None, 112, 112, 96  384        ['block_1_expand[0][0]']         \n",
      " ization)                       )                                                                 \n",
      "                                                                                                  \n",
      " block_1_expand_relu (ReLU)     (None, 112, 112, 96  0           ['block_1_expand_BN[0][0]']      \n",
      "                                )                                                                 \n",
      "                                                                                                  \n",
      " block_1_pad (ZeroPadding2D)    (None, 113, 113, 96  0           ['block_1_expand_relu[0][0]']    \n",
      "                                )                                                                 \n",
      "                                                                                                  \n",
      " block_1_depthwise (DepthwiseCo  (None, 56, 56, 96)  864         ['block_1_pad[0][0]']            \n",
      " nv2D)                                                                                            \n",
      "                                                                                                  \n",
      " block_1_depthwise_BN (BatchNor  (None, 56, 56, 96)  384         ['block_1_depthwise[0][0]']      \n",
      " malization)                                                                                      \n",
      "                                                                                                  \n",
      " block_1_depthwise_relu (ReLU)  (None, 56, 56, 96)   0           ['block_1_depthwise_BN[0][0]']   \n",
      "                                                                                                  \n",
      " block_1_project (Conv2D)       (None, 56, 56, 24)   2304        ['block_1_depthwise_relu[0][0]'] \n",
      "                                                                                                  \n",
      " block_1_project_BN (BatchNorma  (None, 56, 56, 24)  96          ['block_1_project[0][0]']        \n",
      " lization)                                                                                        \n",
      "                                                                                                  \n",
      " block_2_expand (Conv2D)        (None, 56, 56, 144)  3456        ['block_1_project_BN[0][0]']     \n",
      "                                                                                                  \n",
      " block_2_expand_BN (BatchNormal  (None, 56, 56, 144)  576        ['block_2_expand[0][0]']         \n",
      " ization)                                                                                         \n",
      "                                                                                                  \n",
      " block_2_expand_relu (ReLU)     (None, 56, 56, 144)  0           ['block_2_expand_BN[0][0]']      \n",
      "                                                                                                  \n",
      " block_2_depthwise (DepthwiseCo  (None, 56, 56, 144)  1296       ['block_2_expand_relu[0][0]']    \n",
      " nv2D)                                                                                            \n",
      "                                                                                                  \n",
      " block_2_depthwise_BN (BatchNor  (None, 56, 56, 144)  576        ['block_2_depthwise[0][0]']      \n",
      " malization)                                                                                      \n",
      "                                                                                                  \n",
      " block_2_depthwise_relu (ReLU)  (None, 56, 56, 144)  0           ['block_2_depthwise_BN[0][0]']   \n",
      "                                                                                                  \n",
      " block_2_project (Conv2D)       (None, 56, 56, 24)   3456        ['block_2_depthwise_relu[0][0]'] \n",
      "                                                                                                  \n",
      " block_2_project_BN (BatchNorma  (None, 56, 56, 24)  96          ['block_2_project[0][0]']        \n",
      " lization)                                                                                        \n",
      "                                                                                                  \n",
      " block_2_add (Add)              (None, 56, 56, 24)   0           ['block_1_project_BN[0][0]',     \n",
      "                                                                  'block_2_project_BN[0][0]']     \n",
      "                                                                                                  \n",
      " block_3_expand (Conv2D)        (None, 56, 56, 144)  3456        ['block_2_add[0][0]']            \n",
      "                                                                                                  \n",
      " block_3_expand_BN (BatchNormal  (None, 56, 56, 144)  576        ['block_3_expand[0][0]']         \n",
      " ization)                                                                                         \n",
      "                                                                                                  \n",
      " block_3_expand_relu (ReLU)     (None, 56, 56, 144)  0           ['block_3_expand_BN[0][0]']      \n",
      "                                                                                                  \n",
      " block_3_pad (ZeroPadding2D)    (None, 57, 57, 144)  0           ['block_3_expand_relu[0][0]']    \n",
      "                                                                                                  \n",
      " block_3_depthwise (DepthwiseCo  (None, 28, 28, 144)  1296       ['block_3_pad[0][0]']            \n",
      " nv2D)                                                                                            \n",
      "                                                                                                  \n",
      " block_3_depthwise_BN (BatchNor  (None, 28, 28, 144)  576        ['block_3_depthwise[0][0]']      \n",
      " malization)                                                                                      \n",
      "                                                                                                  \n",
      " block_3_depthwise_relu (ReLU)  (None, 28, 28, 144)  0           ['block_3_depthwise_BN[0][0]']   \n",
      "                                                                                                  \n",
      " block_3_project (Conv2D)       (None, 28, 28, 32)   4608        ['block_3_depthwise_relu[0][0]'] \n",
      "                                                                                                  \n",
      " block_3_project_BN (BatchNorma  (None, 28, 28, 32)  128         ['block_3_project[0][0]']        \n",
      " lization)                                                                                        \n",
      "                                                                                                  \n",
      " block_4_expand (Conv2D)        (None, 28, 28, 192)  6144        ['block_3_project_BN[0][0]']     \n",
      "                                                                                                  \n",
      " block_4_expand_BN (BatchNormal  (None, 28, 28, 192)  768        ['block_4_expand[0][0]']         \n",
      " ization)                                                                                         \n",
      "                                                                                                  \n",
      " block_4_expand_relu (ReLU)     (None, 28, 28, 192)  0           ['block_4_expand_BN[0][0]']      \n",
      "                                                                                                  \n",
      " block_4_depthwise (DepthwiseCo  (None, 28, 28, 192)  1728       ['block_4_expand_relu[0][0]']    \n",
      " nv2D)                                                                                            \n",
      "                                                                                                  \n",
      " block_4_depthwise_BN (BatchNor  (None, 28, 28, 192)  768        ['block_4_depthwise[0][0]']      \n",
      " malization)                                                                                      \n",
      "                                                                                                  \n",
      " block_4_depthwise_relu (ReLU)  (None, 28, 28, 192)  0           ['block_4_depthwise_BN[0][0]']   \n",
      "                                                                                                  \n",
      " block_4_project (Conv2D)       (None, 28, 28, 32)   6144        ['block_4_depthwise_relu[0][0]'] \n",
      "                                                                                                  \n",
      " block_4_project_BN (BatchNorma  (None, 28, 28, 32)  128         ['block_4_project[0][0]']        \n",
      " lization)                                                                                        \n",
      "                                                                                                  \n",
      " block_4_add (Add)              (None, 28, 28, 32)   0           ['block_3_project_BN[0][0]',     \n",
      "                                                                  'block_4_project_BN[0][0]']     \n",
      "                                                                                                  \n",
      " block_5_expand (Conv2D)        (None, 28, 28, 192)  6144        ['block_4_add[0][0]']            \n",
      "                                                                                                  \n",
      " block_5_expand_BN (BatchNormal  (None, 28, 28, 192)  768        ['block_5_expand[0][0]']         \n",
      " ization)                                                                                         \n",
      "                                                                                                  \n",
      " block_5_expand_relu (ReLU)     (None, 28, 28, 192)  0           ['block_5_expand_BN[0][0]']      \n",
      "                                                                                                  \n",
      " block_5_depthwise (DepthwiseCo  (None, 28, 28, 192)  1728       ['block_5_expand_relu[0][0]']    \n",
      " nv2D)                                                                                            \n",
      "                                                                                                  \n",
      " block_5_depthwise_BN (BatchNor  (None, 28, 28, 192)  768        ['block_5_depthwise[0][0]']      \n",
      " malization)                                                                                      \n",
      "                                                                                                  \n",
      " block_5_depthwise_relu (ReLU)  (None, 28, 28, 192)  0           ['block_5_depthwise_BN[0][0]']   \n",
      "                                                                                                  \n",
      " block_5_project (Conv2D)       (None, 28, 28, 32)   6144        ['block_5_depthwise_relu[0][0]'] \n",
      "                                                                                                  \n",
      " block_5_project_BN (BatchNorma  (None, 28, 28, 32)  128         ['block_5_project[0][0]']        \n",
      " lization)                                                                                        \n",
      "                                                                                                  \n",
      " block_5_add (Add)              (None, 28, 28, 32)   0           ['block_4_add[0][0]',            \n",
      "                                                                  'block_5_project_BN[0][0]']     \n",
      "                                                                                                  \n",
      " block_6_expand (Conv2D)        (None, 28, 28, 192)  6144        ['block_5_add[0][0]']            \n",
      "                                                                                                  \n",
      " block_6_expand_BN (BatchNormal  (None, 28, 28, 192)  768        ['block_6_expand[0][0]']         \n",
      " ization)                                                                                         \n",
      "                                                                                                  \n",
      " block_6_expand_relu (ReLU)     (None, 28, 28, 192)  0           ['block_6_expand_BN[0][0]']      \n",
      "                                                                                                  \n",
      " block_6_pad (ZeroPadding2D)    (None, 29, 29, 192)  0           ['block_6_expand_relu[0][0]']    \n",
      "                                                                                                  \n",
      " block_6_depthwise (DepthwiseCo  (None, 14, 14, 192)  1728       ['block_6_pad[0][0]']            \n",
      " nv2D)                                                                                            \n",
      "                                                                                                  \n",
      " block_6_depthwise_BN (BatchNor  (None, 14, 14, 192)  768        ['block_6_depthwise[0][0]']      \n",
      " malization)                                                                                      \n",
      "                                                                                                  \n",
      " block_6_depthwise_relu (ReLU)  (None, 14, 14, 192)  0           ['block_6_depthwise_BN[0][0]']   \n",
      "                                                                                                  \n",
      " block_6_project (Conv2D)       (None, 14, 14, 64)   12288       ['block_6_depthwise_relu[0][0]'] \n",
      "                                                                                                  \n",
      " block_6_project_BN (BatchNorma  (None, 14, 14, 64)  256         ['block_6_project[0][0]']        \n",
      " lization)                                                                                        \n",
      "                                                                                                  \n",
      " block_7_expand (Conv2D)        (None, 14, 14, 384)  24576       ['block_6_project_BN[0][0]']     \n",
      "                                                                                                  \n",
      " block_7_expand_BN (BatchNormal  (None, 14, 14, 384)  1536       ['block_7_expand[0][0]']         \n",
      " ization)                                                                                         \n",
      "                                                                                                  \n",
      " block_7_expand_relu (ReLU)     (None, 14, 14, 384)  0           ['block_7_expand_BN[0][0]']      \n",
      "                                                                                                  \n",
      " block_7_depthwise (DepthwiseCo  (None, 14, 14, 384)  3456       ['block_7_expand_relu[0][0]']    \n",
      " nv2D)                                                                                            \n",
      "                                                                                                  \n",
      " block_7_depthwise_BN (BatchNor  (None, 14, 14, 384)  1536       ['block_7_depthwise[0][0]']      \n",
      " malization)                                                                                      \n",
      "                                                                                                  \n",
      " block_7_depthwise_relu (ReLU)  (None, 14, 14, 384)  0           ['block_7_depthwise_BN[0][0]']   \n",
      "                                                                                                  \n",
      " block_7_project (Conv2D)       (None, 14, 14, 64)   24576       ['block_7_depthwise_relu[0][0]'] \n",
      "                                                                                                  \n",
      " block_7_project_BN (BatchNorma  (None, 14, 14, 64)  256         ['block_7_project[0][0]']        \n",
      " lization)                                                                                        \n",
      "                                                                                                  \n",
      " block_7_add (Add)              (None, 14, 14, 64)   0           ['block_6_project_BN[0][0]',     \n",
      "                                                                  'block_7_project_BN[0][0]']     \n",
      "                                                                                                  \n",
      " block_8_expand (Conv2D)        (None, 14, 14, 384)  24576       ['block_7_add[0][0]']            \n",
      "                                                                                                  \n",
      " block_8_expand_BN (BatchNormal  (None, 14, 14, 384)  1536       ['block_8_expand[0][0]']         \n",
      " ization)                                                                                         \n",
      "                                                                                                  \n",
      " block_8_expand_relu (ReLU)     (None, 14, 14, 384)  0           ['block_8_expand_BN[0][0]']      \n",
      "                                                                                                  \n",
      " block_8_depthwise (DepthwiseCo  (None, 14, 14, 384)  3456       ['block_8_expand_relu[0][0]']    \n",
      " nv2D)                                                                                            \n",
      "                                                                                                  \n",
      " block_8_depthwise_BN (BatchNor  (None, 14, 14, 384)  1536       ['block_8_depthwise[0][0]']      \n",
      " malization)                                                                                      \n",
      "                                                                                                  \n",
      " block_8_depthwise_relu (ReLU)  (None, 14, 14, 384)  0           ['block_8_depthwise_BN[0][0]']   \n",
      "                                                                                                  \n",
      " block_8_project (Conv2D)       (None, 14, 14, 64)   24576       ['block_8_depthwise_relu[0][0]'] \n",
      "                                                                                                  \n",
      " block_8_project_BN (BatchNorma  (None, 14, 14, 64)  256         ['block_8_project[0][0]']        \n",
      " lization)                                                                                        \n",
      "                                                                                                  \n",
      " block_8_add (Add)              (None, 14, 14, 64)   0           ['block_7_add[0][0]',            \n",
      "                                                                  'block_8_project_BN[0][0]']     \n",
      "                                                                                                  \n",
      " block_9_expand (Conv2D)        (None, 14, 14, 384)  24576       ['block_8_add[0][0]']            \n",
      "                                                                                                  \n",
      " block_9_expand_BN (BatchNormal  (None, 14, 14, 384)  1536       ['block_9_expand[0][0]']         \n",
      " ization)                                                                                         \n",
      "                                                                                                  \n",
      " block_9_expand_relu (ReLU)     (None, 14, 14, 384)  0           ['block_9_expand_BN[0][0]']      \n",
      "                                                                                                  \n",
      " block_9_depthwise (DepthwiseCo  (None, 14, 14, 384)  3456       ['block_9_expand_relu[0][0]']    \n",
      " nv2D)                                                                                            \n",
      "                                                                                                  \n",
      " block_9_depthwise_BN (BatchNor  (None, 14, 14, 384)  1536       ['block_9_depthwise[0][0]']      \n",
      " malization)                                                                                      \n",
      "                                                                                                  \n",
      " block_9_depthwise_relu (ReLU)  (None, 14, 14, 384)  0           ['block_9_depthwise_BN[0][0]']   \n",
      "                                                                                                  \n",
      " block_9_project (Conv2D)       (None, 14, 14, 64)   24576       ['block_9_depthwise_relu[0][0]'] \n",
      "                                                                                                  \n",
      " block_9_project_BN (BatchNorma  (None, 14, 14, 64)  256         ['block_9_project[0][0]']        \n",
      " lization)                                                                                        \n",
      "                                                                                                  \n",
      " block_9_add (Add)              (None, 14, 14, 64)   0           ['block_8_add[0][0]',            \n",
      "                                                                  'block_9_project_BN[0][0]']     \n",
      "                                                                                                  \n",
      " block_10_expand (Conv2D)       (None, 14, 14, 384)  24576       ['block_9_add[0][0]']            \n",
      "                                                                                                  \n",
      " block_10_expand_BN (BatchNorma  (None, 14, 14, 384)  1536       ['block_10_expand[0][0]']        \n",
      " lization)                                                                                        \n",
      "                                                                                                  \n",
      " block_10_expand_relu (ReLU)    (None, 14, 14, 384)  0           ['block_10_expand_BN[0][0]']     \n",
      "                                                                                                  \n",
      " block_10_depthwise (DepthwiseC  (None, 14, 14, 384)  3456       ['block_10_expand_relu[0][0]']   \n",
      " onv2D)                                                                                           \n",
      "                                                                                                  \n",
      " block_10_depthwise_BN (BatchNo  (None, 14, 14, 384)  1536       ['block_10_depthwise[0][0]']     \n",
      " rmalization)                                                                                     \n",
      "                                                                                                  \n",
      " block_10_depthwise_relu (ReLU)  (None, 14, 14, 384)  0          ['block_10_depthwise_BN[0][0]']  \n",
      "                                                                                                  \n",
      " block_10_project (Conv2D)      (None, 14, 14, 96)   36864       ['block_10_depthwise_relu[0][0]']\n",
      "                                                                                                  \n",
      " block_10_project_BN (BatchNorm  (None, 14, 14, 96)  384         ['block_10_project[0][0]']       \n",
      " alization)                                                                                       \n",
      "                                                                                                  \n",
      " block_11_expand (Conv2D)       (None, 14, 14, 576)  55296       ['block_10_project_BN[0][0]']    \n",
      "                                                                                                  \n",
      " block_11_expand_BN (BatchNorma  (None, 14, 14, 576)  2304       ['block_11_expand[0][0]']        \n",
      " lization)                                                                                        \n",
      "                                                                                                  \n",
      " block_11_expand_relu (ReLU)    (None, 14, 14, 576)  0           ['block_11_expand_BN[0][0]']     \n",
      "                                                                                                  \n",
      " block_11_depthwise (DepthwiseC  (None, 14, 14, 576)  5184       ['block_11_expand_relu[0][0]']   \n",
      " onv2D)                                                                                           \n",
      "                                                                                                  \n",
      " block_11_depthwise_BN (BatchNo  (None, 14, 14, 576)  2304       ['block_11_depthwise[0][0]']     \n",
      " rmalization)                                                                                     \n",
      "                                                                                                  \n",
      " block_11_depthwise_relu (ReLU)  (None, 14, 14, 576)  0          ['block_11_depthwise_BN[0][0]']  \n",
      "                                                                                                  \n",
      " block_11_project (Conv2D)      (None, 14, 14, 96)   55296       ['block_11_depthwise_relu[0][0]']\n",
      "                                                                                                  \n",
      " block_11_project_BN (BatchNorm  (None, 14, 14, 96)  384         ['block_11_project[0][0]']       \n",
      " alization)                                                                                       \n",
      "                                                                                                  \n",
      " block_11_add (Add)             (None, 14, 14, 96)   0           ['block_10_project_BN[0][0]',    \n",
      "                                                                  'block_11_project_BN[0][0]']    \n",
      "                                                                                                  \n",
      " block_12_expand (Conv2D)       (None, 14, 14, 576)  55296       ['block_11_add[0][0]']           \n",
      "                                                                                                  \n",
      " block_12_expand_BN (BatchNorma  (None, 14, 14, 576)  2304       ['block_12_expand[0][0]']        \n",
      " lization)                                                                                        \n",
      "                                                                                                  \n",
      " block_12_expand_relu (ReLU)    (None, 14, 14, 576)  0           ['block_12_expand_BN[0][0]']     \n",
      "                                                                                                  \n",
      " block_12_depthwise (DepthwiseC  (None, 14, 14, 576)  5184       ['block_12_expand_relu[0][0]']   \n",
      " onv2D)                                                                                           \n",
      "                                                                                                  \n",
      " block_12_depthwise_BN (BatchNo  (None, 14, 14, 576)  2304       ['block_12_depthwise[0][0]']     \n",
      " rmalization)                                                                                     \n",
      "                                                                                                  \n",
      " block_12_depthwise_relu (ReLU)  (None, 14, 14, 576)  0          ['block_12_depthwise_BN[0][0]']  \n",
      "                                                                                                  \n",
      " block_12_project (Conv2D)      (None, 14, 14, 96)   55296       ['block_12_depthwise_relu[0][0]']\n",
      "                                                                                                  \n",
      " block_12_project_BN (BatchNorm  (None, 14, 14, 96)  384         ['block_12_project[0][0]']       \n",
      " alization)                                                                                       \n",
      "                                                                                                  \n",
      " block_12_add (Add)             (None, 14, 14, 96)   0           ['block_11_add[0][0]',           \n",
      "                                                                  'block_12_project_BN[0][0]']    \n",
      "                                                                                                  \n",
      " block_13_expand (Conv2D)       (None, 14, 14, 576)  55296       ['block_12_add[0][0]']           \n",
      "                                                                                                  \n",
      " block_13_expand_BN (BatchNorma  (None, 14, 14, 576)  2304       ['block_13_expand[0][0]']        \n",
      " lization)                                                                                        \n",
      "                                                                                                  \n",
      " block_13_expand_relu (ReLU)    (None, 14, 14, 576)  0           ['block_13_expand_BN[0][0]']     \n",
      "                                                                                                  \n",
      " block_13_pad (ZeroPadding2D)   (None, 15, 15, 576)  0           ['block_13_expand_relu[0][0]']   \n",
      "                                                                                                  \n",
      " block_13_depthwise (DepthwiseC  (None, 7, 7, 576)   5184        ['block_13_pad[0][0]']           \n",
      " onv2D)                                                                                           \n",
      "                                                                                                  \n",
      " block_13_depthwise_BN (BatchNo  (None, 7, 7, 576)   2304        ['block_13_depthwise[0][0]']     \n",
      " rmalization)                                                                                     \n",
      "                                                                                                  \n",
      " block_13_depthwise_relu (ReLU)  (None, 7, 7, 576)   0           ['block_13_depthwise_BN[0][0]']  \n",
      "                                                                                                  \n",
      " block_13_project (Conv2D)      (None, 7, 7, 160)    92160       ['block_13_depthwise_relu[0][0]']\n",
      "                                                                                                  \n",
      " block_13_project_BN (BatchNorm  (None, 7, 7, 160)   640         ['block_13_project[0][0]']       \n",
      " alization)                                                                                       \n",
      "                                                                                                  \n",
      " block_14_expand (Conv2D)       (None, 7, 7, 960)    153600      ['block_13_project_BN[0][0]']    \n",
      "                                                                                                  \n",
      " block_14_expand_BN (BatchNorma  (None, 7, 7, 960)   3840        ['block_14_expand[0][0]']        \n",
      " lization)                                                                                        \n",
      "                                                                                                  \n",
      " block_14_expand_relu (ReLU)    (None, 7, 7, 960)    0           ['block_14_expand_BN[0][0]']     \n",
      "                                                                                                  \n",
      " block_14_depthwise (DepthwiseC  (None, 7, 7, 960)   8640        ['block_14_expand_relu[0][0]']   \n",
      " onv2D)                                                                                           \n",
      "                                                                                                  \n",
      " block_14_depthwise_BN (BatchNo  (None, 7, 7, 960)   3840        ['block_14_depthwise[0][0]']     \n",
      " rmalization)                                                                                     \n",
      "                                                                                                  \n",
      " block_14_depthwise_relu (ReLU)  (None, 7, 7, 960)   0           ['block_14_depthwise_BN[0][0]']  \n",
      "                                                                                                  \n",
      " block_14_project (Conv2D)      (None, 7, 7, 160)    153600      ['block_14_depthwise_relu[0][0]']\n",
      "                                                                                                  \n",
      " block_14_project_BN (BatchNorm  (None, 7, 7, 160)   640         ['block_14_project[0][0]']       \n",
      " alization)                                                                                       \n",
      "                                                                                                  \n",
      " block_14_add (Add)             (None, 7, 7, 160)    0           ['block_13_project_BN[0][0]',    \n",
      "                                                                  'block_14_project_BN[0][0]']    \n",
      "                                                                                                  \n",
      " block_15_expand (Conv2D)       (None, 7, 7, 960)    153600      ['block_14_add[0][0]']           \n",
      "                                                                                                  \n",
      " block_15_expand_BN (BatchNorma  (None, 7, 7, 960)   3840        ['block_15_expand[0][0]']        \n",
      " lization)                                                                                        \n",
      "                                                                                                  \n",
      " block_15_expand_relu (ReLU)    (None, 7, 7, 960)    0           ['block_15_expand_BN[0][0]']     \n",
      "                                                                                                  \n",
      " block_15_depthwise (DepthwiseC  (None, 7, 7, 960)   8640        ['block_15_expand_relu[0][0]']   \n",
      " onv2D)                                                                                           \n",
      "                                                                                                  \n",
      " block_15_depthwise_BN (BatchNo  (None, 7, 7, 960)   3840        ['block_15_depthwise[0][0]']     \n",
      " rmalization)                                                                                     \n",
      "                                                                                                  \n",
      " block_15_depthwise_relu (ReLU)  (None, 7, 7, 960)   0           ['block_15_depthwise_BN[0][0]']  \n",
      "                                                                                                  \n",
      " block_15_project (Conv2D)      (None, 7, 7, 160)    153600      ['block_15_depthwise_relu[0][0]']\n",
      "                                                                                                  \n",
      " block_15_project_BN (BatchNorm  (None, 7, 7, 160)   640         ['block_15_project[0][0]']       \n",
      " alization)                                                                                       \n",
      "                                                                                                  \n",
      " block_15_add (Add)             (None, 7, 7, 160)    0           ['block_14_add[0][0]',           \n",
      "                                                                  'block_15_project_BN[0][0]']    \n",
      "                                                                                                  \n",
      " block_16_expand (Conv2D)       (None, 7, 7, 960)    153600      ['block_15_add[0][0]']           \n",
      "                                                                                                  \n",
      " block_16_expand_BN (BatchNorma  (None, 7, 7, 960)   3840        ['block_16_expand[0][0]']        \n",
      " lization)                                                                                        \n",
      "                                                                                                  \n",
      " block_16_expand_relu (ReLU)    (None, 7, 7, 960)    0           ['block_16_expand_BN[0][0]']     \n",
      "                                                                                                  \n",
      " block_16_depthwise (DepthwiseC  (None, 7, 7, 960)   8640        ['block_16_expand_relu[0][0]']   \n",
      " onv2D)                                                                                           \n",
      "                                                                                                  \n",
      " block_16_depthwise_BN (BatchNo  (None, 7, 7, 960)   3840        ['block_16_depthwise[0][0]']     \n",
      " rmalization)                                                                                     \n",
      "                                                                                                  \n",
      " block_16_depthwise_relu (ReLU)  (None, 7, 7, 960)   0           ['block_16_depthwise_BN[0][0]']  \n",
      "                                                                                                  \n",
      " block_16_project (Conv2D)      (None, 7, 7, 320)    307200      ['block_16_depthwise_relu[0][0]']\n",
      "                                                                                                  \n",
      " block_16_project_BN (BatchNorm  (None, 7, 7, 320)   1280        ['block_16_project[0][0]']       \n",
      " alization)                                                                                       \n",
      "                                                                                                  \n",
      " Conv_1 (Conv2D)                (None, 7, 7, 1280)   409600      ['block_16_project_BN[0][0]']    \n",
      "                                                                                                  \n",
      " Conv_1_bn (BatchNormalization)  (None, 7, 7, 1280)  5120        ['Conv_1[0][0]']                 \n",
      "                                                                                                  \n",
      " out_relu (ReLU)                (None, 7, 7, 1280)   0           ['Conv_1_bn[0][0]']              \n",
      "                                                                                                  \n",
      "==================================================================================================\n",
      "Total params: 2,257,984\n",
      "Trainable params: 0\n",
      "Non-trainable params: 2,257,984\n",
      "__________________________________________________________________________________________________\n"
     ]
    }
   ],
   "source": [
    "# загрузка обученной модели MobileNetV2\n",
    "mobilenetv2_model = tf.keras.applications.mobilenet_v2.MobileNetV2(input_shape=(IMAGE_SIZE, IMAGE_SIZE, 3),        \n",
    "                                               include_top=False,\n",
    "                                               weights='imagenet')\n",
    "mobilenetv2_model.trainable = False # замораживаем всю базовую модель\n",
    "mobilenetv2_model.summary()"
   ]
  },
  {
   "cell_type": "code",
   "execution_count": 7,
   "metadata": {
    "colab": {
     "base_uri": "https://localhost:8080/"
    },
    "execution": {
     "iopub.execute_input": "2022-08-31T15:17:47.577983Z",
     "iopub.status.busy": "2022-08-31T15:17:47.576819Z",
     "iopub.status.idle": "2022-08-31T15:17:48.068321Z",
     "shell.execute_reply": "2022-08-31T15:17:48.067311Z",
     "shell.execute_reply.started": "2022-08-31T15:17:47.577938Z"
    },
    "executionInfo": {
     "elapsed": 1036,
     "status": "ok",
     "timestamp": 1671560459835,
     "user": {
      "displayName": "engener64@yandex.ru",
      "userId": "06978561127052537462"
     },
     "user_tz": -240
    },
    "id": "Jttc_zZC0l-r",
    "outputId": "b500801b-71aa-456b-d966-9f85c4e72086"
   },
   "outputs": [
    {
     "name": "stdout",
     "output_type": "stream",
     "text": [
      "Model: \"sequential\"\n",
      "_________________________________________________________________\n",
      " Layer (type)                Output Shape              Param #   \n",
      "=================================================================\n",
      " mobilenetv2_1.00_224 (Funct  (None, 7, 7, 1280)       2257984   \n",
      " ional)                                                          \n",
      "                                                                 \n",
      " flatten (Flatten)           (None, 62720)             0         \n",
      "                                                                 \n",
      " dense (Dense)               (None, 512)               32113152  \n",
      "                                                                 \n",
      " dropout (Dropout)           (None, 512)               0         \n",
      "                                                                 \n",
      " dense_1 (Dense)             (None, 9)                 4617      \n",
      "                                                                 \n",
      "=================================================================\n",
      "Total params: 34,375,753\n",
      "Trainable params: 32,117,769\n",
      "Non-trainable params: 2,257,984\n",
      "_________________________________________________________________\n"
     ]
    }
   ],
   "source": [
    "# создание модели с дополнительными слоями для решения моей задачи\n",
    "model = tf.keras.Sequential([\n",
    "    mobilenetv2_model,\n",
    "    tf.keras.layers.Flatten(),\n",
    "    tf.keras.layers.Dense(512, activation='relu'),\n",
    "    tf.keras.layers.Dropout(0.2),\n",
    "    tf.keras.layers.Dense(N_CLASSES)])\n",
    "model.build(input_shape=(None, IMAGE_SIZE, IMAGE_SIZE, 3))\n",
    "model.summary()"
   ]
  },
  {
   "cell_type": "code",
   "execution_count": null,
   "metadata": {
    "execution": {
     "iopub.execute_input": "2022-08-31T15:17:53.075426Z",
     "iopub.status.busy": "2022-08-31T15:17:53.075045Z",
     "iopub.status.idle": "2022-08-31T15:17:53.081294Z",
     "shell.execute_reply": "2022-08-31T15:17:53.080272Z",
     "shell.execute_reply.started": "2022-08-31T15:17:53.075386Z"
    },
    "id": "8h86rKhN5rgv"
   },
   "outputs": [],
   "source": [
    "# создание папки модели и имени файла для записи весов во время обучения\n",
    "path = Path('model_MobileNetV2')\n",
    "path.mkdir(exist_ok=True, parents=True) # папка создается на вашем гугл диске вместе с \"родителями\"\n",
    "assert path.exists()\n",
    "cpt_filename = 'best_checkpoint.hdf5'  \n",
    "cpt_path = str(path / cpt_filename)"
   ]
  },
  {
   "cell_type": "code",
   "execution_count": null,
   "metadata": {
    "execution": {
     "iopub.execute_input": "2022-08-31T15:17:57.576318Z",
     "iopub.status.busy": "2022-08-31T15:17:57.575680Z",
     "iopub.status.idle": "2022-08-31T15:17:57.581657Z",
     "shell.execute_reply": "2022-08-31T15:17:57.580584Z",
     "shell.execute_reply.started": "2022-08-31T15:17:57.576277Z"
    },
    "id": "pfKhHnL01YEX"
   },
   "outputs": [],
   "source": [
    "# обратный вызов для сохранения весов модели\n",
    "checkpoint = ModelCheckpoint(cpt_path,\n",
    "                            verbose=1,\n",
    "                            save_best_only=True,\n",
    "                            save_weights_only=True,\n",
    "                            save_freq='epoch',\n",
    "                            mode='min')"
   ]
  },
  {
   "cell_type": "code",
   "execution_count": null,
   "metadata": {
    "execution": {
     "iopub.execute_input": "2022-08-31T15:18:05.457088Z",
     "iopub.status.busy": "2022-08-31T15:18:05.456730Z",
     "iopub.status.idle": "2022-08-31T15:18:05.473557Z",
     "shell.execute_reply": "2022-08-31T15:18:05.472665Z",
     "shell.execute_reply.started": "2022-08-31T15:18:05.457055Z"
    },
    "id": "cd1RGMReLjGV"
   },
   "outputs": [],
   "source": [
    "# функция экспоненциального затухания к шагу оптимизатора с заданной начальной скоростью обучения\n",
    "lr_schedule = tf.keras.optimizers.schedules.ExponentialDecay(\n",
    "    initial_learning_rate=1e-4,\n",
    "    decay_steps=100,\n",
    "    decay_rate=0.9)\n",
    "\n",
    "# настройка модели для обучения\n",
    "model.compile(loss=tf.keras.losses.SparseCategoricalCrossentropy(from_logits=True),\n",
    "              optimizer=tf.keras.optimizers.Adam(learning_rate=lr_schedule),\n",
    "              metrics=[tf.keras.metrics.SparseCategoricalAccuracy()])"
   ]
  },
  {
   "cell_type": "code",
   "execution_count": null,
   "metadata": {
    "execution": {
     "iopub.execute_input": "2022-08-31T15:18:21.216997Z",
     "iopub.status.busy": "2022-08-31T15:18:21.216060Z",
     "iopub.status.idle": "2022-08-31T17:31:01.416809Z",
     "shell.execute_reply": "2022-08-31T17:31:01.415777Z",
     "shell.execute_reply.started": "2022-08-31T15:18:21.216960Z"
    },
    "id": "DdDt5gdWLsZT",
    "outputId": "9255d1a5-9441-43f1-83d0-aa6bf6ebb44b"
   },
   "outputs": [
    {
     "data": {
      "image/png": "[encoded data removed]",
      "text/plain": [
       "<Figure size 864x576 with 2 Axes>"
      ]
     },
     "metadata": {
      "needs_background": "light"
     },
     "output_type": "display_data"
    },
    {
     "name": "stdout",
     "output_type": "stream",
     "text": [
      "Loss\n",
      "\ttraining         \t (min:    1.770, max:    2.009, cur:    1.770)\n",
      "\tvalidation       \t (min:    1.791, max:    1.851, cur:    1.791)\n",
      "sparse_categorical_accuracy\n",
      "\ttraining         \t (min:    0.264, max:    0.356, cur:    0.353)\n",
      "\tvalidation       \t (min:    0.321, max:    0.348, cur:    0.347)\n"
     ]
    }
   ],
   "source": [
    "# обучение модели\n",
    "EPOCHS = 10\n",
    "history = model.fit(train_data_gen, epochs=EPOCHS, validation_data=val_data_gen,\n",
    "                    callbacks=[checkpoint,\n",
    "                               PlotLossesCallback()\n",
    "                              ]\n",
    "                    )"
   ]
  },
  {
   "cell_type": "code",
   "execution_count": null,
   "metadata": {
    "execution": {
     "iopub.execute_input": "2022-08-31T17:37:12.728421Z",
     "iopub.status.busy": "2022-08-31T17:37:12.727673Z",
     "iopub.status.idle": "2022-08-31T17:38:34.983432Z",
     "shell.execute_reply": "2022-08-31T17:38:34.982364Z",
     "shell.execute_reply.started": "2022-08-31T17:37:12.728383Z"
    },
    "id": "aZI-8UdzIN51",
    "outputId": "2bce27ac-697b-4f76-dd95-6ec994adcfd7"
   },
   "outputs": [
    {
     "name": "stdout",
     "output_type": "stream",
     "text": [
      "313/313 [==============================] - 71s 226ms/step - loss: 1.7908 - sparse_categorical_accuracy: 0.3473\n"
     ]
    },
    {
     "data": {
      "text/plain": [
       "[1.7908124923706055, 0.34728744626045227]"
      ]
     },
     "execution_count": 230,
     "metadata": {},
     "output_type": "execute_result"
    }
   ],
   "source": [
    "# значение потерь и значения метрики для модели в тестовом режиме\n",
    "model.evaluate(val_data_gen)"
   ]
  },
  {
   "cell_type": "code",
   "execution_count": 14,
   "metadata": {
    "execution": {
     "iopub.execute_input": "2022-08-31T17:38:40.468717Z",
     "iopub.status.busy": "2022-08-31T17:38:40.468348Z",
     "iopub.status.idle": "2022-08-31T17:38:41.848046Z",
     "shell.execute_reply": "2022-08-31T17:38:41.846615Z",
     "shell.execute_reply.started": "2022-08-31T17:38:40.468685Z"
    },
    "executionInfo": {
     "elapsed": 940,
     "status": "ok",
     "timestamp": 1671560846879,
     "user": {
      "displayName": "engener64@yandex.ru",
      "userId": "06978561127052537462"
     },
     "user_tz": -240
    },
    "id": "kdAMvEnGIN50"
   },
   "outputs": [],
   "source": [
    "# запись весов модели\n",
    "model.save_weights('model_MobileNetV2/weights.h5')"
   ]
  },
  {
   "cell_type": "code",
   "execution_count": 13,
   "metadata": {
    "executionInfo": {
     "elapsed": 279,
     "status": "ok",
     "timestamp": 1671560178402,
     "user": {
      "displayName": "engener64@yandex.ru",
      "userId": "06978561127052537462"
     },
     "user_tz": -240
    },
    "id": "730L2yOjIN50"
   },
   "outputs": [],
   "source": [
    "# запись конфигурации модели\n",
    "model_json = model.to_json()\n",
    "with open(\"model_MobileNetV2/model.json\",\"w\") as json_file:\n",
    "    json_file.write(model_json)"
   ]
  },
  {
   "cell_type": "code",
   "execution_count": null,
   "metadata": {
    "execution": {
     "iopub.execute_input": "2022-08-31T17:39:00.636078Z",
     "iopub.status.busy": "2022-08-31T17:39:00.635711Z",
     "iopub.status.idle": "2022-08-31T17:39:00.886350Z",
     "shell.execute_reply": "2022-08-31T17:39:00.885409Z",
     "shell.execute_reply.started": "2022-08-31T17:39:00.636044Z"
    },
    "id": "qApITQUQIN52",
    "outputId": "2db020a6-7fd8-4c8f-bb86-f4df4f130b0c"
   },
   "outputs": [
    {
     "data": {
      "text/plain": [
       "<matplotlib.image.AxesImage at 0x7f10cd4d8f10>"
      ]
     },
     "execution_count": 233,
     "metadata": {},
     "output_type": "execute_result"
    },
    {
     "data": {
      "image/png": "[encoded data removed]",
      "text/plain": [
       "<Figure size 432x288 with 1 Axes>"
      ]
     },
     "metadata": {
      "needs_background": "light"
     },
     "output_type": "display_data"
    }
   ],
   "source": [
    "# случайный выбор и обработка изображения для теста\n",
    "rng = np.random.default_rng()\n",
    "n = rng.integers(5000, size=1)[0]\n",
    "img = image.load_img('test_kaggle/' + str(n) + '.jpg', target_size=(224, 224))\n",
    "x = image.img_to_array(img, dtype=np.uint8)\n",
    "x = np.expand_dims(x, axis=0)\n",
    "plt.imshow(img)"
   ]
  },
  {
   "cell_type": "code",
   "execution_count": null,
   "metadata": {
    "execution": {
     "iopub.execute_input": "2022-08-31T17:39:07.954172Z",
     "iopub.status.busy": "2022-08-31T17:39:07.953485Z",
     "iopub.status.idle": "2022-08-31T17:39:09.264564Z",
     "shell.execute_reply": "2022-08-31T17:39:09.263642Z",
     "shell.execute_reply.started": "2022-08-31T17:39:07.954137Z"
    },
    "id": "96lyZg2GIN53",
    "outputId": "f2971225-f7c3-4b92-addd-f97cfea7c91e"
   },
   "outputs": [
    {
     "name": "stdout",
     "output_type": "stream",
     "text": [
      "46.9 ms ± 10.8 ms per loop (mean ± std. dev. of 7 runs, 1 loop each)\n"
     ]
    }
   ],
   "source": [
    "# определение времени инференса сети\n",
    "%%timeit \n",
    "#-n 10 -r 10\n",
    "\n",
    "model.predict(preprocess_input(x))"
   ]
  },
  {
   "cell_type": "code",
   "execution_count": 15,
   "metadata": {
    "colab": {
     "base_uri": "https://localhost:8080/"
    },
    "execution": {
     "iopub.execute_input": "2022-08-31T17:39:20.996434Z",
     "iopub.status.busy": "2022-08-31T17:39:20.995307Z",
     "iopub.status.idle": "2022-08-31T17:39:21.009612Z",
     "shell.execute_reply": "2022-08-31T17:39:21.008304Z",
     "shell.execute_reply.started": "2022-08-31T17:39:20.996389Z"
    },
    "executionInfo": {
     "elapsed": 290,
     "status": "ok",
     "timestamp": 1671560208997,
     "user": {
      "displayName": "engener64@yandex.ru",
      "userId": "06978561127052537462"
     },
     "user_tz": -240
    },
    "id": "mZxWa7bvIN54",
    "outputId": "c9dc0386-0bcd-4580-c7ea-0d12cb8eb72e"
   },
   "outputs": [
    {
     "data": {
      "text/plain": [
       "{0: 'anger',\n",
       " 1: 'contempt',\n",
       " 2: 'disgust',\n",
       " 3: 'fear',\n",
       " 4: 'happy',\n",
       " 5: 'neutral',\n",
       " 6: 'sad',\n",
       " 7: 'surprise',\n",
       " 8: 'uncertain'}"
      ]
     },
     "execution_count": 15,
     "metadata": {},
     "output_type": "execute_result"
    }
   ],
   "source": [
    "# создание словаря эмоций из файла\n",
    "def load_dict_from_file(path):\n",
    "    f = open(path,'r')\n",
    "    data=f.read()\n",
    "    f.close()\n",
    "    return eval(data)\n",
    "\n",
    "emotion_mapping = load_dict_from_file('dict.txt')\n",
    "emotion_mapping"
   ]
  },
  {
   "cell_type": "code",
   "execution_count": null,
   "metadata": {
    "execution": {
     "iopub.execute_input": "2022-08-31T17:39:27.990785Z",
     "iopub.status.busy": "2022-08-31T17:39:27.989774Z",
     "iopub.status.idle": "2022-08-31T17:39:28.044295Z",
     "shell.execute_reply": "2022-08-31T17:39:28.043422Z",
     "shell.execute_reply.started": "2022-08-31T17:39:27.990739Z"
    },
    "id": "MothuhTUIN54",
    "outputId": "2e4b9019-bc12-4f81-a200-7c9fa7858582"
   },
   "outputs": [
    {
     "data": {
      "text/plain": [
       "'neutral'"
      ]
     },
     "execution_count": 237,
     "metadata": {},
     "output_type": "execute_result"
    }
   ],
   "source": [
    "# определение эмоции на тестовом изображении\n",
    "predicted = model.predict(preprocess_input(x))\n",
    "emotion_mapping[np.argmax(predicted)]"
   ]
  },
  {
   "cell_type": "code",
   "execution_count": null,
   "metadata": {
    "execution": {
     "iopub.execute_input": "2022-08-31T17:39:33.722037Z",
     "iopub.status.busy": "2022-08-31T17:39:33.721673Z",
     "iopub.status.idle": "2022-08-31T17:39:33.728726Z",
     "shell.execute_reply": "2022-08-31T17:39:33.726352Z",
     "shell.execute_reply.started": "2022-08-31T17:39:33.721998Z"
    },
    "id": "AMt4Tzv3IN55"
   },
   "outputs": [],
   "source": [
    "# создание списка для структруированного по заданию итогового csv-файла из файла \n",
    "def load_list_from_file(path):\n",
    "    f = open(path,'r')\n",
    "    data=f.read()\n",
    "    f.close()\n",
    "    return eval(data)\n",
    "\n",
    "my_list = load_list_from_file('test_list.txt')   "
   ]
  },
  {
   "cell_type": "code",
   "execution_count": null,
   "metadata": {
    "execution": {
     "iopub.execute_input": "2022-08-31T17:40:22.559070Z",
     "iopub.status.busy": "2022-08-31T17:40:22.558319Z",
     "iopub.status.idle": "2022-08-31T17:44:49.554463Z",
     "shell.execute_reply": "2022-08-31T17:44:49.553383Z",
     "shell.execute_reply.started": "2022-08-31T17:40:22.559032Z"
    },
    "id": "FzJxHPUuIN56"
   },
   "outputs": [],
   "source": [
    "# запись итогового csv-файла\n",
    "with open('submission_mobilenetv2.csv', 'w') as f:\n",
    "    fieldnames = ['image_path', 'emotion']\n",
    "    writer = csv.DictWriter(f, fieldnames=fieldnames)\n",
    "    writer.writeheader()\n",
    "    for name in my_list:\n",
    "        img = image.load_img('test_kaggle/'+ name, target_size=(224, 224))\n",
    "        x = image.img_to_array(img)\n",
    "        x = np.expand_dims(x, axis=0)\n",
    "        predicted_arr = model.predict(preprocess_input(x))\n",
    "        predicted = emotion_mapping[np.argmax(predicted_arr)]\n",
    "        writer.writerow({'image_path': name.replace('test_kaggle/', ''), 'emotion': predicted})"
   ]
  },
  {
   "cell_type": "markdown",
   "metadata": {
    "id": "fkj-Dr1XIN57"
   },
   "source": [
    "### Оценки Kaggle\n",
    "\n",
    "Score: 0,32720\n",
    "\n",
    "Public score: 0,34640"
   ]
  }
 ],
 "metadata": {
  "colab": {
   "provenance": []
  },
  "kernelspec": {
   "display_name": "Python 3 (ipykernel)",
   "language": "python",
   "name": "python3"
  },
  "language_info": {
   "codemirror_mode": {
    "name": "ipython",
    "version": 3
   },
   "file_extension": ".py",
   "mimetype": "text/x-python",
   "name": "python",
   "nbconvert_exporter": "python",
   "pygments_lexer": "ipython3",
   "version": "3.9.13"
  }
 },
 "nbformat": 4,
 "nbformat_minor": 1
}
