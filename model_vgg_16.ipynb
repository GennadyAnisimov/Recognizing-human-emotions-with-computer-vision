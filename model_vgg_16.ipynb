{
 "cells": [
  {
   "cell_type": "code",
   "execution_count": 2,
   "metadata": {
    "execution": {
     "iopub.execute_input": "2022-09-27T13:17:54.858556Z",
     "iopub.status.busy": "2022-09-27T13:17:54.858169Z",
     "iopub.status.idle": "2022-09-27T13:17:59.902631Z",
     "shell.execute_reply": "2022-09-27T13:17:59.901547Z",
     "shell.execute_reply.started": "2022-09-27T13:17:54.858521Z"
    },
    "executionInfo": {
     "elapsed": 309,
     "status": "ok",
     "timestamp": 1671556953435,
     "user": {
      "displayName": "engener64@yandex.ru",
      "userId": "06978561127052537462"
     },
     "user_tz": -240
    },
    "id": "NxJ5rBbqGVKF"
   },
   "outputs": [],
   "source": [
    "# установка необходимых библиотек\n",
    "import matplotlib.pyplot as plt\n",
    "import pandas as pd\n",
    "import numpy as np\n",
    "from pathlib import Path\n",
    "import time\n",
    "import csv\n",
    "\n",
    "import tensorflow as tf\n",
    "from tensorflow import keras\n",
    "from keras.callbacks import ModelCheckpoint\n",
    "from livelossplot.tf_keras import PlotLossesCallback\n",
    "from tensorflow.keras.preprocessing.image import ImageDataGenerator\n",
    "from tensorflow.keras.preprocessing import image\n",
    "\n",
    "# вывод графика и сохранение в ноутбуке\n",
    "%matplotlib inline"
   ]
  },
  {
   "cell_type": "code",
   "execution_count": null,
   "metadata": {
    "execution": {
     "iopub.execute_input": "2022-09-26T17:44:08.422121Z",
     "iopub.status.busy": "2022-09-26T17:44:08.421468Z",
     "iopub.status.idle": "2022-09-26T17:44:08.437144Z",
     "shell.execute_reply": "2022-09-26T17:44:08.435508Z",
     "shell.execute_reply.started": "2022-09-26T17:44:08.422081Z"
    },
    "id": "R7V4mBv1GVKH",
    "outputId": "42be8e8c-9fa3-4755-ff8b-712082b49741"
   },
   "outputs": [
    {
     "data": {
      "text/plain": [
       "'2.6.4'"
      ]
     },
     "execution_count": 3,
     "metadata": {},
     "output_type": "execute_result"
    }
   ],
   "source": [
    "# рабочая версия tensorflow\n",
    "tf.__version__"
   ]
  },
  {
   "cell_type": "code",
   "execution_count": 12,
   "metadata": {
    "execution": {
     "iopub.execute_input": "2022-09-27T13:18:12.937474Z",
     "iopub.status.busy": "2022-09-27T13:18:12.936715Z",
     "iopub.status.idle": "2022-09-27T13:18:12.942869Z",
     "shell.execute_reply": "2022-09-27T13:18:12.941874Z",
     "shell.execute_reply.started": "2022-09-27T13:18:12.937430Z"
    },
    "executionInfo": {
     "elapsed": 326,
     "status": "ok",
     "timestamp": 1671556815122,
     "user": {
      "displayName": "engener64@yandex.ru",
      "userId": "06978561127052537462"
     },
     "user_tz": -240
    },
    "id": "X-MyodGOGVKJ"
   },
   "outputs": [],
   "source": [
    "BATCH_SIZE = 32\n",
    "IMAGE_SIZE = 48\n",
    "N_CLASSES = 9"
   ]
  },
  {
   "cell_type": "code",
   "execution_count": 4,
   "metadata": {
    "execution": {
     "iopub.execute_input": "2022-09-27T13:18:23.221285Z",
     "iopub.status.busy": "2022-09-27T13:18:23.220813Z",
     "iopub.status.idle": "2022-09-27T13:18:23.339519Z",
     "shell.execute_reply": "2022-09-27T13:18:23.338491Z",
     "shell.execute_reply.started": "2022-09-27T13:18:23.221243Z"
    },
    "executionInfo": {
     "elapsed": 1326,
     "status": "ok",
     "timestamp": 1671556489409,
     "user": {
      "displayName": "engener64@yandex.ru",
      "userId": "06978561127052537462"
     },
     "user_tz": -240
    },
    "id": "AKpjuJ9qGVKL"
   },
   "outputs": [],
   "source": [
    "# загрузка обучающего и валидационного датафреймов из csv-файлов\n",
    "train_df = pd.read_csv('train_df.csv', index_col = 0) \n",
    "test_df = pd.read_csv('test_df.csv', index_col = 0)"
   ]
  },
  {
   "cell_type": "code",
   "execution_count": 5,
   "metadata": {
    "colab": {
     "base_uri": "https://localhost:8080/"
    },
    "execution": {
     "iopub.execute_input": "2022-09-27T13:18:28.511927Z",
     "iopub.status.busy": "2022-09-27T13:18:28.511558Z",
     "iopub.status.idle": "2022-09-27T13:18:28.535857Z",
     "shell.execute_reply": "2022-09-27T13:18:28.534878Z",
     "shell.execute_reply.started": "2022-09-27T13:18:28.511894Z"
    },
    "executionInfo": {
     "elapsed": 301,
     "status": "ok",
     "timestamp": 1671556496417,
     "user": {
      "displayName": "engener64@yandex.ru",
      "userId": "06978561127052537462"
     },
     "user_tz": -240
    },
    "id": "6aDALOE8GVKM",
    "outputId": "7feab951-16ba-4ee6-be61-ec74a4e84d1c"
   },
   "outputs": [
    {
     "name": "stdout",
     "output_type": "stream",
     "text": [
      "<class 'pandas.core.frame.DataFrame'>\n",
      "Int64Index: 40037 entries, 46357 to 14269\n",
      "Data columns (total 2 columns):\n",
      " #   Column      Non-Null Count  Dtype \n",
      "---  ------      --------------  ----- \n",
      " 0   image_path  40037 non-null  object\n",
      " 1   emotion     40037 non-null  object\n",
      "dtypes: object(2)\n",
      "memory usage: 938.4+ KB\n"
     ]
    }
   ],
   "source": [
    "train_df.info()"
   ]
  },
  {
   "cell_type": "code",
   "execution_count": 6,
   "metadata": {
    "colab": {
     "base_uri": "https://localhost:8080/"
    },
    "executionInfo": {
     "elapsed": 296,
     "status": "ok",
     "timestamp": 1671556517708,
     "user": {
      "displayName": "engener64@yandex.ru",
      "userId": "06978561127052537462"
     },
     "user_tz": -240
    },
    "id": "nRvneyuriAPl",
    "outputId": "caaa8242-02b6-46f6-dd6e-4147d8df12ef"
   },
   "outputs": [
    {
     "name": "stdout",
     "output_type": "stream",
     "text": [
      "<class 'pandas.core.frame.DataFrame'>\n",
      "Int64Index: 10009 entries, 2 to 50040\n",
      "Data columns (total 2 columns):\n",
      " #   Column      Non-Null Count  Dtype \n",
      "---  ------      --------------  ----- \n",
      " 0   image_path  10009 non-null  object\n",
      " 1   emotion     10009 non-null  object\n",
      "dtypes: object(2)\n",
      "memory usage: 234.6+ KB\n"
     ]
    }
   ],
   "source": [
    "test_df.info()"
   ]
  },
  {
   "cell_type": "code",
   "execution_count": 10,
   "metadata": {
    "execution": {
     "iopub.execute_input": "2022-09-27T13:18:53.323811Z",
     "iopub.status.busy": "2022-09-27T13:18:53.323419Z",
     "iopub.status.idle": "2022-09-27T13:18:53.329510Z",
     "shell.execute_reply": "2022-09-27T13:18:53.328356Z",
     "shell.execute_reply.started": "2022-09-27T13:18:53.323777Z"
    },
    "executionInfo": {
     "elapsed": 16,
     "status": "ok",
     "timestamp": 1671556619114,
     "user": {
      "displayName": "engener64@yandex.ru",
      "userId": "06978561127052537462"
     },
     "user_tz": -240
    },
    "id": "6aBH3Nc-GVKO"
   },
   "outputs": [],
   "source": [
    "# функция препроцессинга \n",
    "def preprocess(img):   \n",
    "    image = tf.image.resize(img, [IMAGE_SIZE, IMAGE_SIZE])\n",
    "    image = image / 255\n",
    "    return image"
   ]
  },
  {
   "cell_type": "code",
   "execution_count": null,
   "metadata": {
    "execution": {
     "iopub.execute_input": "2022-09-27T13:19:18.526522Z",
     "iopub.status.busy": "2022-09-27T13:19:18.526112Z",
     "iopub.status.idle": "2022-09-27T13:20:07.288870Z",
     "shell.execute_reply": "2022-09-27T13:20:07.287804Z",
     "shell.execute_reply.started": "2022-09-27T13:19:18.526491Z"
    },
    "id": "FDUGjNZVGVKS",
    "outputId": "34e4eb1e-e003-4120-8714-fea31178670b"
   },
   "outputs": [
    {
     "name": "stdout",
     "output_type": "stream",
     "text": [
      "Found 40037 validated image filenames belonging to 9 classes.\n",
      "Found 10009 validated image filenames belonging to 9 classes.\n"
     ]
    }
   ],
   "source": [
    "# генератор обучающих данных с функцией аугментации\n",
    "train_generator = ImageDataGenerator(\n",
    "                                     rotation_range=15,\n",
    "                                     horizontal_flip=True,\n",
    "                                     fill_mode='nearest',\n",
    "                                     brightness_range=(0.5,1.5),\n",
    "                                     shear_range=0.1,\n",
    "                                     zoom_range=.1,\n",
    "                                     preprocessing_function=preprocess\n",
    "                                     )\n",
    "        \n",
    "train_data_gen = train_generator.flow_from_dataframe(dataframe=train_df,\n",
    "                                                     x_col='image_path',\n",
    "                                                     y_col='emotion',\n",
    "                                                     target_size=(IMAGE_SIZE, IMAGE_SIZE),\n",
    "                                                     batch_size=BATCH_SIZE,\n",
    "                                                     class_mode='sparse',\n",
    "                                                     shuffle=True,\n",
    "                                                     interpolation='nearest',\n",
    "                                                     color_mode='grayscale'\n",
    "                                                    )\n",
    "\n",
    "# генератор валидационных данных \n",
    "val_generator = ImageDataGenerator(preprocessing_function=preprocess)\n",
    "\n",
    "val_data_gen = val_generator.flow_from_dataframe(dataframe=test_df,\n",
    "                                                 x_col='image_path',\n",
    "                                                 y_col='emotion',\n",
    "                                                 target_size=(IMAGE_SIZE, IMAGE_SIZE),\n",
    "                                                 batch_size=BATCH_SIZE,\n",
    "                                                 class_mode='sparse',\n",
    "                                                 shuffle=False,\n",
    "                                                 interpolation='nearest',\n",
    "                                                 color_mode='grayscale'\n",
    "                                                )"
   ]
  },
  {
   "cell_type": "code",
   "execution_count": 13,
   "metadata": {
    "colab": {
     "base_uri": "https://localhost:8080/"
    },
    "execution": {
     "iopub.execute_input": "2022-09-27T16:02:21.146514Z",
     "iopub.status.busy": "2022-09-27T16:02:21.145986Z",
     "iopub.status.idle": "2022-09-27T16:02:21.315820Z",
     "shell.execute_reply": "2022-09-27T16:02:21.314790Z",
     "shell.execute_reply.started": "2022-09-27T16:02:21.146478Z"
    },
    "executionInfo": {
     "elapsed": 1321,
     "status": "ok",
     "timestamp": 1671556827447,
     "user": {
      "displayName": "engener64@yandex.ru",
      "userId": "06978561127052537462"
     },
     "user_tz": -240
    },
    "id": "nPoar2JxGVKZ",
    "outputId": "56b63b67-3cd7-4ccd-adf4-f9e5e79e649a"
   },
   "outputs": [
    {
     "name": "stdout",
     "output_type": "stream",
     "text": [
      "Model: \"sequential_1\"\n",
      "_________________________________________________________________\n",
      " Layer (type)                Output Shape              Param #   \n",
      "=================================================================\n",
      " Conv1 (Conv2D)              (None, 48, 48, 32)        320       \n",
      "                                                                 \n",
      " Batch_Norm1 (BatchNormaliza  (None, 48, 48, 32)       128       \n",
      " tion)                                                           \n",
      "                                                                 \n",
      " Conv2 (Conv2D)              (None, 48, 48, 32)        9248      \n",
      "                                                                 \n",
      " Batch_Norm2 (BatchNormaliza  (None, 48, 48, 32)       128       \n",
      " tion)                                                           \n",
      "                                                                 \n",
      " Maxpool1 (MaxPooling2D)     (None, 24, 24, 32)        0         \n",
      "                                                                 \n",
      " Dropout1 (Dropout)          (None, 24, 24, 32)        0         \n",
      "                                                                 \n",
      " Conv3 (Conv2D)              (None, 24, 24, 64)        18496     \n",
      "                                                                 \n",
      " Batch_Norm3 (BatchNormaliza  (None, 24, 24, 64)       256       \n",
      " tion)                                                           \n",
      "                                                                 \n",
      " Conv4 (Conv2D)              (None, 24, 24, 64)        36928     \n",
      "                                                                 \n",
      " Batch_Norm4 (BatchNormaliza  (None, 24, 24, 64)       256       \n",
      " tion)                                                           \n",
      "                                                                 \n",
      " Maxpool2 (MaxPooling2D)     (None, 12, 12, 64)        0         \n",
      "                                                                 \n",
      " Dropout2 (Dropout)          (None, 12, 12, 64)        0         \n",
      "                                                                 \n",
      " Conv5 (Conv2D)              (None, 12, 12, 128)       73856     \n",
      "                                                                 \n",
      " Batch_Norm5 (BatchNormaliza  (None, 12, 12, 128)      512       \n",
      " tion)                                                           \n",
      "                                                                 \n",
      " Conv6 (Conv2D)              (None, 12, 12, 128)       147584    \n",
      "                                                                 \n",
      " Batch_Norm6 (BatchNormaliza  (None, 12, 12, 128)      512       \n",
      " tion)                                                           \n",
      "                                                                 \n",
      " Maxpool3 (MaxPooling2D)     (None, 6, 6, 128)         0         \n",
      "                                                                 \n",
      " Dropout3 (Dropout)          (None, 6, 6, 128)         0         \n",
      "                                                                 \n",
      " Flatten (Flatten)           (None, 4608)              0         \n",
      "                                                                 \n",
      " Dense (Dense)               (None, 512)               2359808   \n",
      "                                                                 \n",
      " Batch_Norm7 (BatchNormaliza  (None, 512)              2048      \n",
      " tion)                                                           \n",
      "                                                                 \n",
      " Dropout4 (Dropout)          (None, 512)               0         \n",
      "                                                                 \n",
      " Output (Dense)              (None, 9)                 4617      \n",
      "                                                                 \n",
      "=================================================================\n",
      "Total params: 2,654,697\n",
      "Trainable params: 2,652,777\n",
      "Non-trainable params: 1,920\n",
      "_________________________________________________________________\n"
     ]
    }
   ],
   "source": [
    "# создание модели\n",
    "model = tf.keras.Sequential()\n",
    "\n",
    "# Block-1: The First Convolutional Block\n",
    "\n",
    "model.add(tf.keras.layers.Conv2D(filters=32, kernel_size=(3,3), padding='same', \n",
    "                                 kernel_initializer='he_normal',\n",
    "                                 activation=\"elu\", \n",
    "                                 input_shape=(IMAGE_SIZE, IMAGE_SIZE, 1), \n",
    "                                 name=\"Conv1\"))\n",
    "\n",
    "model.add(tf.keras.layers.BatchNormalization(name=\"Batch_Norm1\"))\n",
    "\n",
    "model.add(tf.keras.layers.Conv2D(filters=32, kernel_size=(3,3), padding='same', \n",
    "                                 kernel_initializer='he_normal', \n",
    "                                 activation=\"elu\", name=\"Conv2\"))\n",
    "\n",
    "model.add(tf.keras.layers.BatchNormalization(name=\"Batch_Norm2\"))\n",
    "model.add(tf.keras.layers.MaxPooling2D(pool_size=(2,2), name=\"Maxpool1\"))\n",
    "model.add(tf.keras.layers.Dropout(0.2, name=\"Dropout1\"))\n",
    "\n",
    "# Block-2: The Second Convolutional Block\n",
    "\n",
    "model.add(tf.keras.layers.Conv2D(filters=64, kernel_size=(3,3), padding='same', \n",
    "                                 kernel_initializer='he_normal',\n",
    "                                 activation=\"elu\", name=\"Conv3\"))\n",
    "\n",
    "model.add(tf.keras.layers.BatchNormalization(name=\"Batch_Norm3\"))\n",
    "\n",
    "model.add(tf.keras.layers.Conv2D(filters=64,kernel_size=(3,3),padding='same',\n",
    "                                 kernel_initializer='he_normal', \n",
    "                                 activation=\"elu\", name=\"Conv4\"))\n",
    "\n",
    "model.add(tf.keras.layers.BatchNormalization(name=\"Batch_Norm4\"))\n",
    "model.add(tf.keras.layers.MaxPooling2D(pool_size=(2,2), name=\"Maxpool2\"))\n",
    "model.add(tf.keras.layers.Dropout(0.2, name=\"Dropout2\"))\n",
    "\n",
    "# Block-3: The Third Convolutional Block\n",
    "\n",
    "model.add(tf.keras.layers.Conv2D(filters=128, kernel_size=(3,3), padding='same', \n",
    "                                 kernel_initializer='he_normal', \n",
    "                                 activation=\"elu\", name=\"Conv5\"))\n",
    "\n",
    "model.add(tf.keras.layers.BatchNormalization(name=\"Batch_Norm5\"))\n",
    "\n",
    "model.add(tf.keras.layers.Conv2D(filters=128, kernel_size=(3,3), padding='same', \n",
    "                                 kernel_initializer='he_normal',\n",
    "                                 activation=\"elu\", name=\"Conv6\"))\n",
    "\n",
    "model.add(tf.keras.layers.BatchNormalization(name=\"Batch_Norm6\"))\n",
    "model.add(tf.keras.layers.MaxPooling2D(pool_size=(2,2), name=\"Maxpool3\"))\n",
    "model.add(tf.keras.layers.Dropout(0.2, name=\"Dropout3\"))\n",
    "\n",
    "# Block-4: The Fully Connected Block\n",
    "\n",
    "model.add(tf.keras.layers.Flatten(name=\"Flatten\"))\n",
    "model.add(tf.keras.layers.Dense(512, activation=\"elu\", kernel_initializer='he_normal', name=\"Dense\"))\n",
    "model.add(tf.keras.layers.BatchNormalization(name=\"Batch_Norm7\"))\n",
    "model.add(tf.keras.layers.Dropout(0.5, name=\"Dropout4\"))\n",
    "\n",
    "# Block-5: The Output Block\n",
    "\n",
    "model.add(tf.keras.layers.Dense(N_CLASSES, name = \"Output\"))\n",
    "\n",
    "# model.build(input_shape=(None, IMAGE_SIZE, IMAGE_SIZE, 1))\n",
    "\n",
    "model.summary()"
   ]
  },
  {
   "cell_type": "code",
   "execution_count": null,
   "metadata": {
    "execution": {
     "iopub.execute_input": "2022-09-27T13:22:08.187015Z",
     "iopub.status.busy": "2022-09-27T13:22:08.186629Z",
     "iopub.status.idle": "2022-09-27T13:22:08.193431Z",
     "shell.execute_reply": "2022-09-27T13:22:08.192289Z",
     "shell.execute_reply.started": "2022-09-27T13:22:08.186980Z"
    },
    "id": "XxTqnMZDGVKb"
   },
   "outputs": [],
   "source": [
    "# создание папки модели и имени файла для записи весов во время обучения\n",
    "path = Path('model_vgg_16')\n",
    "path.mkdir(exist_ok=True, parents=True) # папка создается на диске вместе с \"родителями\"\n",
    "assert path.exists()\n",
    "cpt_filename = 'best_checkpoint.hdf5'  \n",
    "cpt_path = str(path / cpt_filename)"
   ]
  },
  {
   "cell_type": "code",
   "execution_count": null,
   "metadata": {
    "execution": {
     "iopub.execute_input": "2022-09-27T13:22:17.890508Z",
     "iopub.status.busy": "2022-09-27T13:22:17.889797Z",
     "iopub.status.idle": "2022-09-27T13:22:17.895876Z",
     "shell.execute_reply": "2022-09-27T13:22:17.894807Z",
     "shell.execute_reply.started": "2022-09-27T13:22:17.890468Z"
    },
    "id": "uwp4hTA5GVKc"
   },
   "outputs": [],
   "source": [
    "# обратный вызов для сохранения весов модели\n",
    "checkpoint = ModelCheckpoint(cpt_path,\n",
    "                            verbose=1,\n",
    "                            save_best_only=True,\n",
    "                            save_weights_only=True,\n",
    "                            save_freq='epoch',\n",
    "                            mode='min')"
   ]
  },
  {
   "cell_type": "code",
   "execution_count": null,
   "metadata": {
    "execution": {
     "iopub.execute_input": "2022-09-27T16:02:48.353008Z",
     "iopub.status.busy": "2022-09-27T16:02:48.352682Z",
     "iopub.status.idle": "2022-09-27T16:02:48.369854Z",
     "shell.execute_reply": "2022-09-27T16:02:48.368786Z",
     "shell.execute_reply.started": "2022-09-27T16:02:48.352977Z"
    },
    "id": "_GQCYvWAGVKd"
   },
   "outputs": [],
   "source": [
    "# функция экспоненциального затухания к шагу оптимизатора с заданной начальной скоростью обучения\n",
    "lr_schedule = tf.keras.optimizers.schedules.ExponentialDecay(\n",
    "    initial_learning_rate=5e-3,\n",
    "    decay_steps=100,\n",
    "    decay_rate=0.9)\n",
    "\n",
    "# настройка модели для обучения\n",
    "model.compile(loss=tf.keras.losses.SparseCategoricalCrossentropy(from_logits=True),\n",
    "              optimizer=tf.keras.optimizers.Adam(learning_rate=lr_schedule),\n",
    "              metrics=[tf.keras.metrics.SparseCategoricalAccuracy()])"
   ]
  },
  {
   "cell_type": "code",
   "execution_count": null,
   "metadata": {
    "execution": {
     "iopub.execute_input": "2022-09-27T16:02:56.096718Z",
     "iopub.status.busy": "2022-09-27T16:02:56.096358Z",
     "iopub.status.idle": "2022-09-27T17:12:28.319794Z",
     "shell.execute_reply": "2022-09-27T17:12:28.318672Z",
     "shell.execute_reply.started": "2022-09-27T16:02:56.096686Z"
    },
    "id": "AEnwhbS-GVKd",
    "outputId": "0882bd90-155f-4180-b01a-71e058d1b8db"
   },
   "outputs": [
    {
     "data": {
      "image/png": "[encoded data removed]",
      "text/plain": [
       "<Figure size 864x576 with 2 Axes>"
      ]
     },
     "metadata": {
      "needs_background": "light"
     },
     "output_type": "display_data"
    },
    {
     "name": "stdout",
     "output_type": "stream",
     "text": [
      "Loss\n",
      "\ttraining         \t (min:    1.734, max:    2.204, cur:    1.736)\n",
      "\tvalidation       \t (min:    1.661, max:    1.879, cur:    1.661)\n",
      "sparse_categorical_accuracy\n",
      "\ttraining         \t (min:    0.220, max:    0.367, cur:    0.366)\n",
      "\tvalidation       \t (min:    0.299, max:    0.391, cur:    0.391)\n"
     ]
    }
   ],
   "source": [
    "# обучение модели\n",
    "EPOCHS = 10\n",
    "history = model.fit(train_data_gen, epochs=EPOCHS, validation_data=val_data_gen,\n",
    "                    callbacks=[checkpoint,\n",
    "                               PlotLossesCallback()\n",
    "                              ]\n",
    "                    )"
   ]
  },
  {
   "cell_type": "code",
   "execution_count": null,
   "metadata": {
    "execution": {
     "iopub.execute_input": "2022-09-27T17:12:58.634872Z",
     "iopub.status.busy": "2022-09-27T17:12:58.631728Z",
     "iopub.status.idle": "2022-09-27T17:14:13.106045Z",
     "shell.execute_reply": "2022-09-27T17:14:13.105015Z",
     "shell.execute_reply.started": "2022-09-27T17:12:58.634827Z"
    },
    "id": "DMGKLHRtGVKe",
    "outputId": "7190763e-230e-4769-ccce-e2102b0d3cc0"
   },
   "outputs": [
    {
     "name": "stdout",
     "output_type": "stream",
     "text": [
      "313/313 [==============================] - 74s 236ms/step - loss: 1.6614 - sparse_categorical_accuracy: 0.3906\n"
     ]
    },
    {
     "data": {
      "text/plain": [
       "[1.661353588104248, 0.39064842462539673]"
      ]
     },
     "execution_count": 28,
     "metadata": {},
     "output_type": "execute_result"
    }
   ],
   "source": [
    "# значение потерь и значения метрики для модели в тестовом режиме\n",
    "model.evaluate(val_data_gen)"
   ]
  },
  {
   "cell_type": "code",
   "execution_count": 17,
   "metadata": {
    "execution": {
     "iopub.execute_input": "2022-09-27T17:14:23.804531Z",
     "iopub.status.busy": "2022-09-27T17:14:23.804156Z",
     "iopub.status.idle": "2022-09-27T17:14:23.950717Z",
     "shell.execute_reply": "2022-09-27T17:14:23.949443Z",
     "shell.execute_reply.started": "2022-09-27T17:14:23.804500Z"
    },
    "executionInfo": {
     "elapsed": 300,
     "status": "ok",
     "timestamp": 1671557443494,
     "user": {
      "displayName": "engener64@yandex.ru",
      "userId": "06978561127052537462"
     },
     "user_tz": -240
    },
    "id": "zA3h5xP-GVKf"
   },
   "outputs": [],
   "source": [
    "# запись весов модели \n",
    "model.save_weights('model_vgg_16/weights.h5')"
   ]
  },
  {
   "cell_type": "code",
   "execution_count": 16,
   "metadata": {
    "executionInfo": {
     "elapsed": 14,
     "status": "ok",
     "timestamp": 1671557384907,
     "user": {
      "displayName": "engener64@yandex.ru",
      "userId": "06978561127052537462"
     },
     "user_tz": -240
    },
    "id": "1JHT3zNBlOJ_"
   },
   "outputs": [],
   "source": [
    "# запись конфигурации модели\n",
    "model_json = model.to_json()\n",
    "with open(\"model_vgg_16/model.json\",\"w\") as json_file:\n",
    "    json_file.write(model_json)"
   ]
  },
  {
   "cell_type": "code",
   "execution_count": null,
   "metadata": {
    "execution": {
     "iopub.execute_input": "2022-09-27T17:27:20.241040Z",
     "iopub.status.busy": "2022-09-27T17:27:20.240647Z",
     "iopub.status.idle": "2022-09-27T17:27:20.456192Z",
     "shell.execute_reply": "2022-09-27T17:27:20.455001Z",
     "shell.execute_reply.started": "2022-09-27T17:27:20.241006Z"
    },
    "id": "1ddDH7mWGVKh",
    "outputId": "ee4cf15b-c3a4-4834-b057-8b83c4cf2e2e"
   },
   "outputs": [
    {
     "data": {
      "text/plain": [
       "<matplotlib.image.AxesImage at 0x7f2714dc6dd0>"
      ]
     },
     "execution_count": 45,
     "metadata": {},
     "output_type": "execute_result"
    },
    {
     "data": {
      "image/png": "[encoded data removed]",
      "text/plain": [
       "<Figure size 432x288 with 1 Axes>"
      ]
     },
     "metadata": {
      "needs_background": "light"
     },
     "output_type": "display_data"
    }
   ],
   "source": [
    "# случайный выбор и обработка изображения для теста\n",
    "rng = np.random.default_rng()\n",
    "n = rng.integers(5000, size=1)[0]\n",
    "img = image.load_img('test_kaggle/' + str(n) + '.jpg', target_size=(IMAGE_SIZE, IMAGE_SIZE))\n",
    "x = image.img_to_array(img, dtype=np.uint8)\n",
    "x = tf.image.rgb_to_grayscale(x)\n",
    "x = np.expand_dims(x, axis=0)\n",
    "plt.imshow(img)"
   ]
  },
  {
   "cell_type": "code",
   "execution_count": null,
   "metadata": {
    "execution": {
     "iopub.execute_input": "2022-09-27T17:19:32.890160Z",
     "iopub.status.busy": "2022-09-27T17:19:32.888994Z",
     "iopub.status.idle": "2022-09-27T17:19:33.422481Z",
     "shell.execute_reply": "2022-09-27T17:19:33.421247Z",
     "shell.execute_reply.started": "2022-09-27T17:19:32.890087Z"
    },
    "id": "2Fv5mNPSGVKh",
    "outputId": "ec02232d-9f6a-42f7-88d7-a3a483eaabc6"
   },
   "outputs": [
    {
     "name": "stdout",
     "output_type": "stream",
     "text": [
      "41.5 ms ± 7.51 ms per loop (mean ± std. dev. of 7 runs, 1 loop each)\n"
     ]
    }
   ],
   "source": [
    "# определение времени инференса сети\n",
    "%%timeit \n",
    "#-n 10 -r 10\n",
    "\n",
    "model.predict(preprocess(x))"
   ]
  },
  {
   "cell_type": "code",
   "execution_count": null,
   "metadata": {
    "execution": {
     "iopub.execute_input": "2022-09-27T17:20:30.945903Z",
     "iopub.status.busy": "2022-09-27T17:20:30.945523Z",
     "iopub.status.idle": "2022-09-27T17:20:30.963871Z",
     "shell.execute_reply": "2022-09-27T17:20:30.962963Z",
     "shell.execute_reply.started": "2022-09-27T17:20:30.945870Z"
    },
    "id": "MQKflzIDGVKj",
    "outputId": "f417ccf4-11ac-4e5d-f168-c6fb3e551988"
   },
   "outputs": [
    {
     "data": {
      "text/plain": [
       "{0: 'anger',\n",
       " 1: 'contempt',\n",
       " 2: 'disgust',\n",
       " 3: 'fear',\n",
       " 4: 'happy',\n",
       " 5: 'neutral',\n",
       " 6: 'sad',\n",
       " 7: 'surprise',\n",
       " 8: 'uncertain'}"
      ]
     },
     "execution_count": 34,
     "metadata": {},
     "output_type": "execute_result"
    }
   ],
   "source": [
    "# создание словаря эмоций из файла\n",
    "def load_dict_from_file(path):\n",
    "    f = open(path,'r')\n",
    "    data=f.read()\n",
    "    f.close()\n",
    "    return eval(data)\n",
    "\n",
    "emotion_mapping = load_dict_from_file('dict.txt')\n",
    "emotion_mapping"
   ]
  },
  {
   "cell_type": "code",
   "execution_count": null,
   "metadata": {
    "execution": {
     "iopub.execute_input": "2022-09-27T17:27:29.707759Z",
     "iopub.status.busy": "2022-09-27T17:27:29.707401Z",
     "iopub.status.idle": "2022-09-27T17:27:30.109601Z",
     "shell.execute_reply": "2022-09-27T17:27:30.108711Z",
     "shell.execute_reply.started": "2022-09-27T17:27:29.707728Z"
    },
    "id": "mPvJ3XD_GVKj",
    "outputId": "004b84d8-ba45-44b9-bb29-8f5e1e22c36c"
   },
   "outputs": [
    {
     "data": {
      "text/plain": [
       "'happy'"
      ]
     },
     "execution_count": 46,
     "metadata": {},
     "output_type": "execute_result"
    }
   ],
   "source": [
    "# определение эмоции на тестовом изображении\n",
    "predicted = model.predict(preprocess(x))\n",
    "emotion_mapping[np.argmax(predicted)]"
   ]
  },
  {
   "cell_type": "code",
   "execution_count": null,
   "metadata": {
    "execution": {
     "iopub.execute_input": "2022-09-27T17:22:51.786817Z",
     "iopub.status.busy": "2022-09-27T17:22:51.786458Z",
     "iopub.status.idle": "2022-09-27T17:22:51.847332Z",
     "shell.execute_reply": "2022-09-27T17:22:51.846326Z",
     "shell.execute_reply.started": "2022-09-27T17:22:51.786787Z"
    },
    "id": "S5rOARj9GVKl"
   },
   "outputs": [],
   "source": [
    "# создание списка для структруированного по заданию итогового csv-файла из файла \n",
    "def load_list_from_file(path):\n",
    "    f = open(path,'r')\n",
    "    data=f.read()\n",
    "    f.close()\n",
    "    return eval(data)\n",
    "\n",
    "my_list = load_list_from_file('test_list.txt')"
   ]
  },
  {
   "cell_type": "code",
   "execution_count": null,
   "metadata": {
    "execution": {
     "iopub.execute_input": "2022-09-27T17:34:42.652530Z",
     "iopub.status.busy": "2022-09-27T17:34:42.652160Z",
     "iopub.status.idle": "2022-09-27T17:38:52.405369Z",
     "shell.execute_reply": "2022-09-27T17:38:52.404362Z",
     "shell.execute_reply.started": "2022-09-27T17:34:42.652500Z"
    },
    "id": "bYuVC-AqGVKl"
   },
   "outputs": [],
   "source": [
    "# запись итогового csv-файла\n",
    "with open('submission_vgg_16.csv', 'w') as f:\n",
    "    fieldnames = ['image_path', 'emotion']\n",
    "    writer = csv.DictWriter(f, fieldnames=fieldnames)\n",
    "    writer.writeheader()\n",
    "    for name in my_list:\n",
    "        img = image.load_img('test_kaggle/'+ name, target_size=(IMAGE_SIZE, IMAGE_SIZE))\n",
    "        x = image.img_to_array(img)\n",
    "        x = tf.image.rgb_to_grayscale(x)\n",
    "        x = np.expand_dims(x, axis=0)\n",
    "        predicted_arr = model.predict(preprocess(x))\n",
    "        predicted = emotion_mapping[np.argmax(predicted_arr)]\n",
    "        # test_dict[name.replace('test_kaggle/', '')] = predicted\n",
    "        writer.writerow({'image_path': name.replace('test_kaggle/', ''), 'emotion': predicted})"
   ]
  },
  {
   "cell_type": "markdown",
   "metadata": {
    "id": "MLbvmDIwGVKm"
   },
   "source": [
    "### Оценки Kaggle\n",
    "\n",
    "Score: 0.39160\n",
    "\n",
    "Public score: 0.39880"
   ]
  }
 ],
 "metadata": {
  "colab": {
   "provenance": []
  },
  "kernelspec": {
   "display_name": "Python 3 (ipykernel)",
   "language": "python",
   "name": "python3"
  },
  "language_info": {
   "codemirror_mode": {
    "name": "ipython",
    "version": 3
   },
   "file_extension": ".py",
   "mimetype": "text/x-python",
   "name": "python",
   "nbconvert_exporter": "python",
   "pygments_lexer": "ipython3",
   "version": "3.9.13"
  }
 },
 "nbformat": 4,
 "nbformat_minor": 1
}
