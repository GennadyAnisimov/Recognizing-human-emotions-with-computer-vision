{
 "cells": [
  {
   "cell_type": "code",
   "execution_count": 1,
   "metadata": {
    "_cell_guid": "b1076dfc-b9ad-4769-8c92-a6c4dae69d19",
    "_uuid": "8f2839f25d086af736a60e9eeb907d3b93b6e0e5",
    "colab": {
     "base_uri": "https://localhost:8080/"
    },
    "execution": {
     "iopub.execute_input": "2022-09-28T14:14:09.640801Z",
     "iopub.status.busy": "2022-09-28T14:14:09.640359Z",
     "iopub.status.idle": "2022-09-28T14:14:33.985530Z",
     "shell.execute_reply": "2022-09-28T14:14:33.984212Z",
     "shell.execute_reply.started": "2022-09-28T14:14:09.640710Z"
    },
    "executionInfo": {
     "elapsed": 14417,
     "status": "ok",
     "timestamp": 1671552082159,
     "user": {
      "displayName": "engener64@yandex.ru",
      "userId": "06978561127052537462"
     },
     "user_tz": -240
    },
    "id": "m1xsD15KWUUD",
    "outputId": "a0ed4712-5a1b-40df-e4b4-dfa5dbff2985"
   },
   "outputs": [
    {
     "name": "stdout",
     "output_type": "stream",
     "text": [
      "Collecting keras_vggface\n",
      "  Using cached keras_vggface-0.6-py3-none-any.whl (8.3 kB)\n",
      "Requirement already satisfied: pyyaml in c:\\users\\engen\\anaconda3\\lib\\site-packages (from keras_vggface) (6.0)\n",
      "Requirement already satisfied: scipy>=0.14 in c:\\users\\engen\\anaconda3\\lib\\site-packages (from keras_vggface) (1.7.3)\n",
      "Requirement already satisfied: numpy>=1.9.1 in c:\\users\\engen\\anaconda3\\lib\\site-packages (from keras_vggface) (1.21.5)\n",
      "Requirement already satisfied: pillow in c:\\users\\engen\\anaconda3\\lib\\site-packages (from keras_vggface) (9.2.0)\n",
      "Requirement already satisfied: h5py in c:\\users\\engen\\anaconda3\\lib\\site-packages (from keras_vggface) (3.7.0)\n",
      "Requirement already satisfied: six>=1.9.0 in c:\\users\\engen\\anaconda3\\lib\\site-packages (from keras_vggface) (1.16.0)\n",
      "Requirement already satisfied: keras in c:\\users\\engen\\anaconda3\\lib\\site-packages (from keras_vggface) (2.9.0)\n",
      "Installing collected packages: keras_vggface\n",
      "Successfully installed keras_vggface-0.6\n",
      "Requirement already satisfied: livelossplot in c:\\users\\engen\\anaconda3\\lib\\site-packages (0.5.5)\n",
      "Requirement already satisfied: matplotlib in c:\\users\\engen\\anaconda3\\lib\\site-packages (from livelossplot) (3.5.2)\n",
      "Requirement already satisfied: bokeh in c:\\users\\engen\\anaconda3\\lib\\site-packages (from livelossplot) (2.4.3)\n",
      "Requirement already satisfied: Jinja2>=2.9 in c:\\users\\engen\\anaconda3\\lib\\site-packages (from bokeh->livelossplot) (2.11.3)\n",
      "Requirement already satisfied: PyYAML>=3.10 in c:\\users\\engen\\anaconda3\\lib\\site-packages (from bokeh->livelossplot) (6.0)\n",
      "Requirement already satisfied: numpy>=1.11.3 in c:\\users\\engen\\anaconda3\\lib\\site-packages (from bokeh->livelossplot) (1.21.5)\n",
      "Requirement already satisfied: tornado>=5.1 in c:\\users\\engen\\anaconda3\\lib\\site-packages (from bokeh->livelossplot) (6.1)\n",
      "Requirement already satisfied: typing-extensions>=3.10.0 in c:\\users\\engen\\anaconda3\\lib\\site-packages (from bokeh->livelossplot) (4.4.0)\n",
      "Requirement already satisfied: pillow>=7.1.0 in c:\\users\\engen\\anaconda3\\lib\\site-packages (from bokeh->livelossplot) (9.2.0)\n",
      "Requirement already satisfied: packaging>=16.8 in c:\\users\\engen\\anaconda3\\lib\\site-packages (from bokeh->livelossplot) (21.3)\n",
      "Requirement already satisfied: kiwisolver>=1.0.1 in c:\\users\\engen\\anaconda3\\lib\\site-packages (from matplotlib->livelossplot) (1.4.2)\n",
      "Requirement already satisfied: cycler>=0.10 in c:\\users\\engen\\anaconda3\\lib\\site-packages (from matplotlib->livelossplot) (0.11.0)\n",
      "Requirement already satisfied: pyparsing>=2.2.1 in c:\\users\\engen\\anaconda3\\lib\\site-packages (from matplotlib->livelossplot) (3.0.9)\n",
      "Requirement already satisfied: python-dateutil>=2.7 in c:\\users\\engen\\anaconda3\\lib\\site-packages (from matplotlib->livelossplot) (2.8.2)\n",
      "Requirement already satisfied: fonttools>=4.22.0 in c:\\users\\engen\\anaconda3\\lib\\site-packages (from matplotlib->livelossplot) (4.25.0)\n",
      "Requirement already satisfied: MarkupSafe>=0.23 in c:\\users\\engen\\anaconda3\\lib\\site-packages (from Jinja2>=2.9->bokeh->livelossplot) (2.0.1)\n",
      "Requirement already satisfied: six>=1.5 in c:\\users\\engen\\anaconda3\\lib\\site-packages (from python-dateutil>=2.7->matplotlib->livelossplot) (1.16.0)\n",
      "Collecting keras_applications\n",
      "  Using cached Keras_Applications-1.0.8-py3-none-any.whl (50 kB)\n",
      "Installing collected packages: keras_applications\n",
      "Successfully installed keras_applications-1.0.8\n"
     ]
    }
   ],
   "source": [
    "# загрузка необходимых пакетов\n",
    "!pip install keras_vggface\n",
    "!pip install livelossplot\n",
    "!pip install keras_applications --no-deps"
   ]
  },
  {
   "cell_type": "code",
   "execution_count": 3,
   "metadata": {
    "colab": {
     "base_uri": "https://localhost:8080/"
    },
    "execution": {
     "iopub.execute_input": "2022-09-28T14:20:36.582484Z",
     "iopub.status.busy": "2022-09-28T14:20:36.581787Z",
     "iopub.status.idle": "2022-09-28T14:20:36.593366Z",
     "shell.execute_reply": "2022-09-28T14:20:36.592143Z",
     "shell.execute_reply.started": "2022-09-28T14:20:36.582448Z"
    },
    "executionInfo": {
     "elapsed": 276,
     "status": "ok",
     "timestamp": 1671552331479,
     "user": {
      "displayName": "engener64@yandex.ru",
      "userId": "06978561127052537462"
     },
     "user_tz": -240
    },
    "id": "EBJCTakxWUUP",
    "outputId": "cea4ca82-eded-47b0-90c8-f5ade8ef4018"
   },
   "outputs": [
    {
     "data": {
      "text/plain": [
       "20951"
      ]
     },
     "execution_count": 3,
     "metadata": {},
     "output_type": "execute_result"
    }
   ],
   "source": [
    "# устранение ошибки загрузки\n",
    "filename = \"c:/users/engen/anaconda3/lib/site-packages/keras_vggface/models.py\"\n",
    "text = open(filename).read()\n",
    "open(filename, \"w+\").write(text.replace('keras.engine.topology', 'tensorflow.keras.utils'))"
   ]
  },
  {
   "cell_type": "code",
   "execution_count": 5,
   "metadata": {
    "execution": {
     "iopub.execute_input": "2022-09-28T14:20:43.460957Z",
     "iopub.status.busy": "2022-09-28T14:20:43.460429Z",
     "iopub.status.idle": "2022-09-28T14:20:43.522713Z",
     "shell.execute_reply": "2022-09-28T14:20:43.521708Z",
     "shell.execute_reply.started": "2022-09-28T14:20:43.460911Z"
    },
    "executionInfo": {
     "elapsed": 311,
     "status": "ok",
     "timestamp": 1671552709850,
     "user": {
      "displayName": "engener64@yandex.ru",
      "userId": "06978561127052537462"
     },
     "user_tz": -240
    },
    "id": "rqLn_Yv8WUUR"
   },
   "outputs": [],
   "source": [
    "import numpy as np\n",
    "import tensorflow as tf\n",
    "import pandas as pd\n",
    "from pathlib import Path\n",
    "import time\n",
    "import csv\n",
    "\n",
    "from tensorflow import keras\n",
    "from livelossplot.tf_keras import PlotLossesCallback\n",
    "from keras_vggface.vggface import VGGFace\n",
    "\n",
    "import matplotlib.pyplot as plt\n",
    "\n",
    "from tensorflow.keras.preprocessing import image\n",
    "from tensorflow.keras.preprocessing.image import ImageDataGenerator\n",
    "from tensorflow.keras.callbacks import ModelCheckpoint\n",
    "\n",
    "from keras_vggface import utils\n",
    "from keras_vggface.utils import preprocess_input as preprocess_input_vggface\n",
    "\n",
    "# вывод графика и сохранение в ноутбуке\n",
    "%matplotlib inline"
   ]
  },
  {
   "cell_type": "code",
   "execution_count": null,
   "metadata": {
    "execution": {
     "iopub.execute_input": "2022-09-28T14:28:00.132397Z",
     "iopub.status.busy": "2022-09-28T14:28:00.132026Z",
     "iopub.status.idle": "2022-09-28T14:28:00.138895Z",
     "shell.execute_reply": "2022-09-28T14:28:00.137981Z",
     "shell.execute_reply.started": "2022-09-28T14:28:00.132365Z"
    },
    "id": "w01GMkPeWUUS",
    "outputId": "a4aa0cf0-20db-40ce-c942-6254924ec18a"
   },
   "outputs": [
    {
     "data": {
      "text/plain": [
       "'2.6.4'"
      ]
     },
     "execution_count": 9,
     "metadata": {},
     "output_type": "execute_result"
    }
   ],
   "source": [
    "# версия tensorflow\n",
    "tf.__version__"
   ]
  },
  {
   "cell_type": "code",
   "execution_count": 6,
   "metadata": {
    "execution": {
     "iopub.execute_input": "2022-09-28T14:21:09.890765Z",
     "iopub.status.busy": "2022-09-28T14:21:09.890364Z",
     "iopub.status.idle": "2022-09-28T14:21:09.895249Z",
     "shell.execute_reply": "2022-09-28T14:21:09.893962Z",
     "shell.execute_reply.started": "2022-09-28T14:21:09.890731Z"
    },
    "executionInfo": {
     "elapsed": 299,
     "status": "ok",
     "timestamp": 1671552402478,
     "user": {
      "displayName": "engener64@yandex.ru",
      "userId": "06978561127052537462"
     },
     "user_tz": -240
    },
    "id": "CynJL-JFWUUT"
   },
   "outputs": [],
   "source": [
    "BATCH_SIZE = 32\n",
    "IMAGE_SIZE = 224\n",
    "N_CLASSES = 9"
   ]
  },
  {
   "cell_type": "code",
   "execution_count": 7,
   "metadata": {
    "colab": {
     "base_uri": "https://localhost:8080/"
    },
    "execution": {
     "iopub.execute_input": "2022-09-28T14:21:35.786255Z",
     "iopub.status.busy": "2022-09-28T14:21:35.785489Z",
     "iopub.status.idle": "2022-09-28T14:21:43.754707Z",
     "shell.execute_reply": "2022-09-28T14:21:43.753665Z",
     "shell.execute_reply.started": "2022-09-28T14:21:35.786207Z"
    },
    "executionInfo": {
     "elapsed": 6335,
     "status": "ok",
     "timestamp": 1671552462113,
     "user": {
      "displayName": "engener64@yandex.ru",
      "userId": "06978561127052537462"
     },
     "user_tz": -240
    },
    "id": "tNQH2Ik7WUUU",
    "outputId": "d9de81ed-e21e-44b4-8603-83154a325bc2"
   },
   "outputs": [
    {
     "name": "stdout",
     "output_type": "stream",
     "text": [
      "Downloading data from https://github.com/rcmalli/keras-vggface/releases/download/v2.0/rcmalli_vggface_tf_notop_resnet50.h5\n",
      "94694792/94694792 [==============================] - 1s 0us/step\n",
      "Model: \"vggface_resnet50\"\n",
      "__________________________________________________________________________________________________\n",
      " Layer (type)                   Output Shape         Param #     Connected to                     \n",
      "==================================================================================================\n",
      " input_1 (InputLayer)           [(None, 224, 224, 3  0           []                               \n",
      "                                )]                                                                \n",
      "                                                                                                  \n",
      " conv1/7x7_s2 (Conv2D)          (None, 112, 112, 64  9408        ['input_1[0][0]']                \n",
      "                                )                                                                 \n",
      "                                                                                                  \n",
      " conv1/7x7_s2/bn (BatchNormaliz  (None, 112, 112, 64  256        ['conv1/7x7_s2[0][0]']           \n",
      " ation)                         )                                                                 \n",
      "                                                                                                  \n",
      " activation (Activation)        (None, 112, 112, 64  0           ['conv1/7x7_s2/bn[0][0]']        \n",
      "                                )                                                                 \n",
      "                                                                                                  \n",
      " max_pooling2d (MaxPooling2D)   (None, 55, 55, 64)   0           ['activation[0][0]']             \n",
      "                                                                                                  \n",
      " conv2_1_1x1_reduce (Conv2D)    (None, 55, 55, 64)   4096        ['max_pooling2d[0][0]']          \n",
      "                                                                                                  \n",
      " conv2_1_1x1_reduce/bn (BatchNo  (None, 55, 55, 64)  256         ['conv2_1_1x1_reduce[0][0]']     \n",
      " rmalization)                                                                                     \n",
      "                                                                                                  \n",
      " activation_1 (Activation)      (None, 55, 55, 64)   0           ['conv2_1_1x1_reduce/bn[0][0]']  \n",
      "                                                                                                  \n",
      " conv2_1_3x3 (Conv2D)           (None, 55, 55, 64)   36864       ['activation_1[0][0]']           \n",
      "                                                                                                  \n",
      " conv2_1_3x3/bn (BatchNormaliza  (None, 55, 55, 64)  256         ['conv2_1_3x3[0][0]']            \n",
      " tion)                                                                                            \n",
      "                                                                                                  \n",
      " activation_2 (Activation)      (None, 55, 55, 64)   0           ['conv2_1_3x3/bn[0][0]']         \n",
      "                                                                                                  \n",
      " conv2_1_1x1_increase (Conv2D)  (None, 55, 55, 256)  16384       ['activation_2[0][0]']           \n",
      "                                                                                                  \n",
      " conv2_1_1x1_proj (Conv2D)      (None, 55, 55, 256)  16384       ['max_pooling2d[0][0]']          \n",
      "                                                                                                  \n",
      " conv2_1_1x1_increase/bn (Batch  (None, 55, 55, 256)  1024       ['conv2_1_1x1_increase[0][0]']   \n",
      " Normalization)                                                                                   \n",
      "                                                                                                  \n",
      " conv2_1_1x1_proj/bn (BatchNorm  (None, 55, 55, 256)  1024       ['conv2_1_1x1_proj[0][0]']       \n",
      " alization)                                                                                       \n",
      "                                                                                                  \n",
      " add (Add)                      (None, 55, 55, 256)  0           ['conv2_1_1x1_increase/bn[0][0]',\n",
      "                                                                  'conv2_1_1x1_proj/bn[0][0]']    \n",
      "                                                                                                  \n",
      " activation_3 (Activation)      (None, 55, 55, 256)  0           ['add[0][0]']                    \n",
      "                                                                                                  \n",
      " conv2_2_1x1_reduce (Conv2D)    (None, 55, 55, 64)   16384       ['activation_3[0][0]']           \n",
      "                                                                                                  \n",
      " conv2_2_1x1_reduce/bn (BatchNo  (None, 55, 55, 64)  256         ['conv2_2_1x1_reduce[0][0]']     \n",
      " rmalization)                                                                                     \n",
      "                                                                                                  \n",
      " activation_4 (Activation)      (None, 55, 55, 64)   0           ['conv2_2_1x1_reduce/bn[0][0]']  \n",
      "                                                                                                  \n",
      " conv2_2_3x3 (Conv2D)           (None, 55, 55, 64)   36864       ['activation_4[0][0]']           \n",
      "                                                                                                  \n",
      " conv2_2_3x3/bn (BatchNormaliza  (None, 55, 55, 64)  256         ['conv2_2_3x3[0][0]']            \n",
      " tion)                                                                                            \n",
      "                                                                                                  \n",
      " activation_5 (Activation)      (None, 55, 55, 64)   0           ['conv2_2_3x3/bn[0][0]']         \n",
      "                                                                                                  \n",
      " conv2_2_1x1_increase (Conv2D)  (None, 55, 55, 256)  16384       ['activation_5[0][0]']           \n",
      "                                                                                                  \n",
      " conv2_2_1x1_increase/bn (Batch  (None, 55, 55, 256)  1024       ['conv2_2_1x1_increase[0][0]']   \n",
      " Normalization)                                                                                   \n",
      "                                                                                                  \n",
      " add_1 (Add)                    (None, 55, 55, 256)  0           ['conv2_2_1x1_increase/bn[0][0]',\n",
      "                                                                  'activation_3[0][0]']           \n",
      "                                                                                                  \n",
      " activation_6 (Activation)      (None, 55, 55, 256)  0           ['add_1[0][0]']                  \n",
      "                                                                                                  \n",
      " conv2_3_1x1_reduce (Conv2D)    (None, 55, 55, 64)   16384       ['activation_6[0][0]']           \n",
      "                                                                                                  \n",
      " conv2_3_1x1_reduce/bn (BatchNo  (None, 55, 55, 64)  256         ['conv2_3_1x1_reduce[0][0]']     \n",
      " rmalization)                                                                                     \n",
      "                                                                                                  \n",
      " activation_7 (Activation)      (None, 55, 55, 64)   0           ['conv2_3_1x1_reduce/bn[0][0]']  \n",
      "                                                                                                  \n",
      " conv2_3_3x3 (Conv2D)           (None, 55, 55, 64)   36864       ['activation_7[0][0]']           \n",
      "                                                                                                  \n",
      " conv2_3_3x3/bn (BatchNormaliza  (None, 55, 55, 64)  256         ['conv2_3_3x3[0][0]']            \n",
      " tion)                                                                                            \n",
      "                                                                                                  \n",
      " activation_8 (Activation)      (None, 55, 55, 64)   0           ['conv2_3_3x3/bn[0][0]']         \n",
      "                                                                                                  \n",
      " conv2_3_1x1_increase (Conv2D)  (None, 55, 55, 256)  16384       ['activation_8[0][0]']           \n",
      "                                                                                                  \n",
      " conv2_3_1x1_increase/bn (Batch  (None, 55, 55, 256)  1024       ['conv2_3_1x1_increase[0][0]']   \n",
      " Normalization)                                                                                   \n",
      "                                                                                                  \n",
      " add_2 (Add)                    (None, 55, 55, 256)  0           ['conv2_3_1x1_increase/bn[0][0]',\n",
      "                                                                  'activation_6[0][0]']           \n",
      "                                                                                                  \n",
      " activation_9 (Activation)      (None, 55, 55, 256)  0           ['add_2[0][0]']                  \n",
      "                                                                                                  \n",
      " conv3_1_1x1_reduce (Conv2D)    (None, 28, 28, 128)  32768       ['activation_9[0][0]']           \n",
      "                                                                                                  \n",
      " conv3_1_1x1_reduce/bn (BatchNo  (None, 28, 28, 128)  512        ['conv3_1_1x1_reduce[0][0]']     \n",
      " rmalization)                                                                                     \n",
      "                                                                                                  \n",
      " activation_10 (Activation)     (None, 28, 28, 128)  0           ['conv3_1_1x1_reduce/bn[0][0]']  \n",
      "                                                                                                  \n",
      " conv3_1_3x3 (Conv2D)           (None, 28, 28, 128)  147456      ['activation_10[0][0]']          \n",
      "                                                                                                  \n",
      " conv3_1_3x3/bn (BatchNormaliza  (None, 28, 28, 128)  512        ['conv3_1_3x3[0][0]']            \n",
      " tion)                                                                                            \n",
      "                                                                                                  \n",
      " activation_11 (Activation)     (None, 28, 28, 128)  0           ['conv3_1_3x3/bn[0][0]']         \n",
      "                                                                                                  \n",
      " conv3_1_1x1_increase (Conv2D)  (None, 28, 28, 512)  65536       ['activation_11[0][0]']          \n",
      "                                                                                                  \n",
      " conv3_1_1x1_proj (Conv2D)      (None, 28, 28, 512)  131072      ['activation_9[0][0]']           \n",
      "                                                                                                  \n",
      " conv3_1_1x1_increase/bn (Batch  (None, 28, 28, 512)  2048       ['conv3_1_1x1_increase[0][0]']   \n",
      " Normalization)                                                                                   \n",
      "                                                                                                  \n",
      " conv3_1_1x1_proj/bn (BatchNorm  (None, 28, 28, 512)  2048       ['conv3_1_1x1_proj[0][0]']       \n",
      " alization)                                                                                       \n",
      "                                                                                                  \n",
      " add_3 (Add)                    (None, 28, 28, 512)  0           ['conv3_1_1x1_increase/bn[0][0]',\n",
      "                                                                  'conv3_1_1x1_proj/bn[0][0]']    \n",
      "                                                                                                  \n",
      " activation_12 (Activation)     (None, 28, 28, 512)  0           ['add_3[0][0]']                  \n",
      "                                                                                                  \n",
      " conv3_2_1x1_reduce (Conv2D)    (None, 28, 28, 128)  65536       ['activation_12[0][0]']          \n",
      "                                                                                                  \n",
      " conv3_2_1x1_reduce/bn (BatchNo  (None, 28, 28, 128)  512        ['conv3_2_1x1_reduce[0][0]']     \n",
      " rmalization)                                                                                     \n",
      "                                                                                                  \n",
      " activation_13 (Activation)     (None, 28, 28, 128)  0           ['conv3_2_1x1_reduce/bn[0][0]']  \n",
      "                                                                                                  \n",
      " conv3_2_3x3 (Conv2D)           (None, 28, 28, 128)  147456      ['activation_13[0][0]']          \n",
      "                                                                                                  \n",
      " conv3_2_3x3/bn (BatchNormaliza  (None, 28, 28, 128)  512        ['conv3_2_3x3[0][0]']            \n",
      " tion)                                                                                            \n",
      "                                                                                                  \n",
      " activation_14 (Activation)     (None, 28, 28, 128)  0           ['conv3_2_3x3/bn[0][0]']         \n",
      "                                                                                                  \n",
      " conv3_2_1x1_increase (Conv2D)  (None, 28, 28, 512)  65536       ['activation_14[0][0]']          \n",
      "                                                                                                  \n",
      " conv3_2_1x1_increase/bn (Batch  (None, 28, 28, 512)  2048       ['conv3_2_1x1_increase[0][0]']   \n",
      " Normalization)                                                                                   \n",
      "                                                                                                  \n",
      " add_4 (Add)                    (None, 28, 28, 512)  0           ['conv3_2_1x1_increase/bn[0][0]',\n",
      "                                                                  'activation_12[0][0]']          \n",
      "                                                                                                  \n",
      " activation_15 (Activation)     (None, 28, 28, 512)  0           ['add_4[0][0]']                  \n",
      "                                                                                                  \n",
      " conv3_3_1x1_reduce (Conv2D)    (None, 28, 28, 128)  65536       ['activation_15[0][0]']          \n",
      "                                                                                                  \n",
      " conv3_3_1x1_reduce/bn (BatchNo  (None, 28, 28, 128)  512        ['conv3_3_1x1_reduce[0][0]']     \n",
      " rmalization)                                                                                     \n",
      "                                                                                                  \n",
      " activation_16 (Activation)     (None, 28, 28, 128)  0           ['conv3_3_1x1_reduce/bn[0][0]']  \n",
      "                                                                                                  \n",
      " conv3_3_3x3 (Conv2D)           (None, 28, 28, 128)  147456      ['activation_16[0][0]']          \n",
      "                                                                                                  \n",
      " conv3_3_3x3/bn (BatchNormaliza  (None, 28, 28, 128)  512        ['conv3_3_3x3[0][0]']            \n",
      " tion)                                                                                            \n",
      "                                                                                                  \n",
      " activation_17 (Activation)     (None, 28, 28, 128)  0           ['conv3_3_3x3/bn[0][0]']         \n",
      "                                                                                                  \n",
      " conv3_3_1x1_increase (Conv2D)  (None, 28, 28, 512)  65536       ['activation_17[0][0]']          \n",
      "                                                                                                  \n",
      " conv3_3_1x1_increase/bn (Batch  (None, 28, 28, 512)  2048       ['conv3_3_1x1_increase[0][0]']   \n",
      " Normalization)                                                                                   \n",
      "                                                                                                  \n",
      " add_5 (Add)                    (None, 28, 28, 512)  0           ['conv3_3_1x1_increase/bn[0][0]',\n",
      "                                                                  'activation_15[0][0]']          \n",
      "                                                                                                  \n",
      " activation_18 (Activation)     (None, 28, 28, 512)  0           ['add_5[0][0]']                  \n",
      "                                                                                                  \n",
      " conv3_4_1x1_reduce (Conv2D)    (None, 28, 28, 128)  65536       ['activation_18[0][0]']          \n",
      "                                                                                                  \n",
      " conv3_4_1x1_reduce/bn (BatchNo  (None, 28, 28, 128)  512        ['conv3_4_1x1_reduce[0][0]']     \n",
      " rmalization)                                                                                     \n",
      "                                                                                                  \n",
      " activation_19 (Activation)     (None, 28, 28, 128)  0           ['conv3_4_1x1_reduce/bn[0][0]']  \n",
      "                                                                                                  \n",
      " conv3_4_3x3 (Conv2D)           (None, 28, 28, 128)  147456      ['activation_19[0][0]']          \n",
      "                                                                                                  \n",
      " conv3_4_3x3/bn (BatchNormaliza  (None, 28, 28, 128)  512        ['conv3_4_3x3[0][0]']            \n",
      " tion)                                                                                            \n",
      "                                                                                                  \n",
      " activation_20 (Activation)     (None, 28, 28, 128)  0           ['conv3_4_3x3/bn[0][0]']         \n",
      "                                                                                                  \n",
      " conv3_4_1x1_increase (Conv2D)  (None, 28, 28, 512)  65536       ['activation_20[0][0]']          \n",
      "                                                                                                  \n",
      " conv3_4_1x1_increase/bn (Batch  (None, 28, 28, 512)  2048       ['conv3_4_1x1_increase[0][0]']   \n",
      " Normalization)                                                                                   \n",
      "                                                                                                  \n",
      " add_6 (Add)                    (None, 28, 28, 512)  0           ['conv3_4_1x1_increase/bn[0][0]',\n",
      "                                                                  'activation_18[0][0]']          \n",
      "                                                                                                  \n",
      " activation_21 (Activation)     (None, 28, 28, 512)  0           ['add_6[0][0]']                  \n",
      "                                                                                                  \n",
      " conv4_1_1x1_reduce (Conv2D)    (None, 14, 14, 256)  131072      ['activation_21[0][0]']          \n",
      "                                                                                                  \n",
      " conv4_1_1x1_reduce/bn (BatchNo  (None, 14, 14, 256)  1024       ['conv4_1_1x1_reduce[0][0]']     \n",
      " rmalization)                                                                                     \n",
      "                                                                                                  \n",
      " activation_22 (Activation)     (None, 14, 14, 256)  0           ['conv4_1_1x1_reduce/bn[0][0]']  \n",
      "                                                                                                  \n",
      " conv4_1_3x3 (Conv2D)           (None, 14, 14, 256)  589824      ['activation_22[0][0]']          \n",
      "                                                                                                  \n",
      " conv4_1_3x3/bn (BatchNormaliza  (None, 14, 14, 256)  1024       ['conv4_1_3x3[0][0]']            \n",
      " tion)                                                                                            \n",
      "                                                                                                  \n",
      " activation_23 (Activation)     (None, 14, 14, 256)  0           ['conv4_1_3x3/bn[0][0]']         \n",
      "                                                                                                  \n",
      " conv4_1_1x1_increase (Conv2D)  (None, 14, 14, 1024  262144      ['activation_23[0][0]']          \n",
      "                                )                                                                 \n",
      "                                                                                                  \n",
      " conv4_1_1x1_proj (Conv2D)      (None, 14, 14, 1024  524288      ['activation_21[0][0]']          \n",
      "                                )                                                                 \n",
      "                                                                                                  \n",
      " conv4_1_1x1_increase/bn (Batch  (None, 14, 14, 1024  4096       ['conv4_1_1x1_increase[0][0]']   \n",
      " Normalization)                 )                                                                 \n",
      "                                                                                                  \n",
      " conv4_1_1x1_proj/bn (BatchNorm  (None, 14, 14, 1024  4096       ['conv4_1_1x1_proj[0][0]']       \n",
      " alization)                     )                                                                 \n",
      "                                                                                                  \n",
      " add_7 (Add)                    (None, 14, 14, 1024  0           ['conv4_1_1x1_increase/bn[0][0]',\n",
      "                                )                                 'conv4_1_1x1_proj/bn[0][0]']    \n",
      "                                                                                                  \n",
      " activation_24 (Activation)     (None, 14, 14, 1024  0           ['add_7[0][0]']                  \n",
      "                                )                                                                 \n",
      "                                                                                                  \n",
      " conv4_2_1x1_reduce (Conv2D)    (None, 14, 14, 256)  262144      ['activation_24[0][0]']          \n",
      "                                                                                                  \n",
      " conv4_2_1x1_reduce/bn (BatchNo  (None, 14, 14, 256)  1024       ['conv4_2_1x1_reduce[0][0]']     \n",
      " rmalization)                                                                                     \n",
      "                                                                                                  \n",
      " activation_25 (Activation)     (None, 14, 14, 256)  0           ['conv4_2_1x1_reduce/bn[0][0]']  \n",
      "                                                                                                  \n",
      " conv4_2_3x3 (Conv2D)           (None, 14, 14, 256)  589824      ['activation_25[0][0]']          \n",
      "                                                                                                  \n",
      " conv4_2_3x3/bn (BatchNormaliza  (None, 14, 14, 256)  1024       ['conv4_2_3x3[0][0]']            \n",
      " tion)                                                                                            \n",
      "                                                                                                  \n",
      " activation_26 (Activation)     (None, 14, 14, 256)  0           ['conv4_2_3x3/bn[0][0]']         \n",
      "                                                                                                  \n",
      " conv4_2_1x1_increase (Conv2D)  (None, 14, 14, 1024  262144      ['activation_26[0][0]']          \n",
      "                                )                                                                 \n",
      "                                                                                                  \n",
      " conv4_2_1x1_increase/bn (Batch  (None, 14, 14, 1024  4096       ['conv4_2_1x1_increase[0][0]']   \n",
      " Normalization)                 )                                                                 \n",
      "                                                                                                  \n",
      " add_8 (Add)                    (None, 14, 14, 1024  0           ['conv4_2_1x1_increase/bn[0][0]',\n",
      "                                )                                 'activation_24[0][0]']          \n",
      "                                                                                                  \n",
      " activation_27 (Activation)     (None, 14, 14, 1024  0           ['add_8[0][0]']                  \n",
      "                                )                                                                 \n",
      "                                                                                                  \n",
      " conv4_3_1x1_reduce (Conv2D)    (None, 14, 14, 256)  262144      ['activation_27[0][0]']          \n",
      "                                                                                                  \n",
      " conv4_3_1x1_reduce/bn (BatchNo  (None, 14, 14, 256)  1024       ['conv4_3_1x1_reduce[0][0]']     \n",
      " rmalization)                                                                                     \n",
      "                                                                                                  \n",
      " activation_28 (Activation)     (None, 14, 14, 256)  0           ['conv4_3_1x1_reduce/bn[0][0]']  \n",
      "                                                                                                  \n",
      " conv4_3_3x3 (Conv2D)           (None, 14, 14, 256)  589824      ['activation_28[0][0]']          \n",
      "                                                                                                  \n",
      " conv4_3_3x3/bn (BatchNormaliza  (None, 14, 14, 256)  1024       ['conv4_3_3x3[0][0]']            \n",
      " tion)                                                                                            \n",
      "                                                                                                  \n",
      " activation_29 (Activation)     (None, 14, 14, 256)  0           ['conv4_3_3x3/bn[0][0]']         \n",
      "                                                                                                  \n",
      " conv4_3_1x1_increase (Conv2D)  (None, 14, 14, 1024  262144      ['activation_29[0][0]']          \n",
      "                                )                                                                 \n",
      "                                                                                                  \n",
      " conv4_3_1x1_increase/bn (Batch  (None, 14, 14, 1024  4096       ['conv4_3_1x1_increase[0][0]']   \n",
      " Normalization)                 )                                                                 \n",
      "                                                                                                  \n",
      " add_9 (Add)                    (None, 14, 14, 1024  0           ['conv4_3_1x1_increase/bn[0][0]',\n",
      "                                )                                 'activation_27[0][0]']          \n",
      "                                                                                                  \n",
      " activation_30 (Activation)     (None, 14, 14, 1024  0           ['add_9[0][0]']                  \n",
      "                                )                                                                 \n",
      "                                                                                                  \n",
      " conv4_4_1x1_reduce (Conv2D)    (None, 14, 14, 256)  262144      ['activation_30[0][0]']          \n",
      "                                                                                                  \n",
      " conv4_4_1x1_reduce/bn (BatchNo  (None, 14, 14, 256)  1024       ['conv4_4_1x1_reduce[0][0]']     \n",
      " rmalization)                                                                                     \n",
      "                                                                                                  \n",
      " activation_31 (Activation)     (None, 14, 14, 256)  0           ['conv4_4_1x1_reduce/bn[0][0]']  \n",
      "                                                                                                  \n",
      " conv4_4_3x3 (Conv2D)           (None, 14, 14, 256)  589824      ['activation_31[0][0]']          \n",
      "                                                                                                  \n",
      " conv4_4_3x3/bn (BatchNormaliza  (None, 14, 14, 256)  1024       ['conv4_4_3x3[0][0]']            \n",
      " tion)                                                                                            \n",
      "                                                                                                  \n",
      " activation_32 (Activation)     (None, 14, 14, 256)  0           ['conv4_4_3x3/bn[0][0]']         \n",
      "                                                                                                  \n",
      " conv4_4_1x1_increase (Conv2D)  (None, 14, 14, 1024  262144      ['activation_32[0][0]']          \n",
      "                                )                                                                 \n",
      "                                                                                                  \n",
      " conv4_4_1x1_increase/bn (Batch  (None, 14, 14, 1024  4096       ['conv4_4_1x1_increase[0][0]']   \n",
      " Normalization)                 )                                                                 \n",
      "                                                                                                  \n",
      " add_10 (Add)                   (None, 14, 14, 1024  0           ['conv4_4_1x1_increase/bn[0][0]',\n",
      "                                )                                 'activation_30[0][0]']          \n",
      "                                                                                                  \n",
      " activation_33 (Activation)     (None, 14, 14, 1024  0           ['add_10[0][0]']                 \n",
      "                                )                                                                 \n",
      "                                                                                                  \n",
      " conv4_5_1x1_reduce (Conv2D)    (None, 14, 14, 256)  262144      ['activation_33[0][0]']          \n",
      "                                                                                                  \n",
      " conv4_5_1x1_reduce/bn (BatchNo  (None, 14, 14, 256)  1024       ['conv4_5_1x1_reduce[0][0]']     \n",
      " rmalization)                                                                                     \n",
      "                                                                                                  \n",
      " activation_34 (Activation)     (None, 14, 14, 256)  0           ['conv4_5_1x1_reduce/bn[0][0]']  \n",
      "                                                                                                  \n",
      " conv4_5_3x3 (Conv2D)           (None, 14, 14, 256)  589824      ['activation_34[0][0]']          \n",
      "                                                                                                  \n",
      " conv4_5_3x3/bn (BatchNormaliza  (None, 14, 14, 256)  1024       ['conv4_5_3x3[0][0]']            \n",
      " tion)                                                                                            \n",
      "                                                                                                  \n",
      " activation_35 (Activation)     (None, 14, 14, 256)  0           ['conv4_5_3x3/bn[0][0]']         \n",
      "                                                                                                  \n",
      " conv4_5_1x1_increase (Conv2D)  (None, 14, 14, 1024  262144      ['activation_35[0][0]']          \n",
      "                                )                                                                 \n",
      "                                                                                                  \n",
      " conv4_5_1x1_increase/bn (Batch  (None, 14, 14, 1024  4096       ['conv4_5_1x1_increase[0][0]']   \n",
      " Normalization)                 )                                                                 \n",
      "                                                                                                  \n",
      " add_11 (Add)                   (None, 14, 14, 1024  0           ['conv4_5_1x1_increase/bn[0][0]',\n",
      "                                )                                 'activation_33[0][0]']          \n",
      "                                                                                                  \n",
      " activation_36 (Activation)     (None, 14, 14, 1024  0           ['add_11[0][0]']                 \n",
      "                                )                                                                 \n",
      "                                                                                                  \n",
      " conv4_6_1x1_reduce (Conv2D)    (None, 14, 14, 256)  262144      ['activation_36[0][0]']          \n",
      "                                                                                                  \n",
      " conv4_6_1x1_reduce/bn (BatchNo  (None, 14, 14, 256)  1024       ['conv4_6_1x1_reduce[0][0]']     \n",
      " rmalization)                                                                                     \n",
      "                                                                                                  \n",
      " activation_37 (Activation)     (None, 14, 14, 256)  0           ['conv4_6_1x1_reduce/bn[0][0]']  \n",
      "                                                                                                  \n",
      " conv4_6_3x3 (Conv2D)           (None, 14, 14, 256)  589824      ['activation_37[0][0]']          \n",
      "                                                                                                  \n",
      " conv4_6_3x3/bn (BatchNormaliza  (None, 14, 14, 256)  1024       ['conv4_6_3x3[0][0]']            \n",
      " tion)                                                                                            \n",
      "                                                                                                  \n",
      " activation_38 (Activation)     (None, 14, 14, 256)  0           ['conv4_6_3x3/bn[0][0]']         \n",
      "                                                                                                  \n",
      " conv4_6_1x1_increase (Conv2D)  (None, 14, 14, 1024  262144      ['activation_38[0][0]']          \n",
      "                                )                                                                 \n",
      "                                                                                                  \n",
      " conv4_6_1x1_increase/bn (Batch  (None, 14, 14, 1024  4096       ['conv4_6_1x1_increase[0][0]']   \n",
      " Normalization)                 )                                                                 \n",
      "                                                                                                  \n",
      " add_12 (Add)                   (None, 14, 14, 1024  0           ['conv4_6_1x1_increase/bn[0][0]',\n",
      "                                )                                 'activation_36[0][0]']          \n",
      "                                                                                                  \n",
      " activation_39 (Activation)     (None, 14, 14, 1024  0           ['add_12[0][0]']                 \n",
      "                                )                                                                 \n",
      "                                                                                                  \n",
      " conv5_1_1x1_reduce (Conv2D)    (None, 7, 7, 512)    524288      ['activation_39[0][0]']          \n",
      "                                                                                                  \n",
      " conv5_1_1x1_reduce/bn (BatchNo  (None, 7, 7, 512)   2048        ['conv5_1_1x1_reduce[0][0]']     \n",
      " rmalization)                                                                                     \n",
      "                                                                                                  \n",
      " activation_40 (Activation)     (None, 7, 7, 512)    0           ['conv5_1_1x1_reduce/bn[0][0]']  \n",
      "                                                                                                  \n",
      " conv5_1_3x3 (Conv2D)           (None, 7, 7, 512)    2359296     ['activation_40[0][0]']          \n",
      "                                                                                                  \n",
      " conv5_1_3x3/bn (BatchNormaliza  (None, 7, 7, 512)   2048        ['conv5_1_3x3[0][0]']            \n",
      " tion)                                                                                            \n",
      "                                                                                                  \n",
      " activation_41 (Activation)     (None, 7, 7, 512)    0           ['conv5_1_3x3/bn[0][0]']         \n",
      "                                                                                                  \n",
      " conv5_1_1x1_increase (Conv2D)  (None, 7, 7, 2048)   1048576     ['activation_41[0][0]']          \n",
      "                                                                                                  \n",
      " conv5_1_1x1_proj (Conv2D)      (None, 7, 7, 2048)   2097152     ['activation_39[0][0]']          \n",
      "                                                                                                  \n",
      " conv5_1_1x1_increase/bn (Batch  (None, 7, 7, 2048)  8192        ['conv5_1_1x1_increase[0][0]']   \n",
      " Normalization)                                                                                   \n",
      "                                                                                                  \n",
      " conv5_1_1x1_proj/bn (BatchNorm  (None, 7, 7, 2048)  8192        ['conv5_1_1x1_proj[0][0]']       \n",
      " alization)                                                                                       \n",
      "                                                                                                  \n",
      " add_13 (Add)                   (None, 7, 7, 2048)   0           ['conv5_1_1x1_increase/bn[0][0]',\n",
      "                                                                  'conv5_1_1x1_proj/bn[0][0]']    \n",
      "                                                                                                  \n",
      " activation_42 (Activation)     (None, 7, 7, 2048)   0           ['add_13[0][0]']                 \n",
      "                                                                                                  \n",
      " conv5_2_1x1_reduce (Conv2D)    (None, 7, 7, 512)    1048576     ['activation_42[0][0]']          \n",
      "                                                                                                  \n",
      " conv5_2_1x1_reduce/bn (BatchNo  (None, 7, 7, 512)   2048        ['conv5_2_1x1_reduce[0][0]']     \n",
      " rmalization)                                                                                     \n",
      "                                                                                                  \n",
      " activation_43 (Activation)     (None, 7, 7, 512)    0           ['conv5_2_1x1_reduce/bn[0][0]']  \n",
      "                                                                                                  \n",
      " conv5_2_3x3 (Conv2D)           (None, 7, 7, 512)    2359296     ['activation_43[0][0]']          \n",
      "                                                                                                  \n",
      " conv5_2_3x3/bn (BatchNormaliza  (None, 7, 7, 512)   2048        ['conv5_2_3x3[0][0]']            \n",
      " tion)                                                                                            \n",
      "                                                                                                  \n",
      " activation_44 (Activation)     (None, 7, 7, 512)    0           ['conv5_2_3x3/bn[0][0]']         \n",
      "                                                                                                  \n",
      " conv5_2_1x1_increase (Conv2D)  (None, 7, 7, 2048)   1048576     ['activation_44[0][0]']          \n",
      "                                                                                                  \n",
      " conv5_2_1x1_increase/bn (Batch  (None, 7, 7, 2048)  8192        ['conv5_2_1x1_increase[0][0]']   \n",
      " Normalization)                                                                                   \n",
      "                                                                                                  \n",
      " add_14 (Add)                   (None, 7, 7, 2048)   0           ['conv5_2_1x1_increase/bn[0][0]',\n",
      "                                                                  'activation_42[0][0]']          \n",
      "                                                                                                  \n",
      " activation_45 (Activation)     (None, 7, 7, 2048)   0           ['add_14[0][0]']                 \n",
      "                                                                                                  \n",
      " conv5_3_1x1_reduce (Conv2D)    (None, 7, 7, 512)    1048576     ['activation_45[0][0]']          \n",
      "                                                                                                  \n",
      " conv5_3_1x1_reduce/bn (BatchNo  (None, 7, 7, 512)   2048        ['conv5_3_1x1_reduce[0][0]']     \n",
      " rmalization)                                                                                     \n",
      "                                                                                                  \n",
      " activation_46 (Activation)     (None, 7, 7, 512)    0           ['conv5_3_1x1_reduce/bn[0][0]']  \n",
      "                                                                                                  \n",
      " conv5_3_3x3 (Conv2D)           (None, 7, 7, 512)    2359296     ['activation_46[0][0]']          \n",
      "                                                                                                  \n",
      " conv5_3_3x3/bn (BatchNormaliza  (None, 7, 7, 512)   2048        ['conv5_3_3x3[0][0]']            \n",
      " tion)                                                                                            \n",
      "                                                                                                  \n",
      " activation_47 (Activation)     (None, 7, 7, 512)    0           ['conv5_3_3x3/bn[0][0]']         \n",
      "                                                                                                  \n",
      " conv5_3_1x1_increase (Conv2D)  (None, 7, 7, 2048)   1048576     ['activation_47[0][0]']          \n",
      "                                                                                                  \n",
      " conv5_3_1x1_increase/bn (Batch  (None, 7, 7, 2048)  8192        ['conv5_3_1x1_increase[0][0]']   \n",
      " Normalization)                                                                                   \n",
      "                                                                                                  \n",
      " add_15 (Add)                   (None, 7, 7, 2048)   0           ['conv5_3_1x1_increase/bn[0][0]',\n",
      "                                                                  'activation_45[0][0]']          \n",
      "                                                                                                  \n",
      " activation_48 (Activation)     (None, 7, 7, 2048)   0           ['add_15[0][0]']                 \n",
      "                                                                                                  \n",
      " avg_pool (AveragePooling2D)    (None, 1, 1, 2048)   0           ['activation_48[0][0]']          \n",
      "                                                                                                  \n",
      "==================================================================================================\n",
      "Total params: 23,561,152\n",
      "Trainable params: 23,508,032\n",
      "Non-trainable params: 53,120\n",
      "__________________________________________________________________________________________________\n"
     ]
    }
   ],
   "source": [
    "# загрузка обученной модели VGGFace\n",
    "vggface_model = VGGFace(model='resnet50', include_top=False,\n",
    "                        input_shape=(IMAGE_SIZE, IMAGE_SIZE, 3)\n",
    "                        )\n",
    "vggface_model.summary()"
   ]
  },
  {
   "cell_type": "code",
   "execution_count": 17,
   "metadata": {
    "colab": {
     "base_uri": "https://localhost:8080/"
    },
    "execution": {
     "iopub.execute_input": "2022-09-28T14:23:02.372451Z",
     "iopub.status.busy": "2022-09-28T14:23:02.372086Z",
     "iopub.status.idle": "2022-09-28T14:23:02.737333Z",
     "shell.execute_reply": "2022-09-28T14:23:02.736333Z",
     "shell.execute_reply.started": "2022-09-28T14:23:02.372418Z"
    },
    "executionInfo": {
     "elapsed": 779,
     "status": "ok",
     "timestamp": 1671554077726,
     "user": {
      "displayName": "engener64@yandex.ru",
      "userId": "06978561127052537462"
     },
     "user_tz": -240
    },
    "id": "AwLzTSqdWUUW",
    "outputId": "7f83ad41-0b26-46b5-f7a6-2c9fb0d6548a"
   },
   "outputs": [
    {
     "name": "stdout",
     "output_type": "stream",
     "text": [
      "Model: \"sequential\"\n",
      "_________________________________________________________________\n",
      " Layer (type)                Output Shape              Param #   \n",
      "=================================================================\n",
      " vggface_resnet50 (Functiona  (None, 1, 1, 2048)       23561152  \n",
      " l)                                                              \n",
      "                                                                 \n",
      " flatten (Flatten)           (None, 2048)              0         \n",
      "                                                                 \n",
      " dense (Dense)               (None, 512)               1049088   \n",
      "                                                                 \n",
      " dropout (Dropout)           (None, 512)               0         \n",
      "                                                                 \n",
      " dense_1 (Dense)             (None, 9)                 4617      \n",
      "                                                                 \n",
      "=================================================================\n",
      "Total params: 24,614,857\n",
      "Trainable params: 24,561,737\n",
      "Non-trainable params: 53,120\n",
      "_________________________________________________________________\n"
     ]
    }
   ],
   "source": [
    "# создание модели с дополнительными слоями для решения моей задачи\n",
    "model = tf.keras.Sequential([\n",
    "    vggface_model,\n",
    "    tf.keras.layers.Flatten(),\n",
    "    tf.keras.layers.Dense(512, activation='relu'),\n",
    "    tf.keras.layers.Dropout(0.2),\n",
    "    tf.keras.layers.Dense(N_CLASSES)])\n",
    "model.build(input_shape=(None, IMAGE_SIZE, IMAGE_SIZE, 3))\n",
    "model.summary()"
   ]
  },
  {
   "cell_type": "code",
   "execution_count": 14,
   "metadata": {
    "execution": {
     "iopub.execute_input": "2022-09-28T14:30:33.241398Z",
     "iopub.status.busy": "2022-09-28T14:30:33.240516Z",
     "iopub.status.idle": "2022-09-28T14:30:33.294935Z",
     "shell.execute_reply": "2022-09-28T14:30:33.294002Z",
     "shell.execute_reply.started": "2022-09-28T14:30:33.241347Z"
    },
    "executionInfo": {
     "elapsed": 1177,
     "status": "ok",
     "timestamp": 1671552754639,
     "user": {
      "displayName": "engener64@yandex.ru",
      "userId": "06978561127052537462"
     },
     "user_tz": -240
    },
    "id": "4J7LJuhVWUUZ"
   },
   "outputs": [],
   "source": [
    "# загрузка обучающего и валидационного датафреймов из csv-файлов\n",
    "train_df = pd.read_csv('train_df.csv', index_col = 0) \n",
    "test_df = pd.read_csv('test_df.csv', index_col = 0)"
   ]
  },
  {
   "cell_type": "code",
   "execution_count": 15,
   "metadata": {
    "colab": {
     "base_uri": "https://localhost:8080/"
    },
    "execution": {
     "iopub.execute_input": "2022-09-28T14:29:30.011177Z",
     "iopub.status.busy": "2022-09-28T14:29:30.010811Z",
     "iopub.status.idle": "2022-09-28T14:29:30.032286Z",
     "shell.execute_reply": "2022-09-28T14:29:30.031203Z",
     "shell.execute_reply.started": "2022-09-28T14:29:30.011148Z"
    },
    "executionInfo": {
     "elapsed": 338,
     "status": "ok",
     "timestamp": 1671552759842,
     "user": {
      "displayName": "engener64@yandex.ru",
      "userId": "06978561127052537462"
     },
     "user_tz": -240
    },
    "id": "IGbw_bfAWUUa",
    "outputId": "8683d4c9-9b66-4ba0-9443-c958753cc6ff"
   },
   "outputs": [
    {
     "name": "stdout",
     "output_type": "stream",
     "text": [
      "<class 'pandas.core.frame.DataFrame'>\n",
      "Int64Index: 40037 entries, 46357 to 14269\n",
      "Data columns (total 2 columns):\n",
      " #   Column      Non-Null Count  Dtype \n",
      "---  ------      --------------  ----- \n",
      " 0   image_path  40037 non-null  object\n",
      " 1   emotion     40037 non-null  object\n",
      "dtypes: object(2)\n",
      "memory usage: 938.4+ KB\n"
     ]
    }
   ],
   "source": [
    "train_df.info()"
   ]
  },
  {
   "cell_type": "code",
   "execution_count": 16,
   "metadata": {
    "colab": {
     "base_uri": "https://localhost:8080/"
    },
    "executionInfo": {
     "elapsed": 356,
     "status": "ok",
     "timestamp": 1671552794432,
     "user": {
      "displayName": "engener64@yandex.ru",
      "userId": "06978561127052537462"
     },
     "user_tz": -240
    },
    "id": "LcJ2gjpcTwDe",
    "outputId": "6ad5c4f9-65b4-4f3d-9677-2f7e5260241e"
   },
   "outputs": [
    {
     "name": "stdout",
     "output_type": "stream",
     "text": [
      "<class 'pandas.core.frame.DataFrame'>\n",
      "Int64Index: 10009 entries, 2 to 50040\n",
      "Data columns (total 2 columns):\n",
      " #   Column      Non-Null Count  Dtype \n",
      "---  ------      --------------  ----- \n",
      " 0   image_path  10009 non-null  object\n",
      " 1   emotion     10009 non-null  object\n",
      "dtypes: object(2)\n",
      "memory usage: 234.6+ KB\n"
     ]
    }
   ],
   "source": [
    "test_df.info()"
   ]
  },
  {
   "cell_type": "code",
   "execution_count": null,
   "metadata": {
    "execution": {
     "iopub.execute_input": "2022-09-28T14:30:54.432842Z",
     "iopub.status.busy": "2022-09-28T14:30:54.432462Z",
     "iopub.status.idle": "2022-09-28T14:30:54.438320Z",
     "shell.execute_reply": "2022-09-28T14:30:54.437203Z",
     "shell.execute_reply.started": "2022-09-28T14:30:54.432808Z"
    },
    "id": "vKMDb7d8WUUc"
   },
   "outputs": [],
   "source": [
    "# функция препроцессинга \n",
    "def preprocess_input_facenet(image_):\n",
    "    \"\"\"\n",
    "    image_ -- тензор размера (1, H, W, 3)\n",
    "    return: картинка, с примененным preprocess_input(..., version=2) из keras_vggface\n",
    "    \"\"\"\n",
    "    preprocessed = utils.preprocess_input(image_, version=2)\n",
    "    \n",
    "    return preprocessed"
   ]
  },
  {
   "cell_type": "code",
   "execution_count": null,
   "metadata": {
    "execution": {
     "iopub.execute_input": "2022-09-28T14:37:01.366581Z",
     "iopub.status.busy": "2022-09-28T14:37:01.365486Z",
     "iopub.status.idle": "2022-09-28T14:39:13.022581Z",
     "shell.execute_reply": "2022-09-28T14:39:13.021428Z",
     "shell.execute_reply.started": "2022-09-28T14:37:01.366536Z"
    },
    "id": "nugLV5f2WUUd",
    "outputId": "4a55a6ee-0854-49e0-f208-602a1810e264"
   },
   "outputs": [
    {
     "name": "stdout",
     "output_type": "stream",
     "text": [
      "Found 40037 validated image filenames belonging to 9 classes.\n",
      "Found 10009 validated image filenames belonging to 9 classes.\n"
     ]
    }
   ],
   "source": [
    "# генератор обучающих данных с функцией аугментации\n",
    "train_generator = ImageDataGenerator(\n",
    "                                     rotation_range=15,\n",
    "                                     horizontal_flip=True,\n",
    "                                     fill_mode='nearest',\n",
    "                                     brightness_range=(0.5,1.5),\n",
    "                                     shear_range=0.1,\n",
    "                                     zoom_range=.1,\n",
    "                                     preprocessing_function=preprocess_input_facenet)\n",
    "        \n",
    "train_data_gen = train_generator.flow_from_dataframe(dataframe=train_df,\n",
    "                                                     x_col='image_path',\n",
    "                                                     y_col='emotion',\n",
    "                                                     target_size=(IMAGE_SIZE, IMAGE_SIZE),\n",
    "                                                     batch_size=BATCH_SIZE,\n",
    "                                                     class_mode='sparse',\n",
    "                                                     shuffle=True,\n",
    "                                                     interpolation='nearest',\n",
    "                                                )\n",
    "\n",
    "# генератор валидационных данных\n",
    "val_generator = ImageDataGenerator(preprocessing_function=preprocess_input_facenet)\n",
    "\n",
    "val_data_gen = val_generator.flow_from_dataframe(dataframe=test_df,\n",
    "                                                 x_col='image_path',\n",
    "                                                 y_col='emotion',\n",
    "                                                 target_size=(IMAGE_SIZE, IMAGE_SIZE),\n",
    "                                                 batch_size=BATCH_SIZE,\n",
    "                                                 class_mode='sparse',\n",
    "                                                 shuffle=False,\n",
    "                                                 interpolation='nearest',\n",
    "                                                )"
   ]
  },
  {
   "cell_type": "code",
   "execution_count": null,
   "metadata": {
    "execution": {
     "iopub.execute_input": "2022-09-28T14:42:10.148884Z",
     "iopub.status.busy": "2022-09-28T14:42:10.148488Z",
     "iopub.status.idle": "2022-09-28T14:42:10.155265Z",
     "shell.execute_reply": "2022-09-28T14:42:10.154241Z",
     "shell.execute_reply.started": "2022-09-28T14:42:10.148849Z"
    },
    "id": "OSoSIC86WUUe"
   },
   "outputs": [],
   "source": [
    "# создание папки модели и имени файла для записи весов во время обучения\n",
    "path = Path('model_vggface_resnet50')\n",
    "path.mkdir(exist_ok=True, parents=True) # папка создается на диске вместе с \"родителями\"\n",
    "assert path.exists()\n",
    "cpt_filename = 'best_checkpoint.hdf5'  \n",
    "cpt_path = str(path / cpt_filename)"
   ]
  },
  {
   "cell_type": "code",
   "execution_count": null,
   "metadata": {
    "execution": {
     "iopub.execute_input": "2022-09-28T14:43:37.315198Z",
     "iopub.status.busy": "2022-09-28T14:43:37.314509Z",
     "iopub.status.idle": "2022-09-28T14:43:37.320121Z",
     "shell.execute_reply": "2022-09-28T14:43:37.318860Z",
     "shell.execute_reply.started": "2022-09-28T14:43:37.315160Z"
    },
    "id": "uVuiMaIRWUUf"
   },
   "outputs": [],
   "source": [
    "# обратный вызов для сохранения весов модели\n",
    "checkpoint = ModelCheckpoint(cpt_path,\n",
    "                            verbose=1,\n",
    "                            save_best_only=True,\n",
    "                            save_weights_only=True,\n",
    "                            save_freq='epoch',\n",
    "                            mode='min')"
   ]
  },
  {
   "cell_type": "code",
   "execution_count": null,
   "metadata": {
    "execution": {
     "iopub.execute_input": "2022-09-28T14:44:47.816489Z",
     "iopub.status.busy": "2022-09-28T14:44:47.815764Z",
     "iopub.status.idle": "2022-09-28T14:44:47.841557Z",
     "shell.execute_reply": "2022-09-28T14:44:47.840680Z",
     "shell.execute_reply.started": "2022-09-28T14:44:47.816454Z"
    },
    "id": "ck2T8xZVWUUg"
   },
   "outputs": [],
   "source": [
    "# функция экспоненциального затухания к шагу оптимизатора с заданной начальной скоростью обучения\n",
    "lr_schedule = tf.keras.optimizers.schedules.ExponentialDecay(\n",
    "    initial_learning_rate=5e-4,\n",
    "    decay_steps=100,\n",
    "    decay_rate=0.9)\n",
    "\n",
    "# настройка модели для обучения\n",
    "model.compile(loss=tf.keras.losses.SparseCategoricalCrossentropy(from_logits=True),\n",
    "              optimizer=keras.optimizers.Adam(learning_rate=lr_schedule),\n",
    "              metrics=[tf.keras.metrics.SparseCategoricalAccuracy()])"
   ]
  },
  {
   "cell_type": "code",
   "execution_count": null,
   "metadata": {
    "execution": {
     "iopub.execute_input": "2022-09-28T14:45:28.180210Z",
     "iopub.status.busy": "2022-09-28T14:45:28.179556Z",
     "iopub.status.idle": "2022-09-28T17:25:33.842246Z",
     "shell.execute_reply": "2022-09-28T17:25:33.841172Z",
     "shell.execute_reply.started": "2022-09-28T14:45:28.180169Z"
    },
    "id": "4uH2x3G6WUUh",
    "outputId": "fcdab2ae-8547-4773-aaba-bbc4d9497427"
   },
   "outputs": [
    {
     "data": {
      "image/png": "[encoded data removed]",
      "text/plain": [
       "<Figure size 864x576 with 2 Axes>"
      ]
     },
     "metadata": {
      "needs_background": "light"
     },
     "output_type": "display_data"
    },
    {
     "name": "stdout",
     "output_type": "stream",
     "text": [
      "Loss\n",
      "\ttraining         \t (min:    1.216, max:    1.703, cur:    1.216)\n",
      "\tvalidation       \t (min:    1.244, max:    1.459, cur:    1.244)\n",
      "sparse_categorical_accuracy\n",
      "\ttraining         \t (min:    0.380, max:    0.558, cur:    0.558)\n",
      "\tvalidation       \t (min:    0.471, max:    0.543, cur:    0.542)\n"
     ]
    }
   ],
   "source": [
    "# обучение модели\n",
    "EPOCHS = 10\n",
    "history = model.fit(train_data_gen, epochs=EPOCHS, validation_data=val_data_gen,\n",
    "                    callbacks=[checkpoint,\n",
    "                               PlotLossesCallback()\n",
    "                              ]\n",
    "                    )"
   ]
  },
  {
   "cell_type": "code",
   "execution_count": null,
   "metadata": {
    "execution": {
     "iopub.execute_input": "2022-09-28T17:27:06.319031Z",
     "iopub.status.busy": "2022-09-28T17:27:06.318659Z",
     "iopub.status.idle": "2022-09-28T17:28:28.611998Z",
     "shell.execute_reply": "2022-09-28T17:28:28.610864Z",
     "shell.execute_reply.started": "2022-09-28T17:27:06.318999Z"
    },
    "id": "9MAuuQNWWUUi",
    "outputId": "9faeb4fd-96c8-47c2-dbcf-09aff20aae71"
   },
   "outputs": [
    {
     "name": "stdout",
     "output_type": "stream",
     "text": [
      "313/313 [==============================] - 78s 250ms/step - loss: 1.2439 - sparse_categorical_accuracy: 0.5418\n"
     ]
    },
    {
     "data": {
      "text/plain": [
       "[1.2438523769378662, 0.5418123602867126]"
      ]
     },
     "execution_count": 23,
     "metadata": {},
     "output_type": "execute_result"
    }
   ],
   "source": [
    "# значение потерь и значения метрики для модели в тестовом режиме\n",
    "model.evaluate(val_data_gen)"
   ]
  },
  {
   "cell_type": "code",
   "execution_count": 23,
   "metadata": {
    "execution": {
     "iopub.execute_input": "2022-09-28T17:29:41.669138Z",
     "iopub.status.busy": "2022-09-28T17:29:41.668754Z",
     "iopub.status.idle": "2022-09-28T17:29:42.555564Z",
     "shell.execute_reply": "2022-09-28T17:29:42.554550Z",
     "shell.execute_reply.started": "2022-09-28T17:29:41.669106Z"
    },
    "executionInfo": {
     "elapsed": 862,
     "status": "ok",
     "timestamp": 1671554511470,
     "user": {
      "displayName": "engener64@yandex.ru",
      "userId": "06978561127052537462"
     },
     "user_tz": -240
    },
    "id": "4w3f9UuAWUUi"
   },
   "outputs": [],
   "source": [
    "# запись весов модели\n",
    "model.save_weights('model_vggface_resnet50/weights.h5')"
   ]
  },
  {
   "cell_type": "code",
   "execution_count": 22,
   "metadata": {
    "executionInfo": {
     "elapsed": 249,
     "status": "ok",
     "timestamp": 1671554448758,
     "user": {
      "displayName": "engener64@yandex.ru",
      "userId": "06978561127052537462"
     },
     "user_tz": -240
    },
    "id": "jLevE6PsWzwQ"
   },
   "outputs": [],
   "source": [
    "# запись конфигурации модели\n",
    "model_json = model.to_json()\n",
    "with open(\"model_vggface_resnet50/model.json\",\"w\") as json_file:\n",
    "    json_file.write(model_json)"
   ]
  },
  {
   "cell_type": "code",
   "execution_count": null,
   "metadata": {
    "execution": {
     "iopub.execute_input": "2022-09-28T17:55:50.413033Z",
     "iopub.status.busy": "2022-09-28T17:55:50.412663Z",
     "iopub.status.idle": "2022-09-28T17:55:50.662582Z",
     "shell.execute_reply": "2022-09-28T17:55:50.661605Z",
     "shell.execute_reply.started": "2022-09-28T17:55:50.413001Z"
    },
    "id": "ADs37nUJWUUj",
    "outputId": "a56ef7ca-2cb2-4b24-f752-b44ceeefbae9"
   },
   "outputs": [
    {
     "data": {
      "text/plain": [
       "<matplotlib.image.AxesImage at 0x7f373827b790>"
      ]
     },
     "execution_count": 45,
     "metadata": {},
     "output_type": "execute_result"
    },
    {
     "data": {
      "image/png": "[encoded data removed]",
      "text/plain": [
       "<Figure size 432x288 with 1 Axes>"
      ]
     },
     "metadata": {
      "needs_background": "light"
     },
     "output_type": "display_data"
    }
   ],
   "source": [
    "# случайный выбор и обработка изображения для теста\n",
    "rng = np.random.default_rng()\n",
    "n = rng.integers(5000, size=1)[0]\n",
    "img = image.load_img('test_kaggle/' + str(n) + '.jpg', target_size=(IMAGE_SIZE, IMAGE_SIZE))\n",
    "x = image.img_to_array(img, dtype=np.float64)\n",
    "x = np.expand_dims(x, axis=0)\n",
    "plt.imshow(img)"
   ]
  },
  {
   "cell_type": "code",
   "execution_count": null,
   "metadata": {
    "execution": {
     "iopub.execute_input": "2022-09-28T17:56:09.482640Z",
     "iopub.status.busy": "2022-09-28T17:56:09.482217Z",
     "iopub.status.idle": "2022-09-28T17:56:13.072242Z",
     "shell.execute_reply": "2022-09-28T17:56:13.071214Z",
     "shell.execute_reply.started": "2022-09-28T17:56:09.482602Z"
    },
    "id": "3n81cQoXWUUk",
    "outputId": "933959b0-a984-4c4c-c697-756b3ab69416"
   },
   "outputs": [
    {
     "name": "stdout",
     "output_type": "stream",
     "text": [
      "43.3 ms ± 3.87 ms per loop (mean ± std. dev. of 7 runs, 10 loops each)\n"
     ]
    }
   ],
   "source": [
    "# определение времени инференса сети\n",
    "%%timeit \n",
    "# -n 10 -r 10\n",
    "\n",
    "model.predict(preprocess_input_facenet(x))"
   ]
  },
  {
   "cell_type": "code",
   "execution_count": null,
   "metadata": {
    "execution": {
     "iopub.execute_input": "2022-09-28T17:54:18.793354Z",
     "iopub.status.busy": "2022-09-28T17:54:18.792990Z",
     "iopub.status.idle": "2022-09-28T17:54:18.810378Z",
     "shell.execute_reply": "2022-09-28T17:54:18.809529Z",
     "shell.execute_reply.started": "2022-09-28T17:54:18.793321Z"
    },
    "id": "vN1mAFTTWUUl",
    "outputId": "97ae1277-a18e-4d8b-d1e1-6e818f793601"
   },
   "outputs": [
    {
     "data": {
      "text/plain": [
       "{0: 'anger',\n",
       " 1: 'contempt',\n",
       " 2: 'disgust',\n",
       " 3: 'fear',\n",
       " 4: 'happy',\n",
       " 5: 'neutral',\n",
       " 6: 'sad',\n",
       " 7: 'surprise',\n",
       " 8: 'uncertain'}"
      ]
     },
     "execution_count": 43,
     "metadata": {},
     "output_type": "execute_result"
    }
   ],
   "source": [
    "# создание словаря эмоций из файла\n",
    "def load_dict_from_file(path):\n",
    "    f = open(path,'r')\n",
    "    data=f.read()\n",
    "    f.close()\n",
    "    return eval(data)\n",
    "\n",
    "emotion_mapping = load_dict_from_file('dict.txt')\n",
    "emotion_mapping"
   ]
  },
  {
   "cell_type": "code",
   "execution_count": null,
   "metadata": {
    "execution": {
     "iopub.execute_input": "2022-09-28T17:56:24.812382Z",
     "iopub.status.busy": "2022-09-28T17:56:24.811492Z",
     "iopub.status.idle": "2022-09-28T17:56:24.868295Z",
     "shell.execute_reply": "2022-09-28T17:56:24.867395Z",
     "shell.execute_reply.started": "2022-09-28T17:56:24.812345Z"
    },
    "id": "6WcenCExWUUm",
    "outputId": "03f9db9d-9b16-4567-89e7-55899629d9fc"
   },
   "outputs": [
    {
     "data": {
      "text/plain": [
       "'anger'"
      ]
     },
     "execution_count": 47,
     "metadata": {},
     "output_type": "execute_result"
    }
   ],
   "source": [
    "# определение эмоции на тестовом изображении\n",
    "predicted = model.predict(preprocess_input_facenet(x))\n",
    "emotion_mapping[np.argmax(predicted)]"
   ]
  },
  {
   "cell_type": "code",
   "execution_count": 26,
   "metadata": {
    "execution": {
     "iopub.execute_input": "2022-09-28T17:57:15.688579Z",
     "iopub.status.busy": "2022-09-28T17:57:15.687543Z",
     "iopub.status.idle": "2022-09-28T17:57:15.694050Z",
     "shell.execute_reply": "2022-09-28T17:57:15.692704Z",
     "shell.execute_reply.started": "2022-09-28T17:57:15.688541Z"
    },
    "executionInfo": {
     "elapsed": 352,
     "status": "ok",
     "timestamp": 1671554771999,
     "user": {
      "displayName": "engener64@yandex.ru",
      "userId": "06978561127052537462"
     },
     "user_tz": -240
    },
    "id": "r6OSsy9OWUUn"
   },
   "outputs": [],
   "source": [
    "# создание списка для структруированного по заданию итогового csv-файла из файла \n",
    "def load_list_from_file(path):\n",
    "    f = open(path,'r')\n",
    "    data=f.read()\n",
    "    f.close()\n",
    "    return eval(data)\n",
    "\n",
    "my_list = load_list_from_file('test_list.txt')   "
   ]
  },
  {
   "cell_type": "code",
   "execution_count": null,
   "metadata": {
    "execution": {
     "iopub.execute_input": "2022-09-28T18:03:52.750055Z",
     "iopub.status.busy": "2022-09-28T18:03:52.749536Z",
     "iopub.status.idle": "2022-09-28T18:08:57.913695Z",
     "shell.execute_reply": "2022-09-28T18:08:57.912812Z",
     "shell.execute_reply.started": "2022-09-28T18:03:52.750021Z"
    },
    "id": "B-fUs8RTWUUo"
   },
   "outputs": [],
   "source": [
    "# запись итогового csv-файла\n",
    "with open('submission_vggface.csv', 'w') as f:\n",
    "    fieldnames = ['image_path', 'emotion']\n",
    "    writer = csv.DictWriter(f, fieldnames=fieldnames)\n",
    "    writer.writeheader()\n",
    "    for name in my_list:\n",
    "        img = image.load_img('test_kaggle/'+ name, target_size=(IMAGE_SIZE, IMAGE_SIZE))\n",
    "        x = image.img_to_array(img)\n",
    "        x = np.expand_dims(x, axis=0)\n",
    "        predicted_arr = model.predict(preprocess_input_facenet(x))\n",
    "        predicted = emotion_mapping[np.argmax(predicted_arr)]\n",
    "        writer.writerow({'image_path': name.replace('test_kaggle/', ''), 'emotion': predicted})"
   ]
  },
  {
   "cell_type": "markdown",
   "metadata": {
    "id": "ng_VR-IhWUUo"
   },
   "source": [
    "### Оценки Kaggle\n",
    "\n",
    "Score: 0,53000\n",
    "\n",
    "Public Score:  0,54040"
   ]
  }
 ],
 "metadata": {
  "colab": {
   "provenance": []
  },
  "kernelspec": {
   "display_name": "Python 3 (ipykernel)",
   "language": "python",
   "name": "python3"
  },
  "language_info": {
   "codemirror_mode": {
    "name": "ipython",
    "version": 3
   },
   "file_extension": ".py",
   "mimetype": "text/x-python",
   "name": "python",
   "nbconvert_exporter": "python",
   "pygments_lexer": "ipython3",
   "version": "3.9.13"
  }
 },
 "nbformat": 4,
 "nbformat_minor": 1
}
